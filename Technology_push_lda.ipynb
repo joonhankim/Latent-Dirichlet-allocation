{
 "cells": [
  {
   "cell_type": "code",
   "execution_count": 192,
   "metadata": {},
   "outputs": [
    {
     "data": {
      "text/plain": [
       "3920"
      ]
     },
     "execution_count": 192,
     "metadata": {},
     "output_type": "execute_result"
    }
   ],
   "source": [
    "#크롤링한 데이터 불러오자~ \n",
    "import pandas as pd\n",
    "documents_patent=pd.read_csv(r\"C:\\Users\\eric\\Desktop\\Self_Driving_Patent_recent_5years.csv\",header=0,encoding = 'unicode_escape')\n",
    "len(documents_patent)"
   ]
  },
  {
   "cell_type": "code",
   "execution_count": 193,
   "metadata": {},
   "outputs": [
    {
     "data": {
      "text/html": [
       "<div>\n",
       "<style scoped>\n",
       "    .dataframe tbody tr th:only-of-type {\n",
       "        vertical-align: middle;\n",
       "    }\n",
       "\n",
       "    .dataframe tbody tr th {\n",
       "        vertical-align: top;\n",
       "    }\n",
       "\n",
       "    .dataframe thead th {\n",
       "        text-align: right;\n",
       "    }\n",
       "</style>\n",
       "<table border=\"1\" class=\"dataframe\">\n",
       "  <thead>\n",
       "    <tr style=\"text-align: right;\">\n",
       "      <th></th>\n",
       "      <th>ipc_list</th>\n",
       "      <th>patent_abstract</th>\n",
       "      <th>patent_date</th>\n",
       "      <th>patent_number</th>\n",
       "      <th>patent_title</th>\n",
       "    </tr>\n",
       "  </thead>\n",
       "  <tbody>\n",
       "    <tr>\n",
       "      <th>0</th>\n",
       "      <td>['G01C', 'G05D', 'G06Q', 'G07B']</td>\n",
       "      <td>A delivery server may generate two separate se...</td>\n",
       "      <td>2018-06-19</td>\n",
       "      <td>US10002466</td>\n",
       "      <td>Method and system for providing autonomous car...</td>\n",
       "    </tr>\n",
       "    <tr>\n",
       "      <th>1</th>\n",
       "      <td>['G01C', 'G05D', 'G08G', 'H04B', 'H04W']</td>\n",
       "      <td>Methods, apparatuses, and non-transitory compu...</td>\n",
       "      <td>2018-10-30</td>\n",
       "      <td>US10115305</td>\n",
       "      <td>Optimizing autonomous car's driving time and u...</td>\n",
       "    </tr>\n",
       "    <tr>\n",
       "      <th>2</th>\n",
       "      <td>['B61D', 'B61L', 'E01B']</td>\n",
       "      <td>An  ballast consist for unloading ballast alon...</td>\n",
       "      <td>2018-11-27</td>\n",
       "      <td>US10138603</td>\n",
       "      <td>Autonomous ballast unloading consist</td>\n",
       "    </tr>\n",
       "    <tr>\n",
       "      <th>3</th>\n",
       "      <td>['B61D', 'B61L', 'G05D']</td>\n",
       "      <td>Method and apparatus are disclosed for   seque...</td>\n",
       "      <td>2018-12-04</td>\n",
       "      <td>US10146226</td>\n",
       "      <td>Autonomous vehicle sequential railcar loading ...</td>\n",
       "    </tr>\n",
       "    <tr>\n",
       "      <th>4</th>\n",
       "      <td>['B62D']</td>\n",
       "      <td>The present embodiments relate to a system and...</td>\n",
       "      <td>2019-01-22</td>\n",
       "      <td>US10183697</td>\n",
       "      <td>System and method for controlling autonomous s...</td>\n",
       "    </tr>\n",
       "    <tr>\n",
       "      <th>5</th>\n",
       "      <td>['A61M', 'G05D']</td>\n",
       "      <td>An   is provided that includes an   control sy...</td>\n",
       "      <td>2015-07-14</td>\n",
       "      <td>US9081382</td>\n",
       "      <td>Autonomous vehicle comprising extracorporeal b...</td>\n",
       "    </tr>\n",
       "    <tr>\n",
       "      <th>6</th>\n",
       "      <td>['A61M', 'B60W', 'G01C', 'G05D']</td>\n",
       "      <td>An   is provided that includes an   control sy...</td>\n",
       "      <td>2015-09-08</td>\n",
       "      <td>US9128484</td>\n",
       "      <td>Autonomous vehicle comprising extracorporeal b...</td>\n",
       "    </tr>\n",
       "    <tr>\n",
       "      <th>7</th>\n",
       "      <td>['A61M', 'B60W', 'G05D']</td>\n",
       "      <td>An   is provided that includes an   control sy...</td>\n",
       "      <td>2015-09-08</td>\n",
       "      <td>US9128485</td>\n",
       "      <td>Autonomous vehicle comprising extracorporeal b...</td>\n",
       "    </tr>\n",
       "    <tr>\n",
       "      <th>8</th>\n",
       "      <td>['B08B', 'B60S', 'B60W', 'B62D', 'B64C', 'B64D...</td>\n",
       "      <td>A method for ly  a motor  in a  wash as well a...</td>\n",
       "      <td>2015-09-15</td>\n",
       "      <td>US9132807</td>\n",
       "      <td>Autonomous operation of a motor vehicle in a c...</td>\n",
       "    </tr>\n",
       "    <tr>\n",
       "      <th>9</th>\n",
       "      <td>['B60Q', 'B60S', 'B60W', 'B62D', 'G05D', 'G08G']</td>\n",
       "      <td>A method for ly  a motor  in a  wash to enhanc...</td>\n",
       "      <td>2016-10-25</td>\n",
       "      <td>US9477225</td>\n",
       "      <td>Method for autonomous driving in a car wash an...</td>\n",
       "    </tr>\n",
       "  </tbody>\n",
       "</table>\n",
       "</div>"
      ],
      "text/plain": [
       "                                            ipc_list  \\\n",
       "0                   ['G01C', 'G05D', 'G06Q', 'G07B']   \n",
       "1           ['G01C', 'G05D', 'G08G', 'H04B', 'H04W']   \n",
       "2                           ['B61D', 'B61L', 'E01B']   \n",
       "3                           ['B61D', 'B61L', 'G05D']   \n",
       "4                                           ['B62D']   \n",
       "5                                   ['A61M', 'G05D']   \n",
       "6                   ['A61M', 'B60W', 'G01C', 'G05D']   \n",
       "7                           ['A61M', 'B60W', 'G05D']   \n",
       "8  ['B08B', 'B60S', 'B60W', 'B62D', 'B64C', 'B64D...   \n",
       "9   ['B60Q', 'B60S', 'B60W', 'B62D', 'G05D', 'G08G']   \n",
       "\n",
       "                                     patent_abstract patent_date  \\\n",
       "0  A delivery server may generate two separate se...  2018-06-19   \n",
       "1  Methods, apparatuses, and non-transitory compu...  2018-10-30   \n",
       "2  An  ballast consist for unloading ballast alon...  2018-11-27   \n",
       "3  Method and apparatus are disclosed for   seque...  2018-12-04   \n",
       "4  The present embodiments relate to a system and...  2019-01-22   \n",
       "5  An   is provided that includes an   control sy...  2015-07-14   \n",
       "6  An   is provided that includes an   control sy...  2015-09-08   \n",
       "7  An   is provided that includes an   control sy...  2015-09-08   \n",
       "8  A method for ly  a motor  in a  wash as well a...  2015-09-15   \n",
       "9  A method for ly  a motor  in a  wash to enhanc...  2016-10-25   \n",
       "\n",
       "  patent_number                                       patent_title  \n",
       "0    US10002466  Method and system for providing autonomous car...  \n",
       "1    US10115305  Optimizing autonomous car's driving time and u...  \n",
       "2    US10138603               Autonomous ballast unloading consist  \n",
       "3    US10146226  Autonomous vehicle sequential railcar loading ...  \n",
       "4    US10183697  System and method for controlling autonomous s...  \n",
       "5     US9081382  Autonomous vehicle comprising extracorporeal b...  \n",
       "6     US9128484  Autonomous vehicle comprising extracorporeal b...  \n",
       "7     US9128485  Autonomous vehicle comprising extracorporeal b...  \n",
       "8     US9132807  Autonomous operation of a motor vehicle in a c...  \n",
       "9     US9477225  Method for autonomous driving in a car wash an...  "
      ]
     },
     "execution_count": 193,
     "metadata": {},
     "output_type": "execute_result"
    }
   ],
   "source": [
    "# 어디보자~\n",
    "documents_patent.head(10)"
   ]
  },
  {
   "cell_type": "code",
   "execution_count": 102,
   "metadata": {},
   "outputs": [],
   "source": [
    "# documents_patent.rename(columns={'patent_abstract': '0'}, inplace=True)"
   ]
  },
  {
   "cell_type": "code",
   "execution_count": 147,
   "metadata": {},
   "outputs": [],
   "source": [
    "# documents.to_csv(r'C:\\Users\\eric\\Desktop\\documents.csv', index=False)"
   ]
  },
  {
   "cell_type": "code",
   "execution_count": 148,
   "metadata": {},
   "outputs": [],
   "source": [
    "# documents=pd.read_csv(r\"C:\\Users\\eric\\Desktop\\documents.csv\",header=0,encoding = 'unicode_escape')\n",
    "# documents.head()"
   ]
  },
  {
   "cell_type": "code",
   "execution_count": 116,
   "metadata": {},
   "outputs": [],
   "source": [
    "#import package\n",
    "import re\n",
    "from nltk.tokenize import RegexpTokenizer\n",
    "from stop_words import get_stop_words\n",
    "from nltk.stem.porter import PorterStemmer\n",
    "from gensim import corpora,models\n",
    "import gensim\n",
    "from nltk.stem.wordnet import WordNetLemmatizer\n",
    "from stop_words import get_stop_words\n",
    "from nltk.corpus import stopwords"
   ]
  },
  {
   "cell_type": "code",
   "execution_count": 107,
   "metadata": {},
   "outputs": [],
   "source": [
    "Lem = WordNetLemmatizer()"
   ]
  },
  {
   "cell_type": "code",
   "execution_count": 223,
   "metadata": {},
   "outputs": [],
   "source": [
    "def preprocess(text):\n",
    "    result = []\n",
    "    for token in gensim.utils.simple_preprocess(text):\n",
    "        if token not in gensim.parsing.preprocessing.STOPWORDS and len(token) > 3:\n",
    "            result.append(Lem.lemmatize(token,pos=\"n\"))\n",
    "    return result"
   ]
  },
  {
   "cell_type": "code",
   "execution_count": 224,
   "metadata": {},
   "outputs": [
    {
     "data": {
      "text/plain": [
       "0    [delivery, server, generate, separate, securit...\n",
       "1    [method, apparatus, transitory, readable, stor...\n",
       "2    [ballast, consist, unloading, ballast, railway...\n",
       "3    [method, apparatus, disclosed, sequential, loa...\n",
       "4    [present, embodiment, relate, method, controll...\n",
       "5    [provided, includes, control, dialysis, machin...\n",
       "6    [provided, includes, control, dialysis, machin...\n",
       "7    [provided, includes, control, dialysis, machin...\n",
       "8    [method, motor, wash, corresponding, wash, pro...\n",
       "9    [method, motor, wash, enhance, comfort, safety...\n",
       "Name: patent_abstract, dtype: object"
      ]
     },
     "execution_count": 224,
     "metadata": {},
     "output_type": "execute_result"
    }
   ],
   "source": [
    "processed_docs = documents_patent['patent_abstract'].map(preprocess)\n",
    "processed_docs[:10]"
   ]
  },
  {
   "cell_type": "code",
   "execution_count": 225,
   "metadata": {},
   "outputs": [],
   "source": [
    "stop_words = stopwords.words('english')\n",
    "stop_words_selfD = ['self', 'driving', 'car', 'autonomous','vehicle ', 'vehicle','driverless','\\'','\\'a',\"'\"]\n",
    "stop_words.extend(stop_words_selfD)"
   ]
  },
  {
   "cell_type": "code",
   "execution_count": 244,
   "metadata": {},
   "outputs": [
    {
     "data": {
      "text/plain": [
       "189"
      ]
     },
     "execution_count": 244,
     "metadata": {},
     "output_type": "execute_result"
    }
   ],
   "source": [
    "len(stop_words)"
   ]
  },
  {
   "cell_type": "code",
   "execution_count": 226,
   "metadata": {},
   "outputs": [],
   "source": [
    "# 불용어제거하자~\n",
    "stopped_processed_docs = []\n",
    "for word in processed_docs:\n",
    "    if word not in stop_words:\n",
    "        stopped_processed_docs.append(word)\n",
    "        "
   ]
  },
  {
   "cell_type": "code",
   "execution_count": 154,
   "metadata": {},
   "outputs": [],
   "source": [
    "# stopped_processed_docs[0]"
   ]
  },
  {
   "cell_type": "code",
   "execution_count": 227,
   "metadata": {},
   "outputs": [
    {
     "name": "stdout",
     "output_type": "stream",
     "text": [
      "0 authenticate\n",
      "1 automatically\n",
      "2 code\n",
      "3 combination\n",
      "4 combined\n",
      "5 comparing\n",
      "6 create\n",
      "7 delivery\n",
      "8 exchange\n",
      "9 following\n",
      "10 generate\n"
     ]
    }
   ],
   "source": [
    "dictionary = gensim.corpora.Dictionary(stopped_processed_docs)\n",
    "count = 0\n",
    "for k, v in dictionary.iteritems():\n",
    "    print(k, v)\n",
    "    count += 1\n",
    "    if count > 10:\n",
    "        break"
   ]
  },
  {
   "cell_type": "code",
   "execution_count": 228,
   "metadata": {},
   "outputs": [],
   "source": [
    "dictionary.filter_extremes(no_below=15, no_above=0.5, keep_n=100000)"
   ]
  },
  {
   "cell_type": "code",
   "execution_count": 229,
   "metadata": {},
   "outputs": [],
   "source": [
    "bow_corpus = [dictionary.doc2bow(doc) for doc in stopped_processed_docs]"
   ]
  },
  {
   "cell_type": "code",
   "execution_count": 158,
   "metadata": {},
   "outputs": [],
   "source": [
    "# 필요한 팩히지 로드~~~\n",
    "import json\n",
    "import warnings\n",
    "import pyLDAvis.gensim\n",
    "from gensim.models.coherencemodel import CoherenceModel\n",
    "from gensim.models.ldamodel import LdaModel\n",
    "from gensim.corpora.dictionary import Dictionary\n",
    "import time\n",
    "from tqdm import tqdm"
   ]
  },
  {
   "cell_type": "code",
   "execution_count": 159,
   "metadata": {},
   "outputs": [
    {
     "name": "stderr",
     "output_type": "stream",
     "text": [
      "\n",
      "  0%|                                                                                           | 0/20 [00:00<?, ?it/s]"
     ]
    },
    {
     "name": "stdout",
     "output_type": "stream",
     "text": [
      "epoch 5 29.89413857460022\n",
      "Cpherence -2.3545572945203554\n"
     ]
    },
    {
     "name": "stderr",
     "output_type": "stream",
     "text": [
      "\n",
      "  5%|████▏                                                                              | 1/20 [00:30<09:30, 30.01s/it]"
     ]
    },
    {
     "name": "stdout",
     "output_type": "stream",
     "text": [
      "epoch 10 49.359002351760864\n",
      "Cpherence -2.7422372068058984\n"
     ]
    },
    {
     "name": "stderr",
     "output_type": "stream",
     "text": [
      "\n",
      " 10%|████████▎                                                                          | 2/20 [01:19<10:45, 35.84s/it]"
     ]
    },
    {
     "name": "stdout",
     "output_type": "stream",
     "text": [
      "epoch 15 67.94636583328247\n",
      "Cpherence -2.7040758143239207\n"
     ]
    },
    {
     "name": "stderr",
     "output_type": "stream",
     "text": [
      "\n",
      " 15%|████████████▍                                                                      | 3/20 [02:27<12:53, 45.50s/it]"
     ]
    },
    {
     "name": "stdout",
     "output_type": "stream",
     "text": [
      "epoch 20 87.25960803031921\n",
      "Cpherence -2.4377962733042486\n"
     ]
    },
    {
     "name": "stderr",
     "output_type": "stream",
     "text": [
      "\n",
      " 20%|████████████████▌                                                                  | 4/20 [03:54<15:28, 58.05s/it]"
     ]
    },
    {
     "name": "stdout",
     "output_type": "stream",
     "text": [
      "epoch 25 106.13910460472107\n",
      "Cpherence -2.3689784806977148\n"
     ]
    },
    {
     "name": "stderr",
     "output_type": "stream",
     "text": [
      "\n",
      " 25%|████████████████████▊                                                              | 5/20 [05:41<18:07, 72.51s/it]"
     ]
    },
    {
     "name": "stdout",
     "output_type": "stream",
     "text": [
      "epoch 30 119.44970083236694\n",
      "Cpherence -2.231144555321933\n"
     ]
    },
    {
     "name": "stderr",
     "output_type": "stream",
     "text": [
      "\n",
      " 30%|████████████████████████▉                                                          | 6/20 [07:40<20:12, 86.62s/it]"
     ]
    },
    {
     "name": "stdout",
     "output_type": "stream",
     "text": [
      "epoch 35 146.53903913497925\n",
      "Cpherence -2.5336830388011604\n"
     ]
    },
    {
     "name": "stderr",
     "output_type": "stream",
     "text": [
      "\n",
      " 35%|████████████████████████████▋                                                     | 7/20 [10:07<22:40, 104.63s/it]"
     ]
    },
    {
     "name": "stdout",
     "output_type": "stream",
     "text": [
      "epoch 40 173.03006052970886\n",
      "Cpherence -2.4282307447190465\n"
     ]
    },
    {
     "name": "stderr",
     "output_type": "stream",
     "text": [
      "\n",
      " 40%|████████████████████████████████▊                                                 | 8/20 [13:00<25:02, 125.17s/it]"
     ]
    },
    {
     "name": "stdout",
     "output_type": "stream",
     "text": [
      "epoch 45 181.9682948589325\n",
      "Cpherence -2.480619136080056\n"
     ]
    },
    {
     "name": "stderr",
     "output_type": "stream",
     "text": [
      "\n",
      " 45%|████████████████████████████████████▉                                             | 9/20 [16:02<26:04, 142.24s/it]"
     ]
    },
    {
     "name": "stdout",
     "output_type": "stream",
     "text": [
      "epoch 50 198.02634239196777\n",
      "Cpherence -2.8039116697852724\n"
     ]
    },
    {
     "name": "stderr",
     "output_type": "stream",
     "text": [
      "\n",
      " 50%|████████████████████████████████████████▌                                        | 10/20 [19:20<26:30, 159.01s/it]"
     ]
    },
    {
     "name": "stdout",
     "output_type": "stream",
     "text": [
      "epoch 55 219.1769962310791\n",
      "Cpherence -2.493605454182658\n"
     ]
    },
    {
     "name": "stderr",
     "output_type": "stream",
     "text": [
      "\n",
      " 55%|████████████████████████████████████████████▌                                    | 11/20 [22:59<26:33, 177.08s/it]"
     ]
    },
    {
     "name": "stdout",
     "output_type": "stream",
     "text": [
      "epoch 60 235.40136861801147\n",
      "Cpherence -2.4893753292313034\n"
     ]
    },
    {
     "name": "stderr",
     "output_type": "stream",
     "text": [
      "\n",
      " 60%|████████████████████████████████████████████████▌                                | 12/20 [26:55<25:56, 194.61s/it]"
     ]
    },
    {
     "name": "stdout",
     "output_type": "stream",
     "text": [
      "epoch 65 275.3312773704529\n",
      "Cpherence -2.533386021983392\n"
     ]
    },
    {
     "name": "stderr",
     "output_type": "stream",
     "text": [
      "\n",
      " 65%|████████████████████████████████████████████████████▋                            | 13/20 [31:30<25:31, 218.86s/it]"
     ]
    },
    {
     "name": "stdout",
     "output_type": "stream",
     "text": [
      "epoch 70 299.8489863872528\n",
      "Cpherence -2.3323504981839704\n"
     ]
    },
    {
     "name": "stderr",
     "output_type": "stream",
     "text": [
      "\n",
      " 70%|████████████████████████████████████████████████████████▋                        | 14/20 [36:30<24:19, 243.18s/it]"
     ]
    },
    {
     "name": "stdout",
     "output_type": "stream",
     "text": [
      "epoch 75 321.8359022140503\n",
      "Cpherence -2.2611019548905196\n"
     ]
    },
    {
     "name": "stderr",
     "output_type": "stream",
     "text": [
      "\n",
      " 75%|████████████████████████████████████████████████████████████▊                    | 15/20 [41:52<22:14, 266.81s/it]"
     ]
    },
    {
     "name": "stdout",
     "output_type": "stream",
     "text": [
      "epoch 80 338.35583305358887\n",
      "Cpherence -2.574899034383721\n"
     ]
    },
    {
     "name": "stderr",
     "output_type": "stream",
     "text": [
      "\n",
      " 80%|████████████████████████████████████████████████████████████████▊                | 16/20 [47:31<19:13, 288.30s/it]"
     ]
    },
    {
     "name": "stdout",
     "output_type": "stream",
     "text": [
      "epoch 85 372.51707911491394\n",
      "Cpherence -2.5515569221544694\n"
     ]
    },
    {
     "name": "stderr",
     "output_type": "stream",
     "text": [
      "\n",
      " 85%|████████████████████████████████████████████████████████████████████▊            | 17/20 [53:43<15:40, 313.60s/it]"
     ]
    },
    {
     "name": "stdout",
     "output_type": "stream",
     "text": [
      "epoch 90 382.70464277267456\n",
      "Cpherence -2.5830067464949087\n"
     ]
    },
    {
     "name": "stderr",
     "output_type": "stream",
     "text": [
      "\n",
      " 90%|███████████████████████████████████████████████████████████████████████        | 18/20 [1:00:06<11:08, 334.36s/it]"
     ]
    },
    {
     "name": "stdout",
     "output_type": "stream",
     "text": [
      "epoch 95 394.2855689525604\n",
      "Cpherence -2.213337762560566\n"
     ]
    },
    {
     "name": "stderr",
     "output_type": "stream",
     "text": [
      "\n",
      " 95%|███████████████████████████████████████████████████████████████████████████    | 19/20 [1:06:40<05:52, 352.37s/it]"
     ]
    },
    {
     "name": "stdout",
     "output_type": "stream",
     "text": [
      "epoch 100 432.1385486125946\n",
      "Cpherence -2.4310924837356778\n"
     ]
    },
    {
     "name": "stderr",
     "output_type": "stream",
     "text": [
      "\n",
      "100%|███████████████████████████████████████████████████████████████████████████████| 20/20 [1:13:53<00:00, 376.33s/it]"
     ]
    }
   ],
   "source": [
    "# 패스별 코히 확인\n",
    "coherences=[]\n",
    "perplexities=[]\n",
    "passes=[]\n",
    "warnings.filterwarnings('ignore')\n",
    "\n",
    "for i in tqdm(range(20)):\n",
    "    \n",
    "    ntopics, nwords = 10, 10\n",
    "    if i==0:\n",
    "        p=5\n",
    "    else:\n",
    "        p=(i+1)*5\n",
    "    tic = time.time()\n",
    "    lda4 = gensim.models.LdaMulticore(bow_corpus, num_topics=ntopics, id2word=dictionary, passes=p, workers=4)\n",
    "    print('epoch',p,time.time() - tic)\n",
    "    passes.append(p)\n",
    "    # tfidf, corpus 무슨 차이?\n",
    "    # lda = models.ldamodel.LdaModel(corpus, id2word=dictionary, num_topics=ntopics, iterations=200000)\n",
    "\n",
    "    cm = CoherenceModel(model=lda4, corpus=bow_corpus, coherence='u_mass')\n",
    "    coherence = cm.get_coherence()\n",
    "    print(\"Cpherence\",coherence)\n",
    "    coherences.append(coherence)\n",
    "#     print('Perplexity: ', lda4.log_perplexity(bow_corpus),'\\n\\n')\n",
    "#     perplexities.append(lda4.log_perplexity(bow_corpus))"
   ]
  },
  {
   "cell_type": "code",
   "execution_count": 160,
   "metadata": {},
   "outputs": [],
   "source": [
    "# for pyplot\n",
    "import matplotlib.pyplot as plt"
   ]
  },
  {
   "cell_type": "code",
   "execution_count": 161,
   "metadata": {},
   "outputs": [
    {
     "data": {
      "text/plain": [
       "Text(0.5, 0, 'passes')"
      ]
     },
     "execution_count": 161,
     "metadata": {},
     "output_type": "execute_result"
    },
    {
     "data": {
      "image/png": "[encoded data removed]",
      "text/plain": [
       "<Figure size 432x288 with 1 Axes>"
      ]
     },
     "metadata": {
      "needs_background": "light"
     },
     "output_type": "display_data"
    }
   ],
   "source": [
    "plt.plot(passes,coherences)\n",
    "plt.ylabel('coherences')\n",
    "plt.xlabel('passes')"
   ]
  },
  {
   "cell_type": "code",
   "execution_count": 178,
   "metadata": {},
   "outputs": [
    {
     "name": "stderr",
     "output_type": "stream",
     "text": [
      "\n",
      "\n",
      "\n",
      "\n",
      "\n",
      "\n",
      "  0%|                                                                                           | 0/20 [00:00<?, ?it/s]"
     ]
    },
    {
     "name": "stdout",
     "output_type": "stream",
     "text": [
      "LdaModel(num_terms=1370, num_topics=5, decay=0.5, chunksize=2000)\n",
      "ntopics 5 407.1623446941376\n",
      "Cpherence -2.047103433435815\n"
     ]
    },
    {
     "name": "stderr",
     "output_type": "stream",
     "text": [
      "\n",
      "\n",
      "\n",
      "\n",
      "\n",
      "\n",
      "  5%|████                                                                            | 1/20 [06:47<2:08:57, 407.24s/it]"
     ]
    },
    {
     "name": "stdout",
     "output_type": "stream",
     "text": [
      "LdaModel(num_terms=1370, num_topics=10, decay=0.5, chunksize=2000)\n",
      "ntopics 10 402.4186534881592\n",
      "Cpherence -2.5331657608445752\n"
     ]
    },
    {
     "name": "stderr",
     "output_type": "stream",
     "text": [
      "\n",
      "\n",
      "\n",
      "\n",
      "\n",
      "\n",
      " 10%|████████                                                                        | 2/20 [13:29<2:01:44, 405.83s/it]"
     ]
    },
    {
     "name": "stdout",
     "output_type": "stream",
     "text": [
      "LdaModel(num_terms=1370, num_topics=15, decay=0.5, chunksize=2000)\n",
      "ntopics 15 383.01657795906067\n",
      "Cpherence -2.809689533444091\n"
     ]
    },
    {
     "name": "stderr",
     "output_type": "stream",
     "text": [
      "\n",
      "\n",
      "\n",
      "\n",
      "\n",
      "\n",
      " 15%|████████████                                                                    | 3/20 [19:52<1:53:03, 399.02s/it]"
     ]
    },
    {
     "name": "stdout",
     "output_type": "stream",
     "text": [
      "LdaModel(num_terms=1370, num_topics=20, decay=0.5, chunksize=2000)\n",
      "ntopics 20 372.0568497180939\n",
      "Cpherence -3.127348624842386\n"
     ]
    },
    {
     "name": "stderr",
     "output_type": "stream",
     "text": [
      "\n",
      "\n",
      "\n",
      "\n",
      "\n",
      "\n",
      " 20%|████████████████                                                                | 4/20 [26:05<1:44:15, 390.97s/it]"
     ]
    },
    {
     "name": "stdout",
     "output_type": "stream",
     "text": [
      "LdaModel(num_terms=1370, num_topics=25, decay=0.5, chunksize=2000)\n",
      "ntopics 25 363.14270305633545\n",
      "Cpherence -3.525747219702164\n"
     ]
    },
    {
     "name": "stderr",
     "output_type": "stream",
     "text": [
      "\n",
      "\n",
      "\n",
      "\n",
      "\n",
      "\n",
      " 25%|████████████████████                                                            | 5/20 [32:08<1:35:39, 382.66s/it]"
     ]
    },
    {
     "name": "stdout",
     "output_type": "stream",
     "text": [
      "LdaModel(num_terms=1370, num_topics=30, decay=0.5, chunksize=2000)\n",
      "ntopics 30 352.78967332839966\n",
      "Cpherence -3.4945025542793298\n"
     ]
    },
    {
     "name": "stderr",
     "output_type": "stream",
     "text": [
      "\n",
      "\n",
      "\n",
      "\n",
      "\n",
      "\n",
      " 30%|████████████████████████                                                        | 6/20 [38:01<1:27:12, 373.74s/it]"
     ]
    },
    {
     "name": "stdout",
     "output_type": "stream",
     "text": [
      "LdaModel(num_terms=1370, num_topics=35, decay=0.5, chunksize=2000)\n",
      "ntopics 35 347.23927092552185\n",
      "Cpherence -3.8990475395741817\n"
     ]
    },
    {
     "name": "stderr",
     "output_type": "stream",
     "text": [
      "\n",
      "\n",
      "\n",
      "\n",
      "\n",
      "\n",
      " 35%|████████████████████████████                                                    | 7/20 [43:48<1:19:15, 365.84s/it]"
     ]
    },
    {
     "name": "stdout",
     "output_type": "stream",
     "text": [
      "LdaModel(num_terms=1370, num_topics=40, decay=0.5, chunksize=2000)\n",
      "ntopics 40 372.63929891586304\n",
      "Cpherence -3.7959925412671893\n"
     ]
    },
    {
     "name": "stderr",
     "output_type": "stream",
     "text": [
      "\n",
      "\n",
      "\n",
      "\n",
      "\n",
      "\n",
      " 40%|████████████████████████████████                                                | 8/20 [50:01<1:13:35, 367.93s/it]"
     ]
    },
    {
     "name": "stdout",
     "output_type": "stream",
     "text": [
      "LdaModel(num_terms=1370, num_topics=45, decay=0.5, chunksize=2000)\n",
      "ntopics 45 372.1685619354248\n",
      "Cpherence -3.9066458422114074\n"
     ]
    },
    {
     "name": "stderr",
     "output_type": "stream",
     "text": [
      "\n",
      "\n",
      "\n",
      "\n",
      "\n",
      "\n",
      " 45%|████████████████████████████████████                                            | 9/20 [56:13<1:07:41, 369.26s/it]"
     ]
    },
    {
     "name": "stdout",
     "output_type": "stream",
     "text": [
      "LdaModel(num_terms=1370, num_topics=50, decay=0.5, chunksize=2000)\n",
      "ntopics 50 367.1968972682953\n",
      "Cpherence -4.031271949705619\n"
     ]
    },
    {
     "name": "stderr",
     "output_type": "stream",
     "text": [
      "\n",
      "\n",
      "\n",
      "\n",
      "\n",
      "\n",
      " 50%|██████████████████████████████████████▌                                      | 10/20 [1:02:21<1:01:26, 368.69s/it]"
     ]
    },
    {
     "name": "stdout",
     "output_type": "stream",
     "text": [
      "LdaModel(num_terms=1370, num_topics=55, decay=0.5, chunksize=2000)\n",
      "ntopics 55 360.70622181892395\n",
      "Cpherence -4.046061304138443\n"
     ]
    },
    {
     "name": "stderr",
     "output_type": "stream",
     "text": [
      "\n",
      "\n",
      "\n",
      "\n",
      "\n",
      "\n",
      " 55%|███████████████████████████████████████████▍                                   | 11/20 [1:08:22<54:57, 366.36s/it]"
     ]
    },
    {
     "name": "stdout",
     "output_type": "stream",
     "text": [
      "LdaModel(num_terms=1370, num_topics=60, decay=0.5, chunksize=2000)\n",
      "ntopics 60 359.64904832839966\n",
      "Cpherence -4.252298912292939\n"
     ]
    },
    {
     "name": "stderr",
     "output_type": "stream",
     "text": [
      "\n",
      "\n",
      "\n",
      "\n",
      "\n",
      "\n",
      " 60%|███████████████████████████████████████████████▍                               | 12/20 [1:14:21<48:35, 364.41s/it]"
     ]
    },
    {
     "name": "stdout",
     "output_type": "stream",
     "text": [
      "LdaModel(num_terms=1370, num_topics=65, decay=0.5, chunksize=2000)\n",
      "ntopics 65 362.18526434898376\n",
      "Cpherence -4.4284898465084295\n"
     ]
    },
    {
     "name": "stderr",
     "output_type": "stream",
     "text": [
      "\n",
      "\n",
      "\n",
      "\n",
      "\n",
      "\n",
      " 65%|███████████████████████████████████████████████████▎                           | 13/20 [1:20:24<42:26, 363.80s/it]"
     ]
    },
    {
     "name": "stdout",
     "output_type": "stream",
     "text": [
      "LdaModel(num_terms=1370, num_topics=70, decay=0.5, chunksize=2000)\n",
      "ntopics 70 366.6383624076843\n",
      "Cpherence -4.618498246852731\n"
     ]
    },
    {
     "name": "stderr",
     "output_type": "stream",
     "text": [
      "\n",
      "\n",
      "\n",
      "\n",
      "\n",
      "\n",
      " 70%|███████████████████████████████████████████████████████▎                       | 14/20 [1:26:31<36:28, 364.72s/it]"
     ]
    },
    {
     "name": "stdout",
     "output_type": "stream",
     "text": [
      "LdaModel(num_terms=1370, num_topics=75, decay=0.5, chunksize=2000)\n",
      "ntopics 75 395.6427733898163\n",
      "Cpherence -4.455702745314529\n"
     ]
    },
    {
     "name": "stderr",
     "output_type": "stream",
     "text": [
      "\n",
      "\n",
      "\n",
      "\n",
      "\n",
      "\n",
      " 75%|███████████████████████████████████████████████████████████▎                   | 15/20 [1:33:07<31:10, 374.06s/it]"
     ]
    },
    {
     "name": "stdout",
     "output_type": "stream",
     "text": [
      "LdaModel(num_terms=1370, num_topics=80, decay=0.5, chunksize=2000)\n",
      "ntopics 80 491.8514699935913\n",
      "Cpherence -4.479696379733107\n"
     ]
    },
    {
     "name": "stderr",
     "output_type": "stream",
     "text": [
      "\n",
      "\n",
      "\n",
      "\n",
      "\n",
      "\n",
      " 80%|███████████████████████████████████████████████████████████████▏               | 16/20 [1:41:19<27:17, 409.47s/it]"
     ]
    },
    {
     "name": "stdout",
     "output_type": "stream",
     "text": [
      "LdaModel(num_terms=1370, num_topics=85, decay=0.5, chunksize=2000)\n",
      "ntopics 85 521.9978120326996\n",
      "Cpherence -4.625242684400287\n"
     ]
    },
    {
     "name": "stderr",
     "output_type": "stream",
     "text": [
      "\n",
      "\n",
      "\n",
      "\n",
      "\n",
      "\n",
      " 85%|███████████████████████████████████████████████████████████████████▏           | 17/20 [1:50:01<22:09, 443.31s/it]"
     ]
    },
    {
     "name": "stdout",
     "output_type": "stream",
     "text": [
      "LdaModel(num_terms=1370, num_topics=90, decay=0.5, chunksize=2000)\n",
      "ntopics 90 537.8753461837769\n",
      "Cpherence -4.496695692653806\n"
     ]
    },
    {
     "name": "stderr",
     "output_type": "stream",
     "text": [
      "\n",
      "\n",
      "\n",
      "\n",
      "\n",
      "\n",
      " 90%|███████████████████████████████████████████████████████████████████████        | 18/20 [1:58:59<15:43, 471.75s/it]"
     ]
    },
    {
     "name": "stdout",
     "output_type": "stream",
     "text": [
      "LdaModel(num_terms=1370, num_topics=95, decay=0.5, chunksize=2000)\n",
      "ntopics 95 537.5661633014679\n",
      "Cpherence -4.624930628784678\n"
     ]
    },
    {
     "name": "stderr",
     "output_type": "stream",
     "text": [
      "\n",
      "\n",
      "\n",
      "\n",
      "\n",
      "\n",
      " 95%|███████████████████████████████████████████████████████████████████████████    | 19/20 [2:07:57<08:11, 491.57s/it]"
     ]
    },
    {
     "name": "stdout",
     "output_type": "stream",
     "text": [
      "LdaModel(num_terms=1370, num_topics=100, decay=0.5, chunksize=2000)\n",
      "ntopics 100 413.4451570510864\n",
      "Cpherence -4.718745719169625\n"
     ]
    },
    {
     "name": "stderr",
     "output_type": "stream",
     "text": [
      "\n",
      "\n",
      "\n",
      "\n",
      "\n",
      "\n",
      "100%|███████████████████████████████████████████████████████████████████████████████| 20/20 [2:14:51<00:00, 468.21s/it]"
     ]
    }
   ],
   "source": [
    "# 토픽별 코히 확인\n",
    "coherencesT=[]\n",
    "ntopics_=[]\n",
    "warnings.filterwarnings('ignore')\n",
    "lda_model=[]\n",
    "for i in tqdm(range(20)):\n",
    "    if i==0:\n",
    "        ntopics = 5\n",
    "    else:\n",
    "        ntopics = 5*(i+1)\n",
    "    nwords = 10\n",
    "    tic = time.time()\n",
    "    lda_ntopics = gensim.models.LdaMulticore(bow_corpus, num_topics=ntopics, id2word=dictionary, iterations=1000, passes=95, workers=4,random_state=42)\n",
    "    print(lda_ntopics)\n",
    "    lda_model.append(lda_ntopics)\n",
    "    print('ntopics',ntopics,time.time() - tic)\n",
    "    ntopics_.append(ntopics)\n",
    "    cm = CoherenceModel(model=lda_ntopics, corpus=bow_corpus, coherence='u_mass')\n",
    "    coherence = cm.get_coherence()\n",
    "    print(\"Cpherence\",coherence)\n",
    "    coherencesT.append(coherence)\n"
   ]
  },
  {
   "cell_type": "code",
   "execution_count": 179,
   "metadata": {},
   "outputs": [
    {
     "data": {
      "text/plain": [
       "Text(0.5, 0, 'ntopics')"
      ]
     },
     "execution_count": 179,
     "metadata": {},
     "output_type": "execute_result"
    },
    {
     "data": {
      "image/png": "[encoded data removed]",
      "text/plain": [
       "<Figure size 432x288 with 1 Axes>"
      ]
     },
     "metadata": {
      "needs_background": "light"
     },
     "output_type": "display_data"
    }
   ],
   "source": [
    "# 코히 확인\n",
    "plt.plot(ntopics_,coherencesT)\n",
    "plt.ylabel('coherences')\n",
    "plt.xlabel('ntopics')"
   ]
  },
  {
   "cell_type": "code",
   "execution_count": 183,
   "metadata": {},
   "outputs": [
    {
     "name": "stderr",
     "output_type": "stream",
     "text": [
      "\n",
      "\n",
      "\n",
      "\n",
      "\n",
      "\n",
      "  0%|                                                                                            | 0/6 [00:00<?, ?it/s]"
     ]
    },
    {
     "name": "stdout",
     "output_type": "stream",
     "text": [
      "ntopics 5 409.959374666214\n",
      "Cpherence -2.047103433435815\n"
     ]
    },
    {
     "name": "stderr",
     "output_type": "stream",
     "text": [
      "\n",
      "\n",
      "\n",
      "\n",
      "\n",
      "\n",
      " 17%|█████████████▊                                                                     | 1/6 [06:50<34:10, 410.03s/it]"
     ]
    },
    {
     "name": "stdout",
     "output_type": "stream",
     "text": [
      "ntopics 6 400.6792998313904\n",
      "Cpherence -2.135585065003671\n"
     ]
    },
    {
     "name": "stderr",
     "output_type": "stream",
     "text": [
      "\n",
      "\n",
      "\n",
      "\n",
      "\n",
      "\n",
      " 33%|███████████████████████████▋                                                       | 2/6 [13:30<27:08, 407.25s/it]"
     ]
    },
    {
     "name": "stdout",
     "output_type": "stream",
     "text": [
      "ntopics 7 395.78043818473816\n",
      "Cpherence -2.0590942036052753\n"
     ]
    },
    {
     "name": "stderr",
     "output_type": "stream",
     "text": [
      "\n",
      "\n",
      "\n",
      "\n",
      "\n",
      "\n",
      " 50%|█████████████████████████████████████████▌                                         | 3/6 [20:06<20:11, 403.83s/it]"
     ]
    },
    {
     "name": "stdout",
     "output_type": "stream",
     "text": [
      "ntopics 8 411.1692485809326\n",
      "Cpherence -2.21914591548658\n"
     ]
    },
    {
     "name": "stderr",
     "output_type": "stream",
     "text": [
      "\n",
      "\n",
      "\n",
      "\n",
      "\n",
      "\n",
      " 67%|███████████████████████████████████████████████████████▎                           | 4/6 [26:57<13:32, 406.06s/it]"
     ]
    },
    {
     "name": "stdout",
     "output_type": "stream",
     "text": [
      "ntopics 9 398.7724072933197\n",
      "Cpherence -2.276676461008442\n"
     ]
    },
    {
     "name": "stderr",
     "output_type": "stream",
     "text": [
      "\n",
      "\n",
      "\n",
      "\n",
      "\n",
      "\n",
      " 83%|█████████████████████████████████████████████████████████████████████▏             | 5/6 [33:36<06:43, 403.90s/it]"
     ]
    },
    {
     "name": "stdout",
     "output_type": "stream",
     "text": [
      "ntopics 10 401.3844087123871\n",
      "Cpherence -2.5331657608445752\n"
     ]
    },
    {
     "name": "stderr",
     "output_type": "stream",
     "text": [
      "\n",
      "\n",
      "\n",
      "\n",
      "\n",
      "\n",
      "100%|███████████████████████████████████████████████████████████████████████████████████| 6/6 [40:18<00:00, 403.17s/it]"
     ]
    }
   ],
   "source": [
    "coherencesT_1=[]\n",
    "ntopics_1=[]\n",
    "warnings.filterwarnings('ignore')\n",
    "\n",
    "for i in tqdm(range(6)):\n",
    "    if i==0:\n",
    "        ntopics = 5\n",
    "    else:\n",
    "        ntopics = (i+5)\n",
    "    nwords = 10\n",
    "    tic = time.time()\n",
    "    lda_ntopics = gensim.models.LdaMulticore(bow_corpus, num_topics=ntopics, id2word=dictionary, iterations=1000, passes=95, workers=4,random_state=42)\n",
    "    print('ntopics',ntopics,time.time() - tic)\n",
    "    ntopics_1.append(ntopics)\n",
    "    cm = CoherenceModel(model=lda_ntopics, corpus=bow_corpus, coherence='u_mass')\n",
    "    coherence = cm.get_coherence()\n",
    "    print(\"Cpherence\",coherence)\n",
    "    coherencesT_1.append(coherence)\n"
   ]
  },
  {
   "cell_type": "code",
   "execution_count": 222,
   "metadata": {},
   "outputs": [
    {
     "data": {
      "text/plain": [
       "Text(0.5, 0, 'ntopics')"
      ]
     },
     "execution_count": 222,
     "metadata": {},
     "output_type": "execute_result"
    },
    {
     "data": {
      "image/png": "[encoded data removed]",
      "text/plain": [
       "<Figure size 432x288 with 1 Axes>"
      ]
     },
     "metadata": {
      "needs_background": "light"
     },
     "output_type": "display_data"
    }
   ],
   "source": [
    "# 코히 확인\n",
    "plt.plot(ntopics_1,coherencesT_1)\n",
    "plt.ylabel('coherences')\n",
    "plt.xlabel('ntopics')"
   ]
  },
  {
   "cell_type": "code",
   "execution_count": 221,
   "metadata": {},
   "outputs": [],
   "source": [
    "##############################  모델 적용 ###############################"
   ]
  },
  {
   "cell_type": "code",
   "execution_count": 235,
   "metadata": {},
   "outputs": [],
   "source": [
    "lda_model = gensim.models.LdaMulticore(bow_corpus, num_topics=10\n",
    "                                       , id2word=dictionary, passes=95, workers=4,random_state=42)"
   ]
  },
  {
   "cell_type": "code",
   "execution_count": 241,
   "metadata": {},
   "outputs": [
    {
     "name": "stdout",
     "output_type": "stream",
     "text": [
      "Cpherence -2.6004974144755724\n"
     ]
    }
   ],
   "source": [
    "cm = CoherenceModel(model=lda_model, corpus=bow_corpus, coherence='u_mass')\n",
    "coherence = cm.get_coherence()\n",
    "print(\"Cpherence\",coherence)"
   ]
  },
  {
   "cell_type": "code",
   "execution_count": 242,
   "metadata": {},
   "outputs": [
    {
     "name": "stdout",
     "output_type": "stream",
     "text": [
      "Topic: 0 \n",
      "Words: 0.023*\"wheel\" + 0.021*\"assembly\" + 0.017*\"body\" + 0.016*\"includes\" + 0.014*\"device\" + 0.014*\"member\" + 0.012*\"second\" + 0.011*\"having\" + 0.011*\"frame\" + 0.011*\"position\"\n",
      "Topic: 1 \n",
      "Words: 0.045*\"information\" + 0.027*\"based\" + 0.026*\"location\" + 0.025*\"method\" + 0.022*\"path\" + 0.021*\"position\" + 0.018*\"route\" + 0.014*\"data\" + 0.014*\"road\" + 0.014*\"lane\"\n",
      "Topic: 2 \n",
      "Words: 0.041*\"device\" + 0.029*\"object\" + 0.025*\"traffic\" + 0.019*\"mean\" + 0.017*\"sensor\" + 0.016*\"method\" + 0.016*\"particular\" + 0.013*\"invention\" + 0.012*\"fuel\" + 0.011*\"example\"\n",
      "Topic: 3 \n",
      "Words: 0.045*\"control\" + 0.041*\"mode\" + 0.017*\"user\" + 0.014*\"display\" + 0.014*\"processor\" + 0.013*\"condition\" + 0.013*\"manual\" + 0.012*\"communication\" + 0.012*\"passenger\" + 0.012*\"method\"\n",
      "Topic: 4 \n",
      "Words: 0.059*\"circuit\" + 0.036*\"signal\" + 0.028*\"touch\" + 0.026*\"voltage\" + 0.024*\"electrode\" + 0.019*\"device\" + 0.019*\"sensing\" + 0.019*\"output\" + 0.017*\"control\" + 0.016*\"input\"\n",
      "Topic: 5 \n",
      "Words: 0.041*\"data\" + 0.023*\"control\" + 0.019*\"operation\" + 0.018*\"based\" + 0.017*\"speed\" + 0.017*\"method\" + 0.017*\"sensor\" + 0.015*\"second\" + 0.015*\"value\" + 0.014*\"time\"\n",
      "Topic: 6 \n",
      "Words: 0.047*\"power\" + 0.030*\"steering\" + 0.025*\"motor\" + 0.024*\"control\" + 0.018*\"unit\" + 0.017*\"engine\" + 0.017*\"electric\" + 0.015*\"module\" + 0.015*\"supply\" + 0.014*\"wheel\"\n",
      "Topic: 7 \n",
      "Words: 0.050*\"point\" + 0.034*\"data\" + 0.028*\"object\" + 0.024*\"roadway\" + 0.022*\"region\" + 0.015*\"machine\" + 0.014*\"environment\" + 0.013*\"image\" + 0.012*\"determined\" + 0.012*\"management\"\n",
      "Topic: 8 \n",
      "Words: 0.065*\"signal\" + 0.034*\"light\" + 0.018*\"second\" + 0.018*\"sensor\" + 0.018*\"line\" + 0.018*\"includes\" + 0.015*\"pixel\" + 0.014*\"unit\" + 0.014*\"configured\" + 0.014*\"element\"\n",
      "Topic: 9 \n",
      "Words: 0.046*\"image\" + 0.031*\"sensor\" + 0.027*\"parking\" + 0.025*\"data\" + 0.022*\"area\" + 0.022*\"robot\" + 0.019*\"configured\" + 0.019*\"cleaning\" + 0.018*\"object\" + 0.018*\"surface\"\n"
     ]
    }
   ],
   "source": [
    "for idx, topic in lda_model.print_topics(-1):\n",
    "    print('Topic: {} \\nWords: {}'.format(idx, topic))"
   ]
  },
  {
   "cell_type": "code",
   "execution_count": 243,
   "metadata": {},
   "outputs": [],
   "source": [
    "# pca를 이용한 lda 시각화\n",
    "import pyLDAvis.gensim as gensimvis\n",
    "\n",
    "prepared_data = gensimvis.prepare(lda_model, bow_corpus, dictionary) #lda 모델 바꾸자"
   ]
  },
  {
   "cell_type": "code",
   "execution_count": 245,
   "metadata": {},
   "outputs": [
    {
     "data": {
      "text/html": [
       "\n",
       "<link rel=\"stylesheet\" type=\"text/css\" href=\"https://cdn.rawgit.com/bmabey/pyLDAvis/files/ldavis.v1.0.0.css\">\n",
       "\n",
       "\n",
       "<div id=\"ldavis_el313622227842643762133751982\"></div>\n",
       "<script type=\"text/javascript\">\n",
       "\n",
       "var ldavis_el313622227842643762133751982_data = {\"mdsDat\": {\"x\": [0.20135511563868197, -0.16231451474053527, -0.07703076175465425, -0.0846006723798089, 0.2019208957174515, -0.09386769384462806, 0.15922449798639846, 0.1708336627059173, -0.09169574570107564, -0.22382478362774774], \"y\": [-0.22083995470834697, 0.04181644908104159, 0.05254945813992112, 0.06527960057079803, -0.09233103671168429, 0.001921342967946013, 0.12842176441029327, 0.1975852632011843, -0.10284326601050237, -0.07155962094065049], \"topics\": [1, 2, 3, 4, 5, 6, 7, 8, 9, 10], \"cluster\": [1, 1, 1, 1, 1, 1, 1, 1, 1, 1], \"Freq\": [21.262680053710938, 13.639833450317383, 12.633362770080566, 10.56689167022705, 10.455207824707031, 7.7011494636535645, 7.218694686889648, 5.901519775390625, 5.510867595672607, 5.1097893714904785]}, \"tinfo\": {\"Category\": [\"Default\", \"Default\", \"Default\", \"Default\", \"Default\", \"Default\", \"Default\", \"Default\", \"Default\", \"Default\", \"Default\", \"Default\", \"Default\", \"Default\", \"Default\", \"Default\", \"Default\", \"Default\", \"Default\", \"Default\", \"Default\", \"Default\", \"Default\", \"Default\", \"Default\", \"Default\", \"Default\", \"Default\", \"Default\", \"Default\", \"Topic1\", \"Topic1\", \"Topic1\", \"Topic1\", \"Topic1\", \"Topic1\", \"Topic1\", \"Topic1\", \"Topic1\", \"Topic1\", \"Topic1\", \"Topic1\", \"Topic1\", \"Topic1\", \"Topic1\", \"Topic1\", \"Topic1\", \"Topic1\", \"Topic1\", \"Topic1\", \"Topic1\", \"Topic1\", \"Topic1\", \"Topic1\", \"Topic1\", \"Topic1\", \"Topic1\", \"Topic1\", \"Topic1\", \"Topic1\", \"Topic1\", \"Topic1\", \"Topic1\", \"Topic1\", \"Topic1\", \"Topic1\", \"Topic1\", \"Topic1\", \"Topic1\", \"Topic1\", \"Topic1\", \"Topic1\", \"Topic1\", \"Topic1\", \"Topic1\", \"Topic1\", \"Topic1\", \"Topic1\", \"Topic1\", \"Topic1\", \"Topic1\", \"Topic1\", \"Topic1\", \"Topic1\", \"Topic1\", \"Topic1\", \"Topic1\", \"Topic1\", \"Topic1\", \"Topic1\", \"Topic1\", \"Topic1\", \"Topic1\", \"Topic1\", \"Topic1\", \"Topic1\", \"Topic1\", \"Topic1\", \"Topic1\", \"Topic1\", \"Topic1\", \"Topic1\", \"Topic1\", \"Topic2\", \"Topic2\", \"Topic2\", \"Topic2\", \"Topic2\", \"Topic2\", \"Topic2\", \"Topic2\", \"Topic2\", \"Topic2\", \"Topic2\", \"Topic2\", \"Topic2\", \"Topic2\", \"Topic2\", \"Topic2\", \"Topic2\", \"Topic2\", \"Topic2\", \"Topic2\", \"Topic2\", \"Topic2\", \"Topic2\", \"Topic2\", \"Topic2\", \"Topic2\", \"Topic2\", \"Topic2\", \"Topic2\", \"Topic2\", \"Topic2\", \"Topic2\", \"Topic2\", \"Topic2\", \"Topic2\", \"Topic2\", \"Topic2\", \"Topic2\", \"Topic2\", \"Topic2\", \"Topic2\", \"Topic2\", \"Topic2\", \"Topic2\", \"Topic2\", \"Topic2\", \"Topic2\", \"Topic2\", \"Topic2\", \"Topic2\", \"Topic2\", \"Topic2\", \"Topic2\", \"Topic2\", \"Topic2\", \"Topic2\", \"Topic2\", \"Topic2\", \"Topic2\", \"Topic2\", \"Topic2\", \"Topic2\", \"Topic2\", \"Topic2\", \"Topic2\", \"Topic2\", \"Topic2\", \"Topic3\", \"Topic3\", \"Topic3\", \"Topic3\", \"Topic3\", \"Topic3\", \"Topic3\", \"Topic3\", \"Topic3\", \"Topic3\", \"Topic3\", \"Topic3\", \"Topic3\", \"Topic3\", \"Topic3\", \"Topic3\", \"Topic3\", \"Topic3\", \"Topic3\", \"Topic3\", \"Topic3\", \"Topic3\", \"Topic3\", \"Topic3\", \"Topic3\", \"Topic3\", \"Topic3\", \"Topic3\", \"Topic3\", \"Topic3\", \"Topic3\", \"Topic3\", \"Topic3\", \"Topic3\", \"Topic3\", \"Topic3\", \"Topic3\", \"Topic3\", \"Topic3\", \"Topic3\", \"Topic3\", \"Topic3\", \"Topic3\", \"Topic3\", \"Topic3\", \"Topic3\", \"Topic3\", \"Topic3\", \"Topic3\", \"Topic3\", \"Topic3\", \"Topic3\", \"Topic3\", \"Topic3\", \"Topic3\", \"Topic3\", \"Topic3\", \"Topic3\", \"Topic3\", \"Topic3\", \"Topic3\", \"Topic3\", \"Topic3\", \"Topic3\", \"Topic3\", \"Topic3\", \"Topic3\", \"Topic3\", \"Topic3\", \"Topic4\", \"Topic4\", \"Topic4\", \"Topic4\", \"Topic4\", \"Topic4\", \"Topic4\", \"Topic4\", \"Topic4\", \"Topic4\", \"Topic4\", \"Topic4\", \"Topic4\", \"Topic4\", \"Topic4\", \"Topic4\", \"Topic4\", \"Topic4\", \"Topic4\", \"Topic4\", \"Topic4\", \"Topic4\", \"Topic4\", \"Topic4\", \"Topic4\", \"Topic4\", \"Topic4\", \"Topic4\", \"Topic4\", \"Topic4\", \"Topic4\", \"Topic4\", \"Topic4\", \"Topic4\", \"Topic4\", \"Topic4\", \"Topic4\", \"Topic4\", \"Topic4\", \"Topic4\", \"Topic4\", \"Topic4\", \"Topic4\", \"Topic4\", \"Topic4\", \"Topic4\", \"Topic4\", \"Topic4\", \"Topic4\", \"Topic4\", \"Topic4\", \"Topic4\", \"Topic4\", \"Topic4\", \"Topic4\", \"Topic4\", \"Topic4\", \"Topic4\", \"Topic4\", \"Topic4\", \"Topic5\", \"Topic5\", \"Topic5\", \"Topic5\", \"Topic5\", \"Topic5\", \"Topic5\", \"Topic5\", \"Topic5\", \"Topic5\", \"Topic5\", \"Topic5\", \"Topic5\", \"Topic5\", \"Topic5\", \"Topic5\", \"Topic5\", \"Topic5\", \"Topic5\", \"Topic5\", \"Topic5\", \"Topic5\", \"Topic5\", \"Topic5\", \"Topic5\", \"Topic5\", \"Topic5\", \"Topic5\", \"Topic5\", \"Topic5\", \"Topic5\", \"Topic5\", \"Topic5\", \"Topic5\", \"Topic5\", \"Topic5\", \"Topic5\", \"Topic5\", \"Topic5\", \"Topic5\", \"Topic5\", \"Topic5\", \"Topic5\", \"Topic5\", \"Topic5\", \"Topic5\", \"Topic5\", \"Topic5\", \"Topic5\", \"Topic5\", \"Topic5\", \"Topic5\", \"Topic5\", \"Topic5\", \"Topic5\", \"Topic5\", \"Topic6\", \"Topic6\", \"Topic6\", \"Topic6\", \"Topic6\", \"Topic6\", \"Topic6\", \"Topic6\", \"Topic6\", \"Topic6\", \"Topic6\", \"Topic6\", \"Topic6\", \"Topic6\", \"Topic6\", \"Topic6\", \"Topic6\", \"Topic6\", \"Topic6\", \"Topic6\", \"Topic6\", \"Topic6\", \"Topic6\", \"Topic6\", \"Topic6\", \"Topic6\", \"Topic6\", \"Topic6\", \"Topic6\", \"Topic6\", \"Topic6\", \"Topic6\", \"Topic6\", \"Topic6\", \"Topic6\", \"Topic6\", \"Topic6\", \"Topic6\", \"Topic6\", \"Topic6\", \"Topic6\", \"Topic6\", \"Topic6\", \"Topic6\", \"Topic6\", \"Topic6\", \"Topic6\", \"Topic6\", \"Topic6\", \"Topic6\", \"Topic6\", \"Topic6\", \"Topic6\", \"Topic6\", \"Topic6\", \"Topic6\", \"Topic6\", \"Topic6\", \"Topic6\", \"Topic6\", \"Topic6\", \"Topic7\", \"Topic7\", \"Topic7\", \"Topic7\", \"Topic7\", \"Topic7\", \"Topic7\", \"Topic7\", \"Topic7\", \"Topic7\", \"Topic7\", \"Topic7\", \"Topic7\", \"Topic7\", \"Topic7\", \"Topic7\", \"Topic7\", \"Topic7\", \"Topic7\", \"Topic7\", \"Topic7\", \"Topic7\", \"Topic7\", \"Topic7\", \"Topic7\", \"Topic7\", \"Topic7\", \"Topic7\", \"Topic7\", \"Topic7\", \"Topic7\", \"Topic7\", \"Topic7\", \"Topic7\", \"Topic7\", \"Topic7\", \"Topic7\", \"Topic7\", \"Topic7\", \"Topic7\", \"Topic7\", \"Topic7\", \"Topic7\", \"Topic7\", \"Topic7\", \"Topic7\", \"Topic7\", \"Topic7\", \"Topic7\", \"Topic7\", \"Topic7\", \"Topic7\", \"Topic7\", \"Topic7\", \"Topic7\", \"Topic7\", \"Topic7\", \"Topic7\", \"Topic8\", \"Topic8\", \"Topic8\", \"Topic8\", \"Topic8\", \"Topic8\", \"Topic8\", \"Topic8\", \"Topic8\", \"Topic8\", \"Topic8\", \"Topic8\", \"Topic8\", \"Topic8\", \"Topic8\", \"Topic8\", \"Topic8\", \"Topic8\", \"Topic8\", \"Topic8\", \"Topic8\", \"Topic8\", \"Topic8\", \"Topic8\", \"Topic8\", \"Topic8\", \"Topic8\", \"Topic8\", \"Topic8\", \"Topic8\", \"Topic8\", \"Topic8\", \"Topic8\", \"Topic8\", \"Topic8\", \"Topic8\", \"Topic8\", \"Topic8\", \"Topic8\", \"Topic8\", \"Topic8\", \"Topic8\", \"Topic8\", \"Topic8\", \"Topic8\", \"Topic8\", \"Topic8\", \"Topic8\", \"Topic8\", \"Topic8\", \"Topic9\", \"Topic9\", \"Topic9\", \"Topic9\", \"Topic9\", \"Topic9\", \"Topic9\", \"Topic9\", \"Topic9\", \"Topic9\", \"Topic9\", \"Topic9\", \"Topic9\", \"Topic9\", \"Topic9\", \"Topic9\", \"Topic9\", \"Topic9\", \"Topic9\", \"Topic9\", \"Topic9\", \"Topic9\", \"Topic9\", \"Topic9\", \"Topic9\", \"Topic9\", \"Topic9\", \"Topic9\", \"Topic9\", \"Topic9\", \"Topic9\", \"Topic9\", \"Topic9\", \"Topic9\", \"Topic9\", \"Topic9\", \"Topic9\", \"Topic9\", \"Topic9\", \"Topic9\", \"Topic9\", \"Topic9\", \"Topic9\", \"Topic9\", \"Topic9\", \"Topic9\", \"Topic9\", \"Topic9\", \"Topic9\", \"Topic9\", \"Topic9\", \"Topic9\", \"Topic9\", \"Topic9\", \"Topic9\", \"Topic9\", \"Topic10\", \"Topic10\", \"Topic10\", \"Topic10\", \"Topic10\", \"Topic10\", \"Topic10\", \"Topic10\", \"Topic10\", \"Topic10\", \"Topic10\", \"Topic10\", \"Topic10\", \"Topic10\", \"Topic10\", \"Topic10\", \"Topic10\", \"Topic10\", \"Topic10\", \"Topic10\", \"Topic10\", \"Topic10\", \"Topic10\", \"Topic10\", \"Topic10\", \"Topic10\", \"Topic10\", \"Topic10\", \"Topic10\", \"Topic10\", \"Topic10\", \"Topic10\", \"Topic10\", \"Topic10\", \"Topic10\", \"Topic10\", \"Topic10\", \"Topic10\", \"Topic10\", \"Topic10\", \"Topic10\", \"Topic10\", \"Topic10\", \"Topic10\", \"Topic10\", \"Topic10\", \"Topic10\", \"Topic10\", \"Topic10\", \"Topic10\", \"Topic10\", \"Topic10\", \"Topic10\", \"Topic10\", \"Topic10\", \"Topic10\", \"Topic10\", \"Topic10\", \"Topic10\", \"Topic10\"], \"Freq\": [1528.0, 1964.0, 746.0, 1127.0, 839.0, 1141.0, 1568.0, 1398.0, 553.0, 1207.0, 952.0, 557.0, 866.0, 1720.0, 900.0, 2427.0, 389.0, 725.0, 663.0, 642.0, 424.0, 2957.0, 492.0, 310.0, 732.0, 1696.0, 399.0, 380.0, 429.0, 334.0, 163.0750732421875, 160.13246154785156, 139.5089111328125, 124.78413391113281, 111.03919219970703, 111.03663635253906, 109.07585906982422, 105.14661407470703, 95.32991790771484, 86.49214172363281, 79.61932373046875, 77.6579818725586, 74.71074676513672, 73.73020935058594, 70.78331756591797, 69.79721069335938, 68.82090759277344, 68.82050323486328, 67.8271713256836, 67.83489227294922, 65.87061309814453, 58.998600006103516, 55.07521057128906, 53.11054229736328, 52.12705993652344, 50.16608810424805, 49.1844367980957, 49.18214797973633, 48.20161819458008, 284.2176818847656, 336.78338623046875, 833.5933837890625, 110.77445983886719, 108.58769989013672, 558.039794921875, 229.34310913085938, 117.62395477294922, 116.57186126708984, 677.71533203125, 158.7354736328125, 395.1023864746094, 133.1217041015625, 190.22084045410156, 179.25294494628906, 160.18727111816406, 453.05389404296875, 318.4654235839844, 938.4657592773438, 357.7662658691406, 185.31100463867188, 158.04278564453125, 444.6841125488281, 193.5906982421875, 392.06854248046875, 441.1937561035156, 201.447021484375, 453.1693420410156, 269.3903503417969, 188.92221069335938, 371.8861389160156, 339.7259826660156, 426.8129577636719, 647.06787109375, 452.8135681152344, 490.36846923828125, 562.40234375, 242.95472717285156, 358.225341796875, 230.9778594970703, 205.93692016601562, 258.6253662109375, 222.65499877929688, 211.11398315429688, 68.04338836669922, 56.21889114379883, 59.983734130859375, 22.742244720458984, 20.75260353088379, 19.78951644897461, 470.9446716308594, 17.790611267089844, 196.0743865966797, 51.78147888183594, 16.33718490600586, 34.51529312133789, 56.80869674682617, 24.339677810668945, 43.994239807128906, 23.72420883178711, 33.170379638671875, 563.0715942382812, 35.341583251953125, 16.279203414916992, 58.926204681396484, 14.861189842224121, 32.130062103271484, 109.33677673339844, 18.686100006103516, 49.4754524230957, 17.404354095458984, 48.91876220703125, 60.500736236572266, 13.823712348937988, 202.18655395507812, 1152.492431640625, 162.2528839111328, 112.48076629638672, 362.1738586425781, 661.6612548828125, 339.6119689941406, 81.4603271484375, 253.8518829345703, 362.058837890625, 223.56015014648438, 175.49603271484375, 83.92656707763672, 82.03958129882812, 544.0592041015625, 695.2401733398438, 305.01129150390625, 89.99158477783203, 292.8134460449219, 656.847412109375, 261.5611572265625, 315.85235595703125, 254.80894470214844, 118.48780822753906, 237.31007385253906, 190.74688720703125, 371.41131591796875, 262.5833435058594, 215.09825134277344, 315.8051452636719, 230.32879638671875, 287.32086181640625, 321.10076904296875, 264.9515075683594, 222.09898376464844, 238.81527709960938, 250.71270751953125, 290.54864501953125, 228.1150665283203, 54.12820053100586, 43.41718292236328, 40.464202880859375, 37.49884033203125, 26.670900344848633, 25.692291259765625, 81.67687225341797, 21.75196647644043, 21.7489013671875, 16.83114242553711, 40.175048828125, 15.849350929260254, 300.6976013183594, 28.64309310913086, 28.602197647094727, 13.87194538116455, 38.83121109008789, 21.49706268310547, 30.159839630126953, 199.6727752685547, 413.05029296875, 134.63172912597656, 17.872236251831055, 19.600231170654297, 217.62535095214844, 51.24761199951172, 15.657196044921875, 20.52558708190918, 36.00718688964844, 69.25934600830078, 139.17669677734375, 172.29205322265625, 980.1082763671875, 99.8455581665039, 130.29888916015625, 206.67642211914062, 343.4934387207031, 311.73663330078125, 151.1507110595703, 119.72653198242188, 345.39849853515625, 101.69480895996094, 141.65560913085938, 1071.5401611328125, 292.7191162109375, 100.06698608398438, 73.1197509765625, 99.82173156738281, 232.04270935058594, 97.22439575195312, 165.69598388671875, 152.91506958007812, 180.17884826660156, 179.58416748046875, 166.58465576171875, 268.54339599609375, 194.47659301757812, 227.97262573242188, 203.03158569335938, 280.87005615234375, 286.3395690917969, 266.8321838378906, 215.2777557373047, 197.89443969726562, 195.85653686523438, 193.15484619140625, 173.60348510742188, 32.89501953125, 31.9097900390625, 49.86097717285156, 20.96326446533203, 27.482154846191406, 17.001014709472656, 153.3193359375, 124.91716003417969, 31.228195190429688, 52.324546813964844, 40.43977737426758, 18.221240997314453, 14.639509201049805, 39.17805099487305, 45.679054260253906, 13.816431999206543, 255.90716552734375, 85.30966186523438, 14.9817476272583, 41.406028747558594, 24.294893264770508, 247.32034301757812, 23.081281661987305, 39.207462310791016, 27.337139129638672, 168.5611114501953, 53.127681732177734, 29.818714141845703, 145.24110412597656, 66.74222564697266, 202.81204223632812, 219.51568603515625, 296.664306640625, 271.4039611816406, 149.68112182617188, 338.1028747558594, 825.3380126953125, 194.120849609375, 84.54337310791016, 370.6370544433594, 277.80908203125, 288.7003173828125, 107.32730865478516, 102.19499206542969, 73.1983871459961, 175.78753662109375, 354.1960754394531, 178.5162811279297, 334.4164123535156, 453.177734375, 337.5812683105469, 302.7848815917969, 184.5522918701172, 106.55375671386719, 153.38946533203125, 218.9513702392578, 205.1165771484375, 224.4342498779297, 217.98838806152344, 143.93919372558594, 249.04920959472656, 110.07369232177734, 73.07456970214844, 61.084495544433594, 50.086090087890625, 52.038047790527344, 44.071590423583984, 39.08656311035156, 147.5263214111328, 37.087623596191406, 68.62992858886719, 25.089664459228516, 65.15499114990234, 19.05696678161621, 16.094697952270508, 54.63062286376953, 50.42205810546875, 22.87209701538086, 31.736421585083008, 337.3128356933594, 16.98412322998047, 219.22171020507812, 28.034732818603516, 216.20333862304688, 216.13963317871094, 63.545387268066406, 27.319793701171875, 29.89101791381836, 933.6553955078125, 342.9135437011719, 118.02429962158203, 294.31463623046875, 112.26790618896484, 594.7717895507812, 99.3699722290039, 67.35774230957031, 123.34070587158203, 84.92793273925781, 496.3985900878906, 179.99281311035156, 221.10678100585938, 305.2203369140625, 155.48318481445312, 361.9579162597656, 481.95574951171875, 115.61209106445312, 268.31402587890625, 176.70819091796875, 197.32308959960938, 119.40624237060547, 220.55206298828125, 140.62533569335938, 158.39308166503906, 118.99900817871094, 116.00896453857422, 114.1362075805664, 388.4463195800781, 66.08177947998047, 41.08176040649414, 37.08725357055664, 31.08902359008789, 36.318504333496094, 318.1455078125, 26.91472053527832, 246.2911376953125, 42.095703125, 48.87860107421875, 39.55949783325195, 35.148860931396484, 22.42621421813965, 31.86901092529297, 41.86345291137695, 20.13694190979004, 270.8319091796875, 676.2517700195312, 49.425132751464844, 47.65574264526367, 32.29752731323242, 22.27968406677246, 11.706886291503906, 21.931211471557617, 18.326908111572266, 21.506574630737305, 29.409761428833008, 17.855789184570312, 18.925199508666992, 78.88842010498047, 29.362899780273438, 321.58038330078125, 170.2008056640625, 37.562904357910156, 38.66590118408203, 124.2553482055664, 260.3626708984375, 450.8586120605469, 173.59596252441406, 95.71842193603516, 260.44134521484375, 220.5233154296875, 362.62823486328125, 283.951904296875, 153.72738647460938, 145.55006408691406, 241.844970703125, 113.24429321289062, 230.68336486816406, 205.8736572265625, 82.30587005615234, 101.28915405273438, 64.0221939086914, 156.14031982421875, 102.58137512207031, 103.64171600341797, 88.35279846191406, 107.41234588623047, 96.17961883544922, 86.01673126220703, 114.45417785644531, 110.48485565185547, 96.53291320800781, 83.63042449951172, 69.7111587524414, 59.759552001953125, 36.89220428466797, 34.89778518676758, 27.938783645629883, 25.949899673461914, 21.975141525268555, 18.98061180114746, 32.051475524902344, 65.50428771972656, 21.601377487182617, 44.90568923950195, 73.05318450927734, 67.42044830322266, 43.301700592041016, 125.593994140625, 42.4664192199707, 68.44790649414062, 42.415985107421875, 463.4029846191406, 55.41071319580078, 21.031579971313477, 206.45384216308594, 50.05321502685547, 31.99813461303711, 32.33467483520508, 133.5127716064453, 109.98834228515625, 894.5852661132812, 240.85821533203125, 116.36859893798828, 68.43303680419922, 50.622318267822266, 85.15396881103516, 63.446533203125, 112.26386260986328, 189.78094482421875, 141.936279296875, 143.21983337402344, 249.46559143066406, 251.5167694091797, 150.39996337890625, 239.52053833007812, 128.6797637939453, 192.55352783203125, 190.74081420898438, 126.59759521484375, 157.44313049316406, 130.4466094970703, 94.1583023071289, 136.92129516601562, 88.93763732910156, 92.57836151123047, 90.9043960571289, 309.2784729003906, 266.11370849609375, 151.66122436523438, 139.63157653808594, 130.58787536621094, 72.37418365478516, 49.28322982788086, 26.19009017944336, 76.51312255859375, 103.8206787109375, 62.93324279785156, 91.50358581542969, 33.2121696472168, 661.84619140625, 33.74702835083008, 210.3075714111328, 22.506982803344727, 42.1979866027832, 93.11217498779297, 143.54843139648438, 114.98052215576172, 54.98265075683594, 25.544992446899414, 287.2101135253906, 78.61071014404297, 57.03374099731445, 35.48115921020508, 68.7342758178711, 36.003662109375, 12.750725746154785, 113.1561050415039, 160.6720428466797, 66.4933853149414, 208.30519104003906, 397.9953918457031, 181.0002899169922, 127.32424926757812, 68.10719299316406, 166.8888702392578, 213.72059631347656, 106.94761657714844, 179.59890747070312, 138.09359741210938, 160.21795654296875, 190.83094787597656, 153.8358154296875, 95.6642837524414, 95.8199691772461, 95.76868438720703, 96.39431762695312, 34.33453369140625, 26.278554916381836, 17.212554931640625, 17.196908950805664, 51.27716827392578, 23.231475830078125, 52.91096115112305, 29.58220100402832, 114.76238250732422, 39.617549896240234, 52.28042984008789, 34.79277420043945, 19.268281936645508, 34.98539733886719, 13.797229766845703, 14.509162902832031, 64.19633483886719, 29.794464111328125, 102.11627960205078, 41.43174743652344, 126.16405487060547, 35.6708869934082, 43.806434631347656, 16.927488327026367, 85.1950454711914, 29.266996383666992, 14.881021499633789, 96.05493927001953, 18.103363037109375, 257.8582763671875, 66.74641418457031, 162.9525909423828, 59.55070877075195, 115.28244018554688, 199.3449249267578, 306.4920959472656, 75.78148651123047, 91.74574279785156, 135.91038513183594, 427.8540954589844, 55.38688659667969, 115.8011245727539, 83.33065795898438, 113.21503448486328, 68.69011688232422, 74.15650177001953, 179.3642578125, 163.81033325195312, 73.88809967041016, 59.341060638427734, 71.36905670166016, 93.10320281982422, 78.63407135009766, 71.89379119873047, 68.33655548095703, 66.77191925048828, 63.739601135253906, 42.512184143066406, 37.47346878051758, 31.413414001464844, 30.40546226501465, 26.362049102783203, 25.35537338256836, 49.66346740722656, 23.3287353515625, 22.321334838867188, 17.272830963134766, 17.267934799194336, 16.261537551879883, 16.258535385131836, 15.252422332763672, 36.94371795654297, 24.9703311920166, 18.322065353393555, 29.92936134338379, 68.49591827392578, 72.4297866821289, 112.93603515625, 481.2724609375, 55.88927459716797, 53.94046401977539, 15.251898765563965, 23.887039184570312, 19.787593841552734, 14.153756141662598, 30.420143127441406, 23.66899871826172, 210.0435791015625, 236.09747314453125, 113.71846008300781, 43.61000061035156, 147.73486328125, 113.4501953125, 272.60003662109375, 31.073129653930664, 66.78746795654297, 325.1324157714844, 138.8832244873047, 83.5295639038086, 72.6109848022461, 64.02867126464844, 48.80950164794922, 99.66009521484375, 75.77982330322266, 115.97618103027344, 127.54737854003906, 68.77291107177734, 66.5796890258789, 79.78237915039062, 67.79965209960938, 71.66280364990234, 72.69283294677734, 86.15565490722656, 73.73536682128906, 71.8638916015625, 64.3991470336914], \"Term\": [\"signal\", \"data\", \"circuit\", \"power\", \"image\", \"object\", \"information\", \"mode\", \"point\", \"wheel\", \"motor\", \"light\", \"assembly\", \"sensor\", \"steering\", \"device\", \"parking\", \"surface\", \"display\", \"path\", \"roadway\", \"control\", \"route\", \"touch\", \"body\", \"based\", \"voltage\", \"traffic\", \"mean\", \"robot\", \"hydraulic\", \"screw\", \"outer\", \"bearing\", \"milling\", \"movable\", \"roller\", \"rotate\", \"pivot\", \"ring\", \"spring\", \"drum\", \"rotary\", \"piston\", \"outlet\", \"vacuum\", \"pulley\", \"conveyor\", \"handle\", \"side\", \"hole\", \"rotatable\", \"sealing\", \"bracket\", \"magnet\", \"fastener\", \"mount\", \"cleaner\", \"diameter\", \"gear\", \"housing\", \"assembly\", \"rotating\", \"chamber\", \"member\", \"axis\", \"longitudinal\", \"vertical\", \"body\", \"axle\", \"shaft\", \"opening\", \"pump\", \"head\", \"valve\", \"frame\", \"mounted\", \"wheel\", \"support\", \"rear\", \"locking\", \"portion\", \"said\", \"mechanism\", \"surface\", \"rotation\", \"having\", \"propelled\", \"fluid\", \"element\", \"direction\", \"motor\", \"includes\", \"position\", \"second\", \"device\", \"coupled\", \"unit\", \"comprises\", \"seat\", \"provided\", \"connected\", \"mean\", \"landmark\", \"insurance\", \"obtaining\", \"modeling\", \"restricted\", \"historical\", \"route\", \"correlation\", \"obstacle\", \"calculate\", \"describing\", \"routing\", \"optimal\", \"avoiding\", \"previously\", \"unavailable\", \"calculation\", \"path\", \"planning\", \"approved\", \"avoidance\", \"mitigation\", \"acquiring\", \"estimated\", \"traveled\", \"acquired\", \"modify\", \"probability\", \"geographic\", \"unable\", \"trajectory\", \"information\", \"segment\", \"node\", \"road\", \"location\", \"travel\", \"database\", \"navigation\", \"lane\", \"target\", \"destination\", \"planned\", \"candidate\", \"position\", \"based\", \"determining\", \"item\", \"determined\", \"method\", \"associated\", \"time\", \"determine\", \"model\", \"current\", \"environment\", \"data\", \"object\", \"apparatus\", \"sensor\", \"include\", \"configured\", \"includes\", \"unit\", \"plurality\", \"second\", \"control\", \"passenger\", \"service\", \"hardware\", \"preference\", \"sdvs\", \"attention\", \"throttle\", \"configurable\", \"drone\", \"sends\", \"managing\", \"detrimental\", \"transceiver\", \"checklist\", \"manual\", \"issue\", \"pilot\", \"show\", \"separation\", \"progress\", \"conduct\", \"request\", \"user\", \"product\", \"requesting\", \"presenting\", \"occupant\", \"visual\", \"sending\", \"completed\", \"entity\", \"warning\", \"task\", \"remote\", \"mode\", \"message\", \"access\", \"interface\", \"processor\", \"condition\", \"board\", \"operated\", \"display\", \"operational\", \"human\", \"control\", \"communication\", \"program\", \"approaching\", \"wireless\", \"input\", \"automatic\", \"controlled\", \"operator\", \"provide\", \"roadway\", \"action\", \"operation\", \"operating\", \"include\", \"controller\", \"configured\", \"method\", \"device\", \"includes\", \"information\", \"based\", \"unit\", \"location\", \"occurrence\", \"maintaining\", \"policy\", \"instructing\", \"modifying\", \"slower\", \"acceleration\", \"test\", \"smart\", \"deceleration\", \"diagnostic\", \"continues\", \"employed\", \"satellite\", \"inter\", \"created\", \"threshold\", \"fault\", \"responds\", \"intervention\", \"evaluation\", \"braking\", \"strategy\", \"failure\", \"read\", \"collision\", \"equal\", \"executes\", \"host\", \"desired\", \"brake\", \"storage\", \"value\", \"level\", \"parameter\", \"speed\", \"data\", \"command\", \"start\", \"operation\", \"controller\", \"time\", \"assistance\", \"emergency\", \"profile\", \"response\", \"based\", \"system\", \"sensor\", \"control\", \"method\", \"second\", \"state\", \"behavior\", \"determining\", \"configured\", \"mode\", \"device\", \"includes\", \"determine\", \"battery\", \"coil\", \"converter\", \"turbine\", \"electricity\", \"thermal\", \"solar\", \"transformer\", \"generator\", \"wind\", \"barrier\", \"rechargeable\", \"blind\", \"sustaining\", \"domestic\", \"winding\", \"protection\", \"powering\", \"feeding\", \"electric\", \"ensure\", \"energy\", \"electronics\", \"torque\", \"electrical\", \"reaction\", \"tensioning\", \"hybrid\", \"power\", \"engine\", \"aircraft\", \"supply\", \"powered\", \"steering\", \"equipment\", \"cable\", \"charging\", \"charge\", \"motor\", \"angle\", \"force\", \"module\", \"field\", \"unit\", \"control\", \"high\", \"wheel\", \"connected\", \"current\", \"source\", \"device\", \"speed\", \"includes\", \"operation\", \"provided\", \"apparatus\", \"parking\", \"captured\", \"navigational\", \"capturing\", \"waste\", \"terrain\", \"robot\", \"parked\", \"camera\", \"known\", \"capture\", \"lidar\", \"acoustic\", \"obstruction\", \"constraint\", \"crop\", \"row\", \"cleaning\", \"image\", \"marker\", \"audio\", \"auto\", \"analyze\", \"extracting\", \"ries\", \"applicable\", \"park\", \"subject\", \"inspection\", \"clean\", \"confidence\", \"intensity\", \"area\", \"processing\", \"servo\", \"implementation\", \"space\", \"surface\", \"sensor\", \"environment\", \"mobile\", \"object\", \"plurality\", \"data\", \"configured\", \"module\", \"lane\", \"based\", \"detection\", \"includes\", \"method\", \"function\", \"feature\", \"floor\", \"device\", \"including\", \"having\", \"processor\", \"control\", \"signal\", \"controller\", \"emitting\", \"substrate\", \"emission\", \"luminous\", \"seismic\", \"transmitter\", \"modulated\", \"survey\", \"marine\", \"emitted\", \"emit\", \"defect\", \"antenna\", \"emitter\", \"luminance\", \"reflected\", \"pulse\", \"receiver\", \"crash\", \"layer\", \"lamp\", \"optical\", \"plural\", \"light\", \"lighting\", \"matrix\", \"pixel\", \"radio\", \"modulation\", \"angular\", \"array\", \"underwater\", \"signal\", \"line\", \"station\", \"beam\", \"vessel\", \"weight\", \"laser\", \"base\", \"element\", \"section\", \"detection\", \"sensor\", \"second\", \"display\", \"includes\", \"output\", \"unit\", \"configured\", \"state\", \"device\", \"power\", \"supply\", \"control\", \"corresponding\", \"current\", \"including\", \"touch\", \"electrode\", \"gate\", \"capacitance\", \"terminal\", \"capacitive\", \"mutual\", \"biasing\", \"spherical\", \"capacitor\", \"delay\", \"pull\", \"incident\", \"circuit\", \"synchronous\", \"sensing\", \"amplifier\", \"rectifier\", \"sense\", \"active\", \"transistor\", \"circuitry\", \"resonance\", \"voltage\", \"phase\", \"diode\", \"table\", \"holding\", \"bias\", \"influence\", \"frequency\", \"panel\", \"filter\", \"output\", \"signal\", \"input\", \"switch\", \"channel\", \"display\", \"device\", \"coupled\", \"second\", \"plurality\", \"unit\", \"control\", \"includes\", \"connected\", \"current\", \"mode\", \"method\", \"audible\", \"sign\", \"better\", \"saving\", \"landing\", \"entering\", \"limiting\", \"adhesive\", \"pedestrian\", \"require\", \"calibration\", \"intended\", \"calibrating\", \"finger\", \"partial\", \"removal\", \"surroundings\", \"solid\", \"intersection\", \"experience\", \"fuel\", \"signaling\", \"nearby\", \"speaker\", \"construction\", \"towing\", \"unsafe\", \"cell\", \"exists\", \"traffic\", \"virtual\", \"particular\", \"designed\", \"zone\", \"mean\", \"object\", \"relates\", \"motion\", \"invention\", \"device\", \"performance\", \"example\", \"disclosure\", \"present\", \"stop\", \"model\", \"sensor\", \"method\", \"detecting\", \"work\", \"detected\", \"control\", \"information\", \"provided\", \"determine\", \"associated\", \"diagnosis\", \"prediction\", \"cloud\", \"gesture\", \"language\", \"context\", \"semantic\", \"imaging\", \"mining\", \"background\", \"crowd\", \"geometrical\", \"financial\", \"analytics\", \"facial\", \"sound\", \"intelligence\", \"artificial\", \"world\", \"learning\", \"recognition\", \"delivery\", \"point\", \"perception\", \"search\", \"scheme\", \"attribute\", \"combine\", \"biometrics\", \"global\", \"curve\", \"region\", \"roadway\", \"management\", \"video\", \"machine\", \"maneuver\", \"object\", \"assessment\", \"real\", \"data\", \"environment\", \"automated\", \"event\", \"dynamic\", \"tracking\", \"action\", \"human\", \"determined\", \"image\", \"external\", \"range\", \"detected\", \"computing\", \"feature\", \"system\", \"method\", \"sensor\", \"based\", \"portion\"], \"Total\": [1528.0, 1964.0, 746.0, 1127.0, 839.0, 1141.0, 1568.0, 1398.0, 553.0, 1207.0, 952.0, 557.0, 866.0, 1720.0, 900.0, 2427.0, 389.0, 725.0, 663.0, 642.0, 424.0, 2957.0, 492.0, 310.0, 732.0, 1696.0, 399.0, 380.0, 429.0, 334.0, 163.9730987548828, 161.03042602539062, 140.408203125, 125.68231201171875, 111.93714141845703, 111.93462371826172, 109.97381591796875, 106.04457092285156, 96.22786712646484, 87.39014434814453, 80.51731872558594, 78.555908203125, 75.6087417602539, 74.6281509399414, 71.68161010742188, 70.69525909423828, 69.71883392333984, 69.71845245361328, 68.72528076171875, 68.7343978881836, 66.76864624023438, 59.896568298339844, 55.97314453125, 54.00912094116211, 53.02518081665039, 51.064083099365234, 50.082359313964844, 50.080108642578125, 49.09955596923828, 289.7035217285156, 343.7575988769531, 866.563232421875, 112.93812561035156, 110.9869384765625, 581.6619873046875, 238.70033264160156, 120.81108093261719, 119.83650970458984, 732.4041748046875, 165.0508270263672, 426.67657470703125, 139.49700927734375, 203.46649169921875, 193.61085510253906, 172.1005859375, 531.901123046875, 366.9659118652344, 1207.578369140625, 418.98193359375, 213.40707397460938, 182.05966186523438, 694.3632202148438, 236.35955810546875, 599.4638061523438, 725.7832641601562, 253.23460388183594, 813.6199951171875, 392.13372802734375, 241.4830780029297, 665.4751586914062, 604.9879150390625, 952.8439331054688, 2269.3876953125, 1198.27587890625, 1772.297607421875, 2427.982666015625, 428.57196044921875, 1670.10302734375, 464.783447265625, 318.64166259765625, 991.621826171875, 563.8201293945312, 429.3341979980469, 68.94108581542969, 57.11663055419922, 62.03666687011719, 23.64032554626465, 21.65053939819336, 20.687158584594727, 492.3984375, 18.71218490600586, 206.81246948242188, 55.175865173339844, 17.712730407714844, 37.422332763671875, 62.018409729003906, 26.578834533691406, 48.33280563354492, 26.592439651489258, 37.45261764526367, 642.8209838867188, 40.4835205078125, 18.71283721923828, 70.0042953491211, 17.777992248535156, 38.47747039794922, 131.4217071533203, 22.700292587280273, 61.22200393676758, 21.738309860229492, 61.31296920776367, 76.9229736328125, 17.713563919067383, 262.26043701171875, 1568.549072265625, 223.4263916015625, 151.3932647705078, 531.2772216796875, 1032.295166015625, 505.0487976074219, 107.99040985107422, 393.3908996582031, 597.330078125, 359.13043212890625, 280.65228271484375, 116.745361328125, 113.6009292602539, 1198.27587890625, 1696.59619140625, 614.3007202148438, 131.440185546875, 640.1375122070312, 2038.3360595703125, 603.39111328125, 844.262451171875, 694.0545043945312, 205.8045654296875, 748.4102172851562, 512.4650268554688, 1964.1026611328125, 1141.58642578125, 770.0189819335938, 1720.5887451171875, 891.6649780273438, 1633.40234375, 2269.3876953125, 1670.10302734375, 901.9342651367188, 1772.297607421875, 2957.79150390625, 291.44775390625, 231.41781616210938, 55.13816452026367, 44.31483459472656, 41.36186218261719, 38.40545654296875, 27.568674087524414, 26.5899715423584, 84.69806671142578, 22.64967918395996, 22.646650314331055, 17.72880744934082, 42.36859130859375, 16.74698829650879, 332.117431640625, 32.520633697509766, 32.478092193603516, 15.756501197814941, 44.37527847290039, 24.602514266967773, 34.52383804321289, 228.73619079589844, 474.81170654296875, 155.66554260253906, 20.680309295654297, 22.706104278564453, 252.8165283203125, 61.18315887451172, 18.729707717895508, 24.666030883789062, 43.312686920166016, 83.9293212890625, 172.8083953857422, 223.79959106445312, 1398.034423828125, 134.28773498535156, 180.8237762451172, 317.9393005371094, 581.6824340820312, 524.5653076171875, 226.0512237548828, 174.30628967285156, 663.394775390625, 149.13348388671875, 227.3759765625, 2957.79150390625, 586.8997802734375, 153.30503845214844, 100.52734375, 159.30520629882812, 568.6801147460938, 154.06024169921875, 352.8643493652344, 314.8623046875, 418.3359069824219, 424.6312561035156, 385.4726257324219, 950.62939453125, 566.2765502929688, 891.6649780273438, 728.833984375, 1633.40234375, 2038.3360595703125, 2427.982666015625, 2269.3876953125, 1568.549072265625, 1696.59619140625, 1670.10302734375, 1032.295166015625, 33.79453659057617, 32.81047821044922, 51.694400787353516, 21.868112564086914, 28.836551666259766, 17.897680282592773, 163.96754455566406, 138.31439208984375, 34.81118392944336, 58.60564041137695, 45.73542785644531, 20.8798828125, 16.878074645996094, 45.673919677734375, 54.670833587646484, 16.867042541503906, 312.62457275390625, 104.57747650146484, 18.883668899536133, 53.57597351074219, 31.795286178588867, 324.9362487792969, 30.850046157836914, 52.769527435302734, 37.83997344970703, 235.359619140625, 75.70367431640625, 42.62919998168945, 210.72250366210938, 98.3520736694336, 317.7348937988281, 377.4827575683594, 548.2410278320312, 508.9216613769531, 261.76483154296875, 684.6973876953125, 1964.1026611328125, 358.6558532714844, 137.4163055419922, 950.62939453125, 728.833984375, 844.262451171875, 208.81336975097656, 196.00547790527344, 124.89382934570312, 517.6079711914062, 1696.59619140625, 589.3677368164062, 1720.5887451171875, 2957.79150390625, 2038.3360595703125, 1772.297607421875, 716.1505126953125, 248.11366271972656, 614.3007202148438, 1633.40234375, 1398.034423828125, 2427.982666015625, 2269.3876953125, 694.0545043945312, 249.94540405273438, 110.9698715209961, 73.97089385986328, 61.98063278198242, 50.98249053955078, 52.97845458984375, 44.97692108154297, 39.98276138305664, 150.9208526611328, 37.9837760925293, 70.94409942626953, 25.985811233520508, 67.98699188232422, 19.98841094970703, 16.990814208984375, 58.91397476196289, 54.94927978515625, 24.988142013549805, 34.93782043457031, 375.24114990234375, 18.973899841308594, 248.43283081054688, 31.960981369018555, 247.46238708496094, 248.56211853027344, 73.95379638671875, 31.94831657409668, 35.02439498901367, 1127.2841796875, 418.07843017578125, 149.4012908935547, 400.4121398925781, 143.57144165039062, 900.71923828125, 126.52523040771484, 83.68699645996094, 167.72633361816406, 110.02007293701172, 952.8439331054688, 284.1973571777344, 388.10565185546875, 593.623291015625, 285.50140380859375, 1670.10302734375, 2957.79150390625, 230.48883056640625, 1207.578369140625, 563.8201293945312, 748.4102172851562, 331.8796081542969, 2427.982666015625, 684.6973876953125, 2269.3876953125, 950.62939453125, 991.621826171875, 770.0189819335938, 389.9128112792969, 66.97877502441406, 41.98445510864258, 37.98421096801758, 31.985187530517578, 37.98988342285156, 334.08673095703125, 28.97913932800293, 269.94390869140625, 46.94694519042969, 54.89884567260742, 44.95792007446289, 39.95888900756836, 25.977319717407227, 36.95500946044922, 49.043861389160156, 23.995004653930664, 333.7933044433594, 839.8799438476562, 61.95466995239258, 60.093448638916016, 42.848594665527344, 29.875473022460938, 15.946619987487793, 29.87973976135254, 25.855323791503906, 30.846942901611328, 42.946006774902344, 26.97062110900879, 28.816856384277344, 120.6384048461914, 44.904541015625, 551.8865356445312, 296.0390625, 60.56883239746094, 62.76213073730469, 268.3031311035156, 725.7832641601562, 1720.5887451171875, 512.4650268554688, 249.46343994140625, 1141.58642578125, 901.9342651367188, 1964.1026611328125, 1633.40234375, 593.623291015625, 597.330078125, 1696.59619140625, 421.5814208984375, 2269.3876953125, 2038.3360595703125, 255.15269470214844, 470.5163269042969, 143.57623291015625, 2427.982666015625, 664.3969116210938, 813.6199951171875, 581.6824340820312, 2957.79150390625, 1528.6630859375, 728.833984375, 115.36022186279297, 111.3815689086914, 97.4593734741211, 84.5315170288086, 70.60783386230469, 60.6563835144043, 37.78889083862305, 35.79545211791992, 28.835681915283203, 26.846635818481445, 22.871809005737305, 19.886186599731445, 33.81910705566406, 71.5838623046875, 23.87789535522461, 49.736839294433594, 82.57682037353516, 76.60983276367188, 49.64385986328125, 145.93630981445312, 49.753875732421875, 80.56299591064453, 50.69285583496094, 557.5266723632812, 67.51251983642578, 25.8872127532959, 257.90228271484375, 63.5075798034668, 42.81036376953125, 43.61180877685547, 181.11917114257812, 153.42263793945312, 1528.6630859375, 381.6375732421875, 185.5276641845703, 99.05692291259766, 70.3590316772461, 150.36500549316406, 101.7949447631836, 267.02471923828125, 665.4751586914062, 412.5382995605469, 421.5814208984375, 1720.5887451171875, 1772.297607421875, 663.394775390625, 2269.3876953125, 553.359130859375, 1670.10302734375, 1633.40234375, 716.1505126953125, 2427.982666015625, 1127.2841796875, 400.4121398925781, 2957.79150390625, 318.2435607910156, 748.4102172851562, 664.3969116210938, 310.1741943359375, 267.0094909667969, 152.5697784423828, 140.5272979736328, 131.4873809814453, 73.27005767822266, 50.17901611328125, 27.085861206054688, 79.27657318115234, 109.37779998779297, 68.22539520263672, 99.33285522460938, 37.06354522705078, 746.0584716796875, 38.117027282714844, 246.781005859375, 27.05467987060547, 53.151065826416016, 118.28067016601562, 185.3544921875, 151.23574829101562, 73.14517211914062, 34.084903717041016, 399.7781066894531, 110.22209930419922, 80.08583068847656, 50.25804138183594, 98.77861022949219, 51.92347717285156, 18.99605369567871, 180.26487731933594, 276.0819396972656, 104.69768524169922, 553.359130859375, 1528.6630859375, 568.6801147460938, 342.1315002441406, 126.78528594970703, 663.394775390625, 2427.982666015625, 428.57196044921875, 1772.297607421875, 901.9342651367188, 1670.10302734375, 2957.79150390625, 2269.3876953125, 563.8201293945312, 748.4102172851562, 1398.034423828125, 2038.3360595703125, 35.23271560668945, 27.17403221130371, 18.10871124267578, 18.105350494384766, 55.29047775268555, 25.150455474853516, 57.295692443847656, 32.177066802978516, 125.8853988647461, 46.22700119018555, 61.3527946472168, 41.140220642089844, 23.112504959106445, 42.174076080322266, 17.070676803588867, 18.04122543334961, 80.3502197265625, 38.16827392578125, 133.01199340820312, 54.16427993774414, 165.64366149902344, 47.33552169799805, 59.21462631225586, 23.1032772064209, 118.14271545410156, 40.99154281616211, 21.010515213012695, 136.58934020996094, 26.000307083129883, 380.9544372558594, 99.95503997802734, 298.321044921875, 97.97916412353516, 213.81947326660156, 429.3341979980469, 1141.58642578125, 161.48130798339844, 226.75430297851562, 412.5711364746094, 2427.982666015625, 108.07562255859375, 422.79022216796875, 240.87075805664062, 442.5900573730469, 170.48316955566406, 205.8045654296875, 1720.5887451171875, 2038.3360595703125, 320.534912109375, 170.80157470703125, 433.8762512207031, 2957.79150390625, 1568.549072265625, 991.621826171875, 694.0545043945312, 603.39111328125, 64.6349868774414, 43.41936111450195, 38.370155334472656, 32.30939865112305, 31.30055046081543, 27.257171630859375, 26.250450134277344, 51.48400115966797, 24.22386932373047, 23.216459274291992, 18.167924880981445, 18.163063049316406, 17.156631469726562, 17.15366554260254, 16.147506713867188, 39.360572814941406, 27.217815399169922, 20.15683364868164, 33.252784729003906, 77.65872955322266, 82.5770034790039, 128.8948516845703, 553.4090576171875, 64.50825500488281, 62.4124870300293, 18.14413070678711, 29.260787963867188, 25.182113647460938, 18.146059036254883, 39.18730926513672, 31.208820343017578, 331.1521301269531, 424.6312561035156, 185.6917724609375, 66.50845336914062, 385.95977783203125, 287.175048828125, 1141.58642578125, 45.22846984863281, 153.3424072265625, 1964.1026611328125, 512.4650268554688, 229.1571044921875, 187.865234375, 153.24569702148438, 97.19135284423828, 385.4726257324219, 227.3759765625, 640.1375122070312, 839.8799438476562, 225.56805419921875, 211.02902221679688, 433.8762512207031, 319.6321716308594, 470.5163269042969, 589.3677368164062, 2038.3360595703125, 1720.5887451171875, 1696.59619140625, 694.3632202148438], \"loglift\": [30.0, 29.0, 28.0, 27.0, 26.0, 25.0, 24.0, 23.0, 22.0, 21.0, 20.0, 19.0, 18.0, 17.0, 16.0, 15.0, 14.0, 13.0, 12.0, 11.0, 10.0, 9.0, 8.0, 7.0, 6.0, 5.0, 4.0, 3.0, 2.0, 1.0, 1.5427000522613525, 1.5426000356674194, 1.5418000221252441, 1.5410000085830688, 1.5401999950408936, 1.5401999950408936, 1.5399999618530273, 1.5397000312805176, 1.5388000011444092, 1.5378999710083008, 1.5369999408721924, 1.5367000102996826, 1.5362999439239502, 1.5361000299453735, 1.535599946975708, 1.5354000329971313, 1.5353000164031982, 1.5353000164031982, 1.535099983215332, 1.534999966621399, 1.5347000360488892, 1.5331000089645386, 1.531999945640564, 1.5313999652862549, 1.5311000347137451, 1.530500054359436, 1.5300999879837036, 1.5300999879837036, 1.5298000574111938, 1.529099941253662, 1.5276999473571777, 1.5094000101089478, 1.5289000272750854, 1.5263999700546265, 1.5068000555038452, 1.5082000494003296, 1.5214999914169312, 1.5205999612808228, 1.4706000089645386, 1.5091999769210815, 1.4713000059127808, 1.5013999938964844, 1.4809000492095947, 1.4711999893188477, 1.4765000343322754, 1.3877999782562256, 1.406499981880188, 1.2961000204086304, 1.3903000354766846, 1.407099962234497, 1.4067000150680542, 1.1025999784469604, 1.3486000299453735, 1.1236000061035156, 1.0504000186920166, 1.3193999528884888, 0.9629999995231628, 1.1727999448776245, 1.3028000593185425, 0.9663000106811523, 0.9710999727249146, 0.7451000213623047, 0.29339998960494995, 0.5751000046730042, 0.26330000162124634, 0.08560000360012054, 0.9805999994277954, 0.008700000122189522, 0.8489999771118164, 1.1117000579833984, 0.20430000126361847, 0.6190999746322632, 0.8384000062942505, 1.979099988937378, 1.9763000011444092, 1.9585000276565552, 1.9534000158309937, 1.9498000144958496, 1.9478000402450562, 1.94760000705719, 1.9416999816894531, 1.9388999938964844, 1.9286999702453613, 1.9112999439239502, 1.9112999439239502, 1.9043999910354614, 1.9041999578475952, 1.8981000185012817, 1.878000020980835, 1.8708000183105469, 1.8596999645233154, 1.8562999963760376, 1.8529000282287598, 1.8199000358581543, 1.812999963760376, 1.811900019645691, 1.8082000017166138, 1.7976000308990479, 1.779099941253662, 1.7697999477386475, 1.7662999629974365, 1.7519999742507935, 1.7441999912261963, 1.7319999933242798, 1.684000015258789, 1.6721999645233154, 1.695099949836731, 1.6089999675750732, 1.5473999977111816, 1.5952999591827393, 1.7101999521255493, 1.5541000366210938, 1.4915000200271606, 1.5182000398635864, 1.5226999521255493, 1.6620999574661255, 1.666700005531311, 1.2026000022888184, 1.100100040435791, 1.2920000553131104, 1.6132999658584595, 1.2100000381469727, 0.8597000241279602, 1.1562999486923218, 1.0089999437332153, 0.9901000261306763, 1.4400999546051025, 0.8435999751091003, 1.0039000511169434, 0.32670000195503235, 0.522599995136261, 0.7168999910354614, 0.2969000041484833, 0.6385999917984009, 0.25440001487731934, 0.03669999912381172, 0.15109999477863312, 0.5907999873161316, -0.012199999764561653, -0.4756999909877777, 2.065700054168701, 2.054500102996826, 2.050299882888794, 2.0483999252319336, 2.0469000339508057, 2.0448999404907227, 2.0357000827789307, 2.0344998836517334, 2.0325000286102295, 2.02839994430542, 2.02839994430542, 2.016900062561035, 2.015700101852417, 2.013700008392334, 1.9694000482559204, 1.9419000148773193, 1.9416999816894531, 1.9414000511169434, 1.9354000091552734, 1.933899998664856, 1.9336999654769897, 1.9328999519348145, 1.9294999837875366, 1.923699975013733, 1.9228999614715576, 1.9217000007629395, 1.9189000129699707, 1.8916000127792358, 1.8896000385284424, 1.88510000705719, 1.8840999603271484, 1.8767000436782837, 1.8523999452590942, 1.8072999715805054, 1.7137000560760498, 1.7725000381469727, 1.7410999536514282, 1.638100028038025, 1.542099952697754, 1.5484000444412231, 1.6663000583648682, 1.6931999921798706, 1.416200041770935, 1.6859999895095825, 1.5956000089645386, 1.0535000562667847, 1.3732000589370728, 1.642199993133545, 1.750499963760376, 1.6014000177383423, 1.1723999977111816, 1.6085000038146973, 1.3128999471664429, 1.34660005569458, 1.2265000343322754, 1.208299994468689, 1.2299000024795532, 0.8047000169754028, 1.000100016593933, 0.7049999833106995, 0.7907000184059143, 0.3082999885082245, 0.10610000044107437, -0.13940000534057617, -0.2865000069141388, -0.0013000000035390258, -0.09019999951124191, -0.08829999715089798, 0.28610000014305115, 2.2204999923706055, 2.219599962234497, 2.2112998962402344, 2.205199956893921, 2.1993000507354736, 2.196000099182129, 2.180299997329712, 2.1456000804901123, 2.1387999057769775, 2.1340999603271484, 2.1243999004364014, 2.1112000942230225, 2.1052000522613525, 2.0940001010894775, 2.0678000450134277, 2.0478999614715576, 2.047300100326538, 2.043800115585327, 2.0160000324249268, 1.989799976348877, 1.9783999919891357, 1.9744999408721924, 1.9572999477386475, 1.9503999948501587, 1.9222999811172485, 1.913599967956543, 1.8933000564575195, 1.8899999856948853, 1.8753000497817993, 1.8596999645233154, 1.7984999418258667, 1.705299973487854, 1.6332999467849731, 1.6188000440597534, 1.6885000467300415, 1.5418000221252441, 1.3803999423980713, 1.6335999965667725, 1.7617000341415405, 1.3055000305175781, 1.2828999757766724, 1.174399971961975, 1.5819000005722046, 1.5961999893188477, 1.7131999731063843, 1.1675000190734863, 0.680899977684021, 1.0530999898910522, 0.6093999743461609, 0.3714999854564667, 0.44940000772476196, 0.4803999960422516, 0.8914999961853027, 1.4021999835968018, 0.8598999977111816, 0.2379000037908554, 0.32820001244544983, -0.13379999995231628, -0.09539999812841415, 0.6743000149726868, 2.254499912261963, 2.25, 2.2458999156951904, 2.243499994277954, 2.240299940109253, 2.2402000427246094, 2.2376999855041504, 2.2353999614715576, 2.235300064086914, 2.2342000007629395, 2.224900007247925, 2.2230000495910645, 2.2155001163482666, 2.210400104522705, 2.203900098800659, 2.1826000213623047, 2.172100067138672, 2.169600009918213, 2.1619999408721924, 2.1514999866485596, 2.1473000049591064, 2.132999897003174, 2.127000093460083, 2.122999906539917, 2.118299961090088, 2.1064000129699707, 2.101599931716919, 2.099600076675415, 2.0696001052856445, 2.0599000453948975, 2.0223000049591064, 1.9501999616622925, 2.0120999813079834, 1.8430999517440796, 2.0164999961853027, 2.0409998893737793, 1.950700044631958, 1.9991999864578247, 1.6059999465942383, 1.801300048828125, 1.6953999996185303, 1.592900037765503, 1.6504000425338745, 0.7289999723434448, 0.44369998574256897, 1.5680999755859375, 0.7538999915122986, 1.0978000164031982, 0.925000011920929, 1.23580002784729, -0.14059999585151672, 0.6751999855041504, -0.4041000008583069, 0.1800999939441681, 0.11240000277757645, 0.3490000069141388, 2.559999942779541, 2.550299882888794, 2.542099952697754, 2.539900064468384, 2.535399913787842, 2.5188000202178955, 2.514899969100952, 2.4899001121520996, 2.472100019454956, 2.454699993133545, 2.4475998878479004, 2.4358999729156494, 2.435499906539917, 2.416800022125244, 2.4156999588012695, 2.4054999351501465, 2.3884999752044678, 2.35479998588562, 2.347100019454956, 2.337899923324585, 2.331899881362915, 2.281100034713745, 2.270400047302246, 2.254699945449829, 2.254499912261963, 2.2197000980377197, 2.2030999660491943, 2.1851999759674072, 2.151400089263916, 2.1433000564575195, 2.1389999389648438, 2.1389999389648438, 2.023699998855591, 2.0102999210357666, 2.0859999656677246, 2.079400062561035, 1.7940000295639038, 1.538599967956543, 1.2244999408721924, 1.4812999963760376, 1.6059000492095947, 1.0859999656677246, 1.1553000211715698, 0.8744000196456909, 0.8141999840736389, 1.2127000093460083, 1.151900053024292, 0.6157000064849854, 1.2493000030517578, 0.2775999903678894, 0.2712000012397766, 1.4323999881744385, 1.027899980545044, 1.7561999559402466, -0.18029999732971191, 0.6955999732017517, 0.5031999945640564, 0.6791999936103821, -0.7516999840736389, -0.2020999938249588, 0.4268999993801117, 2.6205999851226807, 2.6203999519348145, 2.6189000606536865, 2.617799997329712, 2.6157000064849854, 2.613600015640259, 2.6045000553131104, 2.603100061416626, 2.59689998626709, 2.5945000648498535, 2.5885000228881836, 2.581899881362915, 2.5748000144958496, 2.5397000312805176, 2.5283000469207764, 2.5262999534606934, 2.50600004196167, 2.500699996948242, 2.49180006980896, 2.4783999919891357, 2.470099925994873, 2.4655001163482666, 2.450200080871582, 2.4435999393463135, 2.430999994277954, 2.420799970626831, 2.4059998989105225, 2.390399932861328, 2.337399959564209, 2.3292999267578125, 2.323499917984009, 2.2957000732421875, 2.0927000045776367, 2.1682000160217285, 2.162100076675415, 2.258699893951416, 2.299299955368042, 2.0599000453948975, 2.1556999683380127, 1.7619999647140503, 1.373900055885315, 1.5614999532699585, 1.5489000082015991, 0.6973999738693237, 0.6759999990463257, 1.1444000005722046, 0.3799000084400177, 1.169800043106079, 0.4681999981403351, 0.48100000619888306, 0.8956000208854675, -0.10729999840259552, 0.47189998626708984, 1.180999994277954, -0.44429999589920044, 1.353600025177002, 0.5386000275611877, 0.6394000053405762, 2.8271000385284424, 2.8266000747680664, 2.8239998817443848, 2.8236000537872314, 2.8231000900268555, 2.817699909210205, 2.8118999004364014, 2.796299934387207, 2.7945001125335693, 2.7778000831604004, 2.7492001056671143, 2.7479000091552734, 2.7202000617980957, 2.710200071334839, 2.708199977874756, 2.6700000762939453, 2.645900011062622, 2.5992000102996826, 2.5906999111175537, 2.574399948120117, 2.5559000968933105, 2.5445001125335693, 2.5415000915527344, 2.499300003051758, 2.492000102996826, 2.490499973297119, 2.481800079345703, 2.4672999382019043, 2.4637999534606934, 2.431299924850464, 2.364300012588501, 2.288599967956543, 2.375999927520752, 1.8530000448226929, 1.4843000173568726, 1.6850999593734741, 1.8415000438690186, 2.2084999084472656, 1.4499000310897827, 0.39980000257492065, 1.4417999982833862, 0.5407000184059143, 0.9534000158309937, 0.48590001463890076, 0.08919999748468399, 0.13860000669956207, 1.0561000108718872, 0.7745000123977661, 0.14910000562667847, -0.2214999943971634, 2.8726000785827637, 2.8649001121520996, 2.8477001190185547, 2.8469998836517334, 2.8231000900268555, 2.8190999031066895, 2.8187999725341797, 2.8143999576568604, 2.8059000968933105, 2.7441999912261963, 2.7383999824523926, 2.7309000492095947, 2.7165000438690186, 2.7116000652313232, 2.6856000423431396, 2.6805999279022217, 2.6740000247955322, 2.6507999897003174, 2.6340999603271484, 2.630500078201294, 2.626199960708618, 2.615499973297119, 2.597100019454956, 2.587399959564209, 2.571500062942505, 2.561500072479248, 2.553499937057495, 2.5464000701904297, 2.536400079727173, 2.50819993019104, 2.4946000576019287, 2.2936999797821045, 2.4005000591278076, 2.2806999683380127, 2.131200075149536, 1.5835000276565552, 2.141900062561035, 1.9936000108718872, 1.7879999876022339, 1.1624000072479248, 2.2300000190734863, 1.6033999919891357, 1.8370000123977661, 1.535099983215332, 1.989400029182434, 1.8776999711990356, 0.6373999714851379, 0.3772999942302704, 1.430999994277954, 1.8411999940872192, 1.0936000347137451, -0.5600000023841858, -0.09470000118017197, 0.2743000090122223, 0.580299973487854, 0.6972000002861023, 2.960099935531616, 2.952899932861328, 2.9504001140594482, 2.9458999633789062, 2.944999933242798, 2.9405999183654785, 2.939300060272217, 2.937999963760376, 2.9363999366760254, 2.9347000122070312, 2.9235000610351562, 2.9235000610351562, 2.9203999042510986, 2.9203999042510986, 2.9170000553131104, 2.910599946975708, 2.8877999782562256, 2.8785998821258545, 2.8687000274658203, 2.8485000133514404, 2.842900037765503, 2.8417999744415283, 2.8343000411987305, 2.8306000232696533, 2.8280999660491943, 2.8004000186920166, 2.7711000442504883, 2.7328999042510986, 2.7255001068115234, 2.7207999229431152, 2.697499990463257, 2.518699884414673, 2.38700008392334, 2.483599901199341, 2.552000045776367, 2.013700008392334, 2.045300006866455, 1.5418000221252441, 2.598599910736084, 2.142899990081787, 1.1755000352859497, 1.6684000492095947, 1.9648000001907349, 2.023400068283081, 2.101300001144409, 2.2853000164031982, 1.6212999820709229, 1.8752000331878662, 1.2656999826431274, 1.0892000198364258, 1.7862000465393066, 1.8203999996185303, 1.2805999517440796, 1.4234000444412231, 1.0922000408172607, 0.8812000155448914, -0.18970000743865967, -0.17589999735355377, -0.1876000016927719, 0.5960999727249146], \"logprob\": [30.0, 29.0, 28.0, 27.0, 26.0, 25.0, 24.0, 23.0, 22.0, 21.0, 20.0, 19.0, 18.0, 17.0, 16.0, 15.0, 14.0, 13.0, 12.0, 11.0, 10.0, 9.0, 8.0, 7.0, 6.0, 5.0, 4.0, 3.0, 2.0, 1.0, -5.508900165557861, -5.527100086212158, -5.664999961853027, -5.776500225067139, -5.893199920654297, -5.8933000564575195, -5.911099910736084, -5.947800159454346, -6.04580020904541, -6.143099784851074, -6.225900173187256, -6.250800132751465, -6.2895002365112305, -6.302700042724609, -6.343500137329102, -6.357500076293945, -6.371600151062012, -6.371600151062012, -6.386199951171875, -6.386000156402588, -6.41540002822876, -6.525599956512451, -6.594399929046631, -6.63070011138916, -6.649400234222412, -6.68779993057251, -6.707499980926514, -6.707600116729736, -6.727700233459473, -4.953400135040283, -4.783699989318848, -3.8773999214172363, -5.895599842071533, -5.915599822998047, -4.27869987487793, -5.167900085449219, -5.835599899291992, -5.844600200653076, -4.084400177001953, -5.535900115966797, -4.624000072479248, -5.711900234222412, -5.354899883270264, -5.414299964904785, -5.526800155639648, -4.487100124359131, -4.839600086212158, -3.7588999271392822, -4.723199844360352, -5.381100177764893, -5.540200233459473, -4.505799770355225, -5.337399959564209, -4.631700038909912, -4.513599872589111, -5.297599792480469, -4.486800193786621, -5.006999969482422, -5.361800193786621, -4.684500217437744, -4.775000095367432, -4.546800136566162, -4.13070011138916, -4.487599849700928, -4.4079999923706055, -4.270899772644043, -5.110199928283691, -4.7220001220703125, -5.160799980163574, -5.2754998207092285, -5.047699928283691, -5.197500228881836, -5.250699996948242, -5.939000129699707, -6.129899978637695, -6.065100193023682, -7.034900188446045, -7.126500129699707, -7.173999786376953, -4.00439977645874, -7.2804999351501465, -4.88070011138916, -6.212100028991699, -7.365699768066406, -6.617800235748291, -6.119500160217285, -6.9670000076293945, -6.375100135803223, -6.992700099945068, -6.65749979019165, -3.825700044631958, -6.594099998474121, -7.36929988861084, -6.082900047302246, -7.460400104522705, -6.6894001960754395, -5.464700222015381, -7.231400012969971, -6.257699966430664, -7.3024001121521, -6.269000053405762, -6.05649995803833, -7.532800197601318, -4.849999904632568, -3.109499931335449, -5.070000171661377, -5.436399936676025, -4.267000198364258, -3.664400100708008, -4.331399917602539, -5.758999824523926, -4.622399806976318, -4.267300128936768, -4.749499797821045, -4.991499900817871, -5.7291998863220215, -5.751999855041504, -3.860100030899048, -3.6149001121520996, -4.438799858093262, -5.65939998626709, -4.479599952697754, -3.6717000007629395, -4.59250020980835, -4.403900146484375, -4.618599891662598, -5.384300231933594, -4.689799785614014, -4.908199787139893, -4.241799831390381, -4.588600158691406, -4.788099765777588, -4.4039998054504395, -4.719600200653076, -4.498600006103516, -4.387400150299072, -4.579599857330322, -4.75600004196167, -4.683499813079834, -4.634799957275391, -4.410699844360352, -4.652699947357178, -6.091100215911865, -6.311600208282471, -6.3821001052856445, -6.458199977874756, -6.798900127410889, -6.836299896240234, -5.679699897766113, -7.002799987792969, -7.002900123596191, -7.259300231933594, -6.3892998695373535, -7.319399833679199, -4.376399993896484, -6.72760009765625, -6.729000091552734, -7.452600002288818, -6.423299789428711, -7.014599800109863, -6.676000118255615, -4.785799980163574, -4.058899879455566, -5.179999828338623, -7.1992998123168945, -7.10699987411499, -4.699699878692627, -6.1458001136779785, -7.331600189208984, -7.060800075531006, -6.498799800872803, -5.844600200653076, -5.1468000411987305, -4.933300018310547, -3.1947999000549316, -5.478899955749512, -5.212699890136719, -4.751299858093262, -4.243299961090088, -4.3403000831604, -5.064199924468994, -5.297299861907959, -4.237800121307373, -5.4604997634887695, -5.1290998458862305, -3.1057000160217285, -4.403299808502197, -5.4766998291015625, -5.79040002822876, -5.479100227355957, -4.6356000900268555, -5.505499839782715, -4.972300052642822, -5.052599906921387, -4.888599872589111, -4.891900062561035, -4.9670000076293945, -4.489500045776367, -4.81220006942749, -4.653299808502197, -4.769100189208984, -4.4446001052856445, -4.425300121307373, -4.4959001541137695, -4.710599899291992, -4.7947998046875, -4.805099964141846, -4.818999767303467, -4.9257001876831055, -6.410600185394287, -6.440999984741211, -5.99459981918335, -6.861100196838379, -6.590400218963623, -7.0706000328063965, -4.871399879455566, -5.076200008392334, -6.462600231170654, -5.946400165557861, -6.204100131988525, -7.001299858093262, -7.220200061798096, -6.235799789428711, -6.082200050354004, -7.2779998779296875, -4.359099864959717, -5.457600116729736, -7.1971001625061035, -6.180500030517578, -6.713600158691406, -4.393199920654297, -6.764900207519531, -6.235000133514404, -6.595600128173828, -4.776599884033203, -5.93120002746582, -6.508800029754639, -4.92549991607666, -5.703000068664551, -4.591599941253662, -4.512499809265137, -4.211299896240234, -4.300300121307373, -4.895400047302246, -4.08050012588501, -3.1881000995635986, -4.63539981842041, -5.466599941253662, -3.9886999130249023, -4.2769999504089355, -4.238500118255615, -5.228000164031982, -5.2769999504089355, -5.6107001304626465, -4.734600067138672, -4.033999919891357, -4.719200134277344, -4.0914998054504395, -3.787600040435791, -4.082099914550781, -4.190899848937988, -4.685999870300293, -5.235199928283691, -4.8709001541137695, -4.514999866485596, -4.5802998542785645, -4.490300178527832, -4.519400119781494, -4.934500217437744, -4.3755998611450195, -5.1921000480651855, -5.601799964904785, -5.781000137329102, -5.979499816894531, -5.941299915313721, -6.107399940490723, -6.227499961853027, -4.8993000984191895, -6.28000020980835, -5.6645002365112305, -6.67080020904541, -5.7164998054504395, -6.945799827575684, -7.114799976348877, -5.8927001953125, -5.972799777984619, -6.763299942016602, -6.435800075531006, -4.072299957275391, -7.060999870300293, -4.503200054168701, -6.559800148010254, -4.517000198364258, -4.517300128936768, -5.741499900817871, -6.585700035095215, -6.495699882507324, -3.0541999340057373, -4.055799961090088, -5.122399806976318, -4.208600044250488, -5.172399997711182, -3.5051000118255615, -5.294400215148926, -5.683199882507324, -5.0782999992370605, -5.451499938964844, -3.6858999729156494, -4.700300216674805, -4.49459981918335, -4.1722002029418945, -4.846700191497803, -4.001699924468994, -3.715399980545044, -5.14300012588501, -4.30109977722168, -4.718800067901611, -4.608399868011475, -5.1107001304626465, -4.497099876403809, -4.947199821472168, -4.828199863433838, -5.114099979400635, -5.139599800109863, -5.155900001525879, -3.6254000663757324, -5.396599769592285, -5.872000217437744, -5.974299907684326, -6.150700092315674, -5.995200157165527, -3.825000047683716, -6.294899940490723, -4.080999851226807, -5.847599983215332, -5.698200225830078, -5.9096999168396, -6.027900218963623, -6.47730016708374, -6.125899791717529, -5.853099822998047, -6.585000038146973, -3.9860000610351562, -3.071000099182129, -5.687099933624268, -5.723499774932861, -6.112500190734863, -6.48390007019043, -7.127399921417236, -6.499599933624268, -6.679200172424316, -6.519199848175049, -6.206200122833252, -6.7052001953125, -6.646999835968018, -5.2195000648498535, -6.207799911499023, -3.814300060272217, -4.4506001472473145, -5.96150016784668, -5.932600021362305, -4.765200138092041, -4.0254998207092285, -3.4763998985290527, -4.430799961090088, -5.026100158691406, -4.025199890136719, -4.191500186920166, -3.694200038909912, -3.938699960708618, -4.5524001121521, -4.60699987411499, -4.0991997718811035, -4.857999801635742, -4.146500110626221, -4.260300159454346, -5.17710018157959, -4.969600200653076, -5.428299903869629, -4.536799907684326, -4.956900119781494, -4.946599960327148, -5.106200218200684, -4.910900115966797, -5.021299839019775, -5.132999897003174, -4.782700061798096, -4.817999839782715, -4.953000068664551, -5.096399784088135, -5.278500080108643, -5.432499885559082, -5.91480016708374, -5.970399856567383, -6.192800045013428, -6.26669979095459, -6.4328999519348145, -6.579400062561035, -6.055500030517578, -5.340700149536133, -6.450099945068359, -5.718299865722656, -5.231599807739258, -5.3119001388549805, -5.7546000480651855, -4.689799785614014, -5.774099826812744, -5.296800136566162, -5.775300025939941, -3.384200096130371, -5.5081000328063965, -6.476799964904785, -4.192800045013428, -5.6097002029418945, -6.057199954986572, -6.0467000007629395, -4.628600120544434, -4.822500228881836, -2.7265000343322754, -4.038599967956543, -4.76609992980957, -5.296999931335449, -5.598400115966797, -5.078400135040283, -5.372600078582764, -4.802000045776367, -4.2769999504089355, -4.567500114440918, -4.558499813079834, -4.003499984741211, -3.995300054550171, -4.509500026702881, -4.0441999435424805, -4.665500164031982, -4.262499809265137, -4.271900177001953, -4.68179988861084, -4.463799953460693, -4.651899814605713, -4.97790002822876, -4.603400230407715, -5.034900188446045, -4.994800090789795, -5.013000011444092, -3.587100028991699, -3.7374000549316406, -4.299699783325195, -4.382400035858154, -4.4492998123168945, -5.0395002365112305, -5.423799991607666, -6.056000232696533, -4.98390007019043, -4.678699970245361, -5.179299831390381, -4.804999828338623, -5.81850004196167, -2.8262999057769775, -5.802499771118164, -3.9728000164031982, -6.207499980926514, -5.578999996185303, -4.787600040435791, -4.354700088500977, -4.576600074768066, -5.3144001960754395, -6.080900192260742, -3.6612000465393066, -4.956900119781494, -5.277699947357178, -5.752399921417236, -5.091100215911865, -5.737800121307373, -6.7758002281188965, -4.592599868774414, -4.242000102996826, -5.124300003051758, -3.9823999404907227, -3.33489990234375, -4.122900009155273, -4.474599838256836, -5.100299835205078, -4.203999996185303, -3.956700086593628, -4.64900016784668, -4.1305999755859375, -4.393400192260742, -4.244800090789795, -4.070000171661377, -4.2855000495910645, -4.760499954223633, -4.758900165557861, -4.759399890899658, -4.752900123596191, -5.716700077056885, -5.984099864959717, -6.407199859619141, -6.408199787139893, -5.3155999183654785, -6.107399940490723, -5.284299850463867, -5.865699768066406, -4.510000228881836, -5.573599815368652, -5.296299934387207, -5.703499794006348, -6.294400215148926, -5.697999954223633, -6.628399848937988, -6.578100204467773, -5.09089994430542, -5.85860013961792, -4.626800060272217, -5.528800010681152, -4.415299892425537, -5.678500175476074, -5.473100185394287, -6.423900127410889, -4.8078999519348145, -5.876399993896484, -6.552800178527832, -4.688000202178955, -6.356800079345703, -3.700500011444092, -5.052000045776367, -4.15939998626709, -5.166100025177002, -4.505499839782715, -3.9577999114990234, -3.5276999473571777, -4.925000190734863, -4.73390007019043, -4.34089994430542, -3.1940999031066895, -5.238500118255615, -4.500999927520752, -4.830100059509277, -4.523600101470947, -5.0233001708984375, -4.946700096130371, -4.063499927520752, -4.154200077056885, -4.950300216674805, -5.169600009918213, -4.985000133514404, -4.719200134277344, -4.8881001472473145, -4.977700233459473, -5.02839994430542, -5.051599979400635, -5.022500038146973, -5.427499771118164, -5.553699970245361, -5.730100154876709, -5.762700080871582, -5.905399799346924, -5.944300174713135, -5.27209997177124, -6.027599811553955, -6.071800231933594, -6.328199863433838, -6.328499794006348, -6.388500213623047, -6.388700008392334, -6.452600002288818, -5.56790018081665, -5.95959997177124, -6.269199848175049, -5.778500080108643, -4.950500011444092, -4.894700050354004, -4.450500011444092, -3.0009000301361084, -5.153900146484375, -5.1894001960754395, -6.452600002288818, -6.004000186920166, -6.192299842834473, -6.527299880981445, -5.762199878692627, -6.013199806213379, -3.8299999237060547, -3.713099956512451, -4.443600177764893, -5.4019999504089355, -4.1819000244140625, -4.446000099182129, -3.5692999362945557, -5.741000175476074, -4.975800037384033, -3.3931000232696533, -4.24370002746582, -4.752099990844727, -4.892199993133545, -5.01800012588501, -5.289400100708008, -4.5756001472473145, -4.8495001792907715, -4.423900127410889, -4.328800201416016, -4.946499824523926, -4.978899955749512, -4.797999858856201, -4.9608001708984375, -4.905300140380859, -4.89109992980957, -4.721199989318848, -4.876800060272217, -4.902500152587891, -5.012199878692627]}, \"token.table\": {\"Topic\": [2, 4, 1, 3, 4, 5, 7, 9, 10, 4, 6, 2, 6, 2, 3, 8, 1, 2, 3, 4, 5, 8, 9, 10, 1, 5, 7, 8, 9, 7, 9, 1, 5, 7, 8, 10, 2, 3, 6, 1, 2, 5, 1, 7, 7, 9, 1, 2, 3, 4, 5, 6, 7, 8, 9, 1, 2, 6, 2, 3, 9, 2, 3, 1, 2, 3, 6, 7, 8, 9, 10, 4, 7, 8, 1, 10, 1, 5, 4, 10, 2, 3, 4, 1, 2, 3, 4, 6, 8, 9, 10, 3, 9, 10, 9, 6, 10, 2, 6, 8, 3, 4, 7, 9, 10, 1, 3, 4, 5, 10, 1, 2, 4, 1, 2, 1, 7, 1, 5, 10, 1, 5, 1, 5, 6, 7, 8, 2, 3, 4, 5, 6, 7, 8, 9, 10, 5, 1, 7, 1, 2, 3, 4, 9, 10, 9, 1, 6, 8, 8, 8, 10, 5, 9, 1, 2, 3, 4, 7, 9, 1, 6, 7, 1, 1, 3, 4, 1, 3, 4, 5, 7, 1, 5, 2, 7, 2, 7, 5, 6, 9, 7, 8, 9, 2, 6, 10, 2, 4, 6, 8, 8, 5, 7, 8, 2, 6, 6, 6, 5, 7, 8, 9, 1, 9, 1, 6, 8, 9, 3, 5, 8, 5, 7, 3, 7, 8, 4, 5, 8, 1, 6, 1, 1, 6, 10, 5, 2, 4, 10, 5, 10, 2, 3, 4, 5, 6, 8, 10, 1, 2, 3, 4, 5, 6, 7, 9, 3, 5, 1, 2, 3, 4, 5, 6, 7, 8, 10, 2, 3, 4, 6, 10, 1, 2, 3, 4, 5, 6, 8, 9, 10, 3, 5, 8, 2, 4, 6, 3, 1, 2, 3, 4, 5, 6, 7, 8, 9, 1, 4, 5, 7, 8, 2, 5, 6, 1, 5, 6, 9, 10, 4, 8, 1, 2, 3, 4, 5, 6, 7, 8, 9, 10, 1, 2, 3, 4, 5, 8, 9, 1, 2, 3, 4, 5, 6, 7, 8, 9, 5, 1, 2, 1, 2, 3, 4, 5, 6, 7, 8, 9, 10, 1, 3, 4, 5, 6, 7, 8, 1, 7, 1, 4, 6, 10, 10, 2, 3, 5, 7, 8, 10, 4, 6, 10, 2, 4, 6, 7, 8, 9, 10, 2, 10, 2, 4, 7, 5, 8, 3, 10, 2, 5, 1, 4, 6, 8, 9, 1, 2, 4, 5, 6, 2, 3, 2, 3, 4, 5, 6, 7, 8, 9, 10, 2, 3, 4, 5, 6, 7, 8, 9, 10, 2, 4, 6, 7, 8, 9, 10, 2, 3, 4, 6, 8, 9, 10, 2, 3, 4, 6, 9, 10, 2, 3, 4, 6, 7, 8, 9, 10, 3, 1, 2, 3, 4, 5, 6, 7, 8, 9, 10, 10, 4, 7, 1, 7, 8, 1, 2, 5, 6, 7, 8, 9, 10, 1, 2, 3, 4, 5, 6, 7, 8, 9, 10, 3, 7, 8, 5, 3, 4, 1, 1, 2, 3, 4, 5, 9, 10, 1, 5, 3, 4, 5, 7, 5, 8, 5, 7, 1, 5, 6, 7, 8, 9, 3, 4, 5, 8, 7, 7, 7, 2, 7, 9, 7, 3, 4, 1, 5, 7, 1, 4, 5, 9, 10, 5, 8, 8, 9, 1, 2, 3, 2, 6, 8, 9, 10, 1, 4, 5, 8, 1, 3, 5, 2, 5, 6, 9, 10, 2, 4, 9, 3, 4, 6, 10, 2, 3, 4, 5, 6, 9, 10, 3, 4, 2, 9, 2, 4, 5, 9, 1, 2, 4, 5, 7, 8, 9, 10, 6, 7, 10, 1, 4, 5, 9, 1, 4, 8, 1, 2, 3, 4, 6, 9, 10, 1, 5, 3, 5, 6, 7, 8, 10, 1, 2, 5, 6, 8, 10, 1, 7, 9, 1, 6, 7, 1, 5, 6, 1, 5, 7, 1, 6, 7, 8, 10, 4, 5, 7, 8, 3, 5, 9, 1, 3, 4, 5, 6, 7, 8, 9, 8, 1, 4, 2, 5, 2, 3, 10, 10, 10, 2, 7, 10, 1, 3, 1, 2, 3, 4, 5, 6, 7, 8, 9, 1, 3, 6, 1, 4, 5, 7, 8, 9, 2, 1, 5, 8, 1, 2, 4, 6, 1, 5, 1, 2, 3, 10, 5, 10, 1, 2, 3, 6, 7, 8, 10, 7, 10, 2, 4, 6, 8, 10, 3, 8, 1, 2, 3, 4, 5, 6, 7, 9, 10, 1, 2, 3, 4, 5, 6, 7, 8, 9, 10, 1, 2, 3, 4, 5, 6, 7, 8, 9, 10, 4, 8, 2, 3, 4, 6, 7, 9, 10, 1, 2, 3, 4, 5, 7, 8, 9, 10, 6, 7, 9, 4, 2, 3, 10, 3, 9, 6, 7, 8, 3, 4, 9, 1, 2, 3, 5, 6, 7, 8, 9, 10, 3, 4, 1, 2, 3, 5, 8, 9, 3, 4, 1, 2, 4, 7, 10, 2, 5, 6, 6, 7, 1, 9, 2, 2, 3, 6, 9, 10, 2, 4, 7, 10, 1, 7, 4, 6, 10, 1, 3, 4, 6, 7, 8, 6, 7, 6, 7, 9, 3, 5, 7, 3, 9, 1, 5, 7, 8, 10, 2, 3, 4, 5, 6, 7, 9, 10, 1, 5, 1, 8, 7, 8, 7, 1, 5, 10, 1, 4, 3, 5, 6, 10, 3, 2, 3, 4, 6, 9, 10, 3, 4, 7, 2, 6, 9, 7, 8, 1, 2, 6, 7, 9, 1, 2, 3, 4, 5, 8, 1, 5, 3, 4, 10, 1, 2, 3, 4, 5, 6, 7, 8, 9, 10, 1, 10, 2, 10, 1, 2, 3, 5, 6, 7, 9, 10, 2, 3, 4, 6, 8, 9, 2, 9, 10, 2, 2, 9, 4, 9, 7, 5, 7, 1, 3, 4, 5, 6, 7, 1, 2, 3, 5, 6, 9, 10, 1, 4, 5, 1, 1, 2, 3, 5, 6, 8, 10, 1, 8, 2, 3, 6, 7, 9, 6, 4, 9, 2, 5, 8, 2, 4, 6, 7, 9, 10, 1, 2, 4, 5, 6, 1, 2, 1, 3, 10, 4, 1, 7, 1, 3, 5, 10, 1, 2, 3, 4, 5, 6, 8, 9, 10, 1, 2, 3, 4, 5, 6, 8, 10, 3, 4, 1, 3, 4, 5, 4, 7, 8, 1, 2, 1, 1, 1, 2, 3, 4, 5, 7, 8, 9, 10, 1, 7, 8, 2, 4, 5, 6, 7, 10, 3, 6, 5, 6, 3, 6, 4, 9, 1, 2, 3, 6, 9, 10, 3, 1, 2, 4, 8, 9, 10, 4, 10, 3, 4, 9, 5, 7, 8, 1, 3, 1, 1, 6, 7, 8, 2, 3, 10, 2, 10, 1, 7, 8, 1, 2, 3, 4, 5, 6, 7, 8, 2, 8, 10, 2, 4, 1, 2, 4, 6, 7, 8, 10, 1, 2, 3, 4, 5, 6, 7, 8, 10, 1, 5, 7, 8, 1, 5, 8, 5, 8, 10, 3, 1, 2, 3, 4, 5, 6, 7, 8, 9, 3, 10, 2, 9, 2, 9, 2, 4, 6, 7, 9, 10, 2, 3, 4, 6, 7, 2, 3, 5, 1, 2, 4, 5, 2, 3, 4, 6, 9, 10, 1, 2, 3, 1, 5, 6, 8, 9, 5, 7, 1, 2, 3, 4, 5, 6, 8, 9, 10, 1, 2, 3, 4, 5, 6, 7, 8, 9, 10, 5, 8, 1, 5, 7, 1, 5, 2, 3, 7, 1, 2, 3, 4, 7, 8, 10, 4, 5, 9, 2, 4, 8, 2, 4, 10, 1, 7, 6, 7, 5, 3, 10, 5, 8, 5, 6, 7, 2, 7, 8, 9, 10, 1, 4, 5, 9, 1, 2, 3, 6, 9, 3, 9, 3, 4, 6, 2, 3, 2, 8, 9, 5, 8, 4, 7, 1, 2, 3, 4, 5, 6, 7, 8, 9, 2, 1, 4, 6, 1, 1, 2, 3, 4, 5, 9, 10, 3, 9, 10, 6, 10, 1, 1, 1, 1, 1, 5, 1, 4, 5, 2, 3, 2, 3, 6, 8, 1, 2, 5, 8, 3, 4, 7, 9, 6, 10, 1, 3, 1, 3, 10, 1, 3, 7, 8, 10, 1, 2, 3, 4, 5, 6, 7, 8, 10, 1, 5, 7, 10, 1, 2, 10, 7, 10, 3, 5, 3, 2, 6, 7, 8, 9, 6, 8, 1, 2, 3, 4, 6, 7, 8, 9, 10, 3, 5, 3, 5, 1, 6, 1, 5, 3, 4, 1, 9, 3, 4, 5, 6, 7, 8, 9, 9, 10, 4, 4, 5, 9, 5, 5, 7, 9, 6, 10, 1, 2, 5, 6, 7, 8, 10, 1, 6, 7, 8, 9, 10, 6, 9, 1, 2, 3, 4, 5, 6, 8, 1, 2, 4, 5, 8, 9, 1, 2, 3, 4, 5, 6, 7, 8, 9, 1, 3, 5, 7, 1, 2, 3, 4, 5, 1, 2, 3, 4, 7, 8, 9, 10, 1, 4, 5, 6, 7, 10, 4, 6, 4, 5, 6, 7, 5, 6, 7, 1, 2, 4, 5, 7, 9, 1, 5, 6, 9, 4, 9, 7, 5, 1, 3, 4, 5, 7, 8, 5, 8, 2, 3, 4, 5, 6, 8, 9, 10, 8, 10, 1, 2, 4, 5, 6, 7, 3, 6, 4, 5, 8, 6, 10, 4, 7, 10, 5, 2, 4, 6, 8, 9, 10, 3, 2, 3, 4, 5, 8, 9, 10, 1, 5, 9, 8, 1, 9, 2, 4, 6, 10, 2, 6, 9, 2, 4, 10, 3, 9, 5, 7, 8, 7, 1, 2, 3, 4, 5, 6, 2, 6, 5, 1, 2, 3, 2, 3, 3, 7, 9, 1, 2, 3, 4, 5, 6, 7, 8, 3, 9, 1, 2, 3, 4, 9, 1, 2, 4, 5, 6, 7, 8, 9, 10, 1, 9, 1, 8, 1, 7, 8, 10, 2, 9, 3, 6, 5, 7, 8, 3, 4, 9, 6, 1, 2, 7, 8, 1, 5, 5, 1, 5, 3, 5, 7, 9, 1, 4, 5, 8, 9, 2, 10, 1, 3, 6, 9], \"Freq\": [0.0609876774251461, 0.9331114888191223, 0.060832709074020386, 0.718932032585144, 0.04977221414446831, 0.060832709074020386, 0.011060492135584354, 0.055302463471889496, 0.03871172294020653, 0.10010288655757904, 0.8759002089500427, 0.8003658056259155, 0.1796739548444748, 0.8316555023193359, 0.051978468894958496, 0.10395693778991699, 0.005188435781747103, 0.16084150969982147, 0.43323439359664917, 0.04669592157006264, 0.015565307810902596, 0.02075374312698841, 0.059667013585567474, 0.25942179560661316, 0.03776547312736511, 0.02697533741593361, 0.10250627994537354, 0.7768897414207458, 0.05395067483186722, 0.0621560700237751, 0.9323410391807556, 0.207494854927063, 0.7898191213607788, 0.1478487253189087, 0.8501302003860474, 0.9327452182769775, 0.20083363354206085, 0.033472273498773575, 0.7363899946212769, 0.18297144770622253, 0.17945276200771332, 0.6333627104759216, 0.22929570078849792, 0.7337462306022644, 0.9462106823921204, 0.02956908382475376, 0.2311631292104721, 0.27921390533447266, 0.07012814283370972, 0.0545441098511219, 0.1480482965707779, 0.06103745475411415, 0.10389354079961777, 0.020778708159923553, 0.02986939437687397, 0.15470701456069946, 0.07735350728034973, 0.69618159532547, 0.218845933675766, 0.7261705994606018, 0.03979016840457916, 0.8550280332565308, 0.10687850415706635, 0.012683766894042492, 0.17576076090335846, 0.01993163302540779, 0.5834532380104065, 0.0018119666492566466, 0.07066670060157776, 0.07429063320159912, 0.05979489907622337, 0.18220047652721405, 0.7398443818092346, 0.07729717344045639, 0.049610964953899384, 0.8929973840713501, 0.9624225497245789, 0.0369274839758873, 0.2874295711517334, 0.6854090094566345, 0.24423722922801971, 0.23944826424121857, 0.5124192833900452, 0.05303359404206276, 0.4342125654220581, 0.09943798929452896, 0.2270500808954239, 0.02485949732363224, 0.008286499418318272, 0.11103908717632294, 0.04308979585766792, 0.9634047746658325, 0.170877143740654, 0.820210337638855, 0.9650121927261353, 0.798755943775177, 0.19968898594379425, 0.21004189550876617, 0.7468156218528748, 0.023337988182902336, 0.4101989269256592, 0.1789165586233139, 0.013091455213725567, 0.030546728521585464, 0.36656075716018677, 0.1492922455072403, 0.6296238303184509, 0.03245483711361885, 0.1492922455072403, 0.03245483711361885, 0.014284837990999222, 0.8428054451942444, 0.14284837245941162, 0.037623923271894455, 0.9029741287231445, 0.9593618512153625, 0.03770417720079422, 0.963339626789093, 0.03635243698954582, 0.9476035833358765, 0.028191210702061653, 0.9725967645645142, 0.4756113886833191, 0.014979886822402477, 0.07115446031093597, 0.41943681240081787, 0.014979886822402477, 0.4096437394618988, 0.11552542448043823, 0.208653062582016, 0.03064960241317749, 0.14263853430747986, 0.03890141844749451, 0.0064835697412490845, 0.004715323448181152, 0.04243791103363037, 0.9962175488471985, 0.3028561770915985, 0.6864739656448364, 0.9945711493492126, 0.16121643781661987, 0.24585506319999695, 0.43125396966934204, 0.15718601644039154, 0.0040304106660187244, 0.9387747049331665, 0.21185022592544556, 0.07703644037246704, 0.6933279633522034, 0.9599103927612305, 0.16532514989376068, 0.7715173959732056, 0.9560652375221252, 0.02941739186644554, 0.08405174314975739, 0.044237762689590454, 0.6679902076721191, 0.06193286553025246, 0.07078041881322861, 0.06635664403438568, 0.925718367099762, 0.06417221575975418, 0.009557564742863178, 0.9813157320022583, 0.35249513387680054, 0.006294555962085724, 0.6388974189758301, 0.05231795459985733, 0.06155053526163101, 0.7601491212844849, 0.1169460192322731, 0.006155053619295359, 0.19118860363960266, 0.8006022572517395, 0.9424410462379456, 0.05437159910798073, 0.8811132907867432, 0.08010120689868927, 0.08653324097394943, 0.043266620486974716, 0.8220658302307129, 0.048897527158260345, 0.08149588108062744, 0.8475571274757385, 0.03334026038646698, 0.9113004207611084, 0.051862627267837524, 0.7218250632286072, 0.18485763669013977, 0.08802744746208191, 0.9962477087974548, 0.9826660752296448, 0.02742786891758442, 0.018285246565937996, 0.9508327841758728, 0.09107659757137299, 0.8925506472587585, 0.9853867888450623, 0.9740889668464661, 0.08053337037563324, 0.13910309970378876, 0.0732121542096138, 0.7028366923332214, 0.9820975661277771, 0.018020138144493103, 0.2129584699869156, 0.1892964094877243, 0.5363398194313049, 0.05521145462989807, 0.01817850023508072, 0.7725862860679626, 0.1999635100364685, 0.7333374619483948, 0.26233208179473877, 0.9553956389427185, 0.1112513318657875, 0.8873299360275269, 0.09570009261369705, 0.13671442866325378, 0.7519293427467346, 0.3123171925544739, 0.6593363285064697, 0.9784323573112488, 0.18574368953704834, 0.8118796944618225, 0.9642910957336426, 0.9912600517272949, 0.22518731653690338, 0.7180501222610474, 0.05948344245553017, 0.19855362176895142, 0.7942144870758057, 0.00836456473916769, 0.23420780897140503, 0.5409085154533386, 0.11710390448570251, 0.052975576370954514, 0.0027881881687790155, 0.039034634828567505, 0.04259670898318291, 0.05281992256641388, 0.4992334544658661, 0.16016362607479095, 0.07326634228229523, 0.04259670898318291, 0.07497020810842514, 0.05452378839254379, 0.8513733148574829, 0.12162475287914276, 0.4970056414604187, 0.10112236440181732, 0.01506077777594328, 0.02581847459077835, 0.06884926557540894, 0.07530388981103897, 0.10757698118686676, 0.07530388981103897, 0.03012155555188656, 0.26905927062034607, 0.2878308594226837, 0.1533012092113495, 0.07821490615606308, 0.2127445489168167, 0.001906340359710157, 0.07434727251529694, 0.5947781801223755, 0.08578531444072723, 0.09722335636615753, 0.05719020962715149, 0.028595104813575745, 0.02668876387178898, 0.034314125776290894, 0.8689647912979126, 0.02896549366414547, 0.08689647912979126, 0.09118157625198364, 0.24867703020572662, 0.6548495292663574, 0.9778122305870056, 0.1206071525812149, 0.1757068634033203, 0.17203354835510254, 0.13407596945762634, 0.06673187762498856, 0.17387020587921143, 0.11693383753299713, 0.037957578897476196, 0.0018366570584475994, 0.39551621675491333, 0.010641691274940968, 0.3139299154281616, 0.11173776537179947, 0.17026706039905548, 0.027059931308031082, 0.08117979019880295, 0.8659178018569946, 0.2031441330909729, 0.050786033272743225, 0.025393016636371613, 0.7194688320159912, 0.9538773894309998, 0.8620737791061401, 0.09578597545623779, 0.0388803593814373, 0.08486061543226242, 0.3624325692653656, 0.15315480530261993, 0.16295942664146423, 0.03617563843727112, 0.04631834104657173, 0.0645752102136612, 0.03144237771630287, 0.019609225913882256, 0.07935060560703278, 0.017003701999783516, 0.4704357385635376, 0.1020222082734108, 0.1842067688703537, 0.053845055401325226, 0.09352035820484161, 0.0054882182739675045, 0.02881314605474472, 0.27852708101272583, 0.3814311623573303, 0.04939396306872368, 0.1179966926574707, 0.06174245476722717, 0.05351012945175171, 0.02332492731511593, 0.9868746399879456, 0.9896949529647827, 0.9619400501251221, 0.07541393488645554, 0.1445433795452118, 0.05027595907449722, 0.16653911769390106, 0.03456472232937813, 0.07541393488645554, 0.27966001629829407, 0.03770696744322777, 0.02513797953724861, 0.10997866094112396, 0.5669993162155151, 0.03499995544552803, 0.016333313658833504, 0.08399989455938339, 0.030333295464515686, 0.016333313658833504, 0.24966636300086975, 0.12086086720228195, 0.8661695718765259, 0.11857443302869797, 0.8300210237503052, 0.8563762903213501, 0.12233947217464447, 0.9357150197029114, 0.3166712522506714, 0.15499521791934967, 0.26322463154792786, 0.12426340579986572, 0.1282718926668167, 0.012025490403175354, 0.06408444792032242, 0.16021111607551575, 0.7690133452415466, 0.18889032304286957, 0.4200391471385956, 0.18481722474098206, 0.006109660491347313, 0.018838118761777878, 0.015274150297045708, 0.1654699593782425, 0.7500665783882141, 0.2407621145248413, 0.0853160172700882, 0.8872866034507751, 0.9554370641708374, 0.058629196137189865, 0.9234098196029663, 0.1163739264011383, 0.8766835927963257, 0.9033051133155823, 0.05645656958222389, 0.2449500411748886, 0.0102062514051795, 0.030618755146861076, 0.09185626357793808, 0.6123750805854797, 0.09150798618793488, 0.050837770104408264, 0.6812260746955872, 0.09150798618793488, 0.08134043216705322, 0.623547375202179, 0.3705652952194214, 0.31114861369132996, 0.009219218976795673, 0.07836335897445679, 0.05531531199812889, 0.16594593226909637, 0.029962459579110146, 0.0023048047441989183, 0.16364112496376038, 0.18438437581062317, 0.20278602838516235, 0.10295290499925613, 0.05615612864494324, 0.04055720567703247, 0.12479139864444733, 0.21838495135307312, 0.009359355084598064, 0.23086409270763397, 0.012479139491915703, 0.16129742562770844, 0.009488084353506565, 0.26803839206695557, 0.3391990065574646, 0.13757722079753876, 0.06167254596948624, 0.01897616870701313, 0.36740630865097046, 0.1671338528394699, 0.20747649669647217, 0.11958715319633484, 0.027375372126698494, 0.09797501564025879, 0.011526471935212612, 0.45771414041519165, 0.007810821756720543, 0.2015192061662674, 0.07810821384191513, 0.07185956090688705, 0.18121106922626495, 0.49649950861930847, 0.07162615656852722, 0.24906368553638458, 0.06511469185352325, 0.006511468905955553, 0.006511468905955553, 0.02116227336227894, 0.08139336109161377, 0.9588913321495056, 0.23146787285804749, 0.08154918253421783, 0.10996783524751663, 0.09225766360759735, 0.0910220667719841, 0.0642508715391159, 0.06466273218393326, 0.08813901245594025, 0.1762780249118805, 0.0004118645447306335, 0.9901757836341858, 0.8745955228805542, 0.08745954930782318, 0.9776055812835693, 0.27470526099205017, 0.7117363810539246, 0.5619946718215942, 0.15537500381469727, 0.06115824729204178, 0.07768750190734863, 0.10248138755559921, 0.03305851295590401, 0.006611702498048544, 0.001652925624512136, 0.024909624829888344, 0.12454812228679657, 0.29891547560691833, 0.08303207904100418, 0.004151604138314724, 0.04151603952050209, 0.004151604138314724, 0.04566764459013939, 0.344583123922348, 0.029061228036880493, 0.5200523138046265, 0.22610971331596375, 0.25173547863960266, 0.9416853189468384, 0.9681448936462402, 0.02361328899860382, 0.992923378944397, 0.013050937093794346, 0.1370348483324051, 0.07178015261888504, 0.11745844036340714, 0.013050937093794346, 0.22839140892028809, 0.41762998700141907, 0.098603256046772, 0.8980891108512878, 0.08046278357505798, 0.008046278730034828, 0.8689980506896973, 0.04023139178752899, 0.9807288646697998, 0.996219277381897, 0.8760682344436646, 0.09386444836854935, 0.5589990615844727, 0.024042971432209015, 0.039069827646017075, 0.28551027178764343, 0.0015026857145130634, 0.09016114473342896, 0.4591708481311798, 0.5203936100006104, 0.010203796438872814, 0.005101898219436407, 0.9952865242958069, 0.9618828296661377, 0.9684640169143677, 0.04190888628363609, 0.9219955205917358, 0.02793925814330578, 0.9882088899612427, 0.059248462319374084, 0.8887269496917725, 0.10868129134178162, 0.881525993347168, 0.00402523297816515, 0.021527061238884926, 0.04544601961970329, 0.8204202055931091, 0.03827033191919327, 0.0741487666964531, 0.8959676027297974, 0.05270397663116455, 0.039760712534189224, 0.9144963622093201, 0.04617584869265556, 0.09235169738531113, 0.8311652541160583, 0.37270835041999817, 0.33953535556793213, 0.0039027053862810135, 0.01170811615884304, 0.2712380290031433, 0.013209398835897446, 0.7000980973243713, 0.1453033834695816, 0.13209398090839386, 0.07903561741113663, 0.13436055183410645, 0.7824526429176331, 0.8293911218643188, 0.03804546594619751, 0.022827278822660446, 0.015218186192214489, 0.09130911529064178, 0.1258048117160797, 0.7548288702964783, 0.06290240585803986, 0.13307411968708038, 0.4418060779571533, 0.037260752171278, 0.3885764181613922, 0.2436196357011795, 0.1537405401468277, 0.22469772398471832, 0.02128715254366398, 0.0496700219810009, 0.2743677496910095, 0.033113349229097366, 0.28149718046188354, 0.7037429809570312, 0.2692275941371918, 0.6922995448112488, 0.09231176227331161, 0.09231176227331161, 0.036924704909324646, 0.7569564580917358, 0.14186406135559082, 0.07536528259515762, 0.15516380965709686, 0.137430801987648, 0.11083129793405533, 0.035466015338897705, 0.035466015338897705, 0.3058943748474121, 0.7525105476379395, 0.18812763690948486, 0.9289360046386719, 0.037900660187006, 0.7390629053115845, 0.075801320374012, 0.13265231251716614, 0.97916179895401, 0.8127945065498352, 0.17212119698524475, 0.07226104289293289, 0.26354026794433594, 0.025503898039460182, 0.2274097502231598, 0.21465779840946198, 0.04463182017207146, 0.1530233770608902, 0.05724455416202545, 0.9159128665924072, 0.10507829487323761, 0.5429044961929321, 0.20315136015415192, 0.05604175478219986, 0.07705741375684738, 0.010507829487323761, 0.17192357778549194, 0.12416702508926392, 0.028653929010033607, 0.03820523992180824, 0.6303864121437073, 0.9325839877128601, 0.04742249846458435, 0.11855624616146088, 0.8298937082290649, 0.5154056549072266, 0.4457562267780304, 0.0278597641736269, 0.7826635241508484, 0.03312861546874046, 0.182207390666008, 0.3813394606113434, 0.5694325566291809, 0.046379122883081436, 0.8516620397567749, 0.03572092577815056, 0.015040389262139797, 0.052641361951828, 0.043241120874881744, 0.011094784364104271, 0.22744308412075043, 0.13313741981983185, 0.6268553137779236, 0.08451877534389496, 0.14488933980464935, 0.7606689929962158, 0.04703066125512123, 0.031353775411844254, 0.32137617468833923, 0.1685265302658081, 0.32137617468833923, 0.04703066125512123, 0.058788325637578964, 0.003919221926480532, 0.9962654709815979, 0.9803125858306885, 0.01725902408361435, 0.019877968356013298, 0.9806464314460754, 0.7930010557174683, 0.14300018548965454, 0.06500008702278137, 0.9359654784202576, 0.9594731330871582, 0.1531107872724533, 0.051036931574344635, 0.7655539512634277, 0.9894466400146484, 0.9793579578399658, 0.5567709803581238, 0.029497800394892693, 0.03195594996213913, 0.058995600789785385, 0.07251542806625366, 0.12782379984855652, 0.04916299879550934, 0.030726874247193336, 0.040559474378824234, 0.9245349168777466, 0.020659998059272766, 0.051649995148181915, 0.0911107063293457, 0.06941767781972885, 0.5032781958580017, 0.15618978440761566, 0.11280372738838196, 0.06941767781972885, 0.966783344745636, 0.2530912160873413, 0.04049459844827652, 0.6985318064689636, 0.9884878993034363, 0.1328761726617813, 0.6881087422370911, 0.1708407998085022, 0.9803419709205627, 0.017454160377383232, 0.026388011872768402, 0.013194005936384201, 0.6245163083076477, 0.3342481553554535, 0.8565458655357361, 0.11420611292123795, 0.994065523147583, 0.007143878377974033, 0.017859695479273796, 0.8048769235610962, 0.002381292637437582, 0.015478402376174927, 0.15240272879600525, 0.019423509016633034, 0.971175491809845, 0.22306445240974426, 0.047799523919820786, 0.6213937997817993, 0.07966587692499161, 0.015933174639940262, 0.0809420645236969, 0.8903627395629883, 0.0863553062081337, 0.25794440507888794, 0.2557014226913452, 0.07177583873271942, 0.11887872964143753, 0.09532728046178818, 0.016822461038827896, 0.06504685431718826, 0.03252342715859413, 0.28509894013404846, 0.14144784212112427, 0.09473921358585358, 0.09606115520000458, 0.06962230056524277, 0.10178957134485245, 0.10575539618730545, 0.0678597167134285, 0.01850719563663006, 0.018947841599583626, 0.25587114691734314, 0.06020497530698776, 0.04515373334288597, 0.106863833963871, 0.1264304518699646, 0.15502780675888062, 0.13696631789207458, 0.01806149259209633, 0.04816398024559021, 0.04665885493159294, 0.26321256160736084, 0.684352695941925, 0.7344366908073425, 0.12623131275177002, 0.02677633799612522, 0.03952697664499283, 0.008925446309149265, 0.05036501586437225, 0.01338816899806261, 0.09143980592489243, 0.029893783852458, 0.40796220302581787, 0.07561368495225906, 0.008792289532721043, 0.028135325759649277, 0.3182808756828308, 0.02461840957403183, 0.015826120972633362, 0.6673928499221802, 0.18538691103458405, 0.11123214662075043, 0.9603023529052734, 0.9804499745368958, 0.03674064204096794, 0.9185160398483276, 0.14584268629550934, 0.8507489562034607, 0.6458144187927246, 0.3117724657058716, 0.022269463166594505, 0.09145644307136536, 0.8413992524147034, 0.054873865097761154, 0.11008390784263611, 0.018871527165174484, 0.6510676741600037, 0.05975983291864395, 0.08492186665534973, 0.04717881605029106, 0.02516203559935093, 0.7668481469154358, 0.2255435734987259, 0.20531591773033142, 0.7652683854103088, 0.2132965475320816, 0.007271473295986652, 0.12361504882574081, 0.24723009765148163, 0.07998620718717575, 0.32964012026786804, 0.8917415142059326, 0.09224912524223328, 0.04564813897013664, 0.6847221255302429, 0.053256165236234665, 0.13694441318511963, 0.07608023285865784, 0.02130063995718956, 0.06390192359685898, 0.8946269154548645, 0.12059362232685089, 0.8441553711891174, 0.05425889045000076, 0.9224011301994324, 0.9863494038581848, 0.6060301065444946, 0.05022348836064339, 0.24442097544670105, 0.09877286106348038, 0.9584496021270752, 0.058942023664712906, 0.029471011832356453, 0.6188912391662598, 0.27506276965141296, 0.1301937848329544, 0.863390326499939, 0.051507409662008286, 0.06438425928354263, 0.8756259679794312, 0.011789633892476559, 0.2554420530796051, 0.5324984788894653, 0.019649390131235123, 0.15523017942905426, 0.023579267784953117, 0.8897208571434021, 0.11121510714292526, 0.1381099820137024, 0.8304535150527954, 0.028698178008198738, 0.16293273866176605, 0.014812067151069641, 0.8146637082099915, 0.06981327384710312, 0.9250258803367615, 0.057646315544843674, 0.07336803525686264, 0.6314891576766968, 0.21486353874206543, 0.020962296053767204, 0.641289472579956, 0.16855643689632416, 0.02324916422367096, 0.05424804985523224, 0.0532793365418911, 0.0096871517598629, 0.02034301869571209, 0.0290614552795887, 0.8678473830223083, 0.12633220851421356, 0.9767315983772278, 0.01655477285385132, 0.9213542342185974, 0.04187973961234093, 0.9937121868133545, 0.4922792613506317, 0.12436529248952866, 0.3834596574306488, 0.9806661605834961, 0.9752981662750244, 0.15078751742839813, 0.02692634053528309, 0.21002545952796936, 0.6139205694198608, 0.9714460968971252, 0.12884128093719482, 0.3029510974884033, 0.04178636148571968, 0.09750150889158249, 0.027857573702931404, 0.39348822832107544, 0.9063059091567993, 0.09334047883749008, 0.9710191488265991, 0.08070416748523712, 0.7909008264541626, 0.11298583447933197, 0.811211347579956, 0.15451644361019135, 0.49145862460136414, 0.01863350346684456, 0.016304314136505127, 0.006987563334405422, 0.46350839734077454, 0.6539177298545837, 0.0033363148104399443, 0.11009839177131653, 0.05338103696703911, 0.17515653371810913, 0.0016681574052199721, 0.9593200087547302, 0.03954186663031578, 0.7446696162223816, 0.22340089082717896, 0.022340089082717896, 0.03434173762798309, 0.32232171297073364, 0.14031052589416504, 0.16582152247428894, 0.051022008061409, 0.1010628268122673, 0.015208483673632145, 0.04709723964333534, 0.08045778423547745, 0.0421912781894207, 0.9916279911994934, 0.9494767189025879, 0.8437398076057434, 0.11249864101409912, 0.016034413129091263, 0.08017206937074661, 0.268576443195343, 0.020043017342686653, 0.3848259150981903, 0.15232692658901215, 0.07215486466884613, 0.008017206564545631, 0.0429173968732357, 0.7009841799736023, 0.14663444459438324, 0.030757468193769455, 0.06866783648729324, 0.010014059953391552, 0.573359489440918, 0.3595644235610962, 0.058307744562625885, 0.9729138612747192, 0.7820295095443726, 0.1840069442987442, 0.936311662197113, 0.03467820957303047, 0.9791237115859985, 0.2335882931947708, 0.7474825382232666, 0.03706054016947746, 0.04042968153953552, 0.0033691399730741978, 0.5137938857078552, 0.25942379236221313, 0.1448730230331421, 0.37044501304626465, 0.10143136978149414, 0.004410059656947851, 0.0396905355155468, 0.06174083426594734, 0.40572547912597656, 0.022050298750400543, 0.44813215732574463, 0.03043520450592041, 0.5205469727516174, 0.9783884286880493, 0.8665655255317688, 0.019075341522693634, 0.016350291669368744, 0.03542563319206238, 0.03270058333873749, 0.013625243678689003, 0.016350291669368744, 0.9916502833366394, 0.9765037894248962, 0.6456682085990906, 0.12710003554821014, 0.175398051738739, 0.005084001924842596, 0.0457560159265995, 0.97655189037323, 0.253315806388855, 0.7430596351623535, 0.7397951483726501, 0.006605313625186682, 0.2443966120481491, 0.23038116097450256, 0.02803116664290428, 0.22775323688983917, 0.006131818052381277, 0.2680480480194092, 0.23914089798927307, 0.03384708985686302, 0.9477185010910034, 0.014505894854664803, 0.11548535525798798, 0.8468925952911377, 0.016119498759508133, 0.9671699404716492, 0.015821751207113266, 0.8622853755950928, 0.11866312474012375, 0.9764891862869263, 0.9534254670143127, 0.03584306314587593, 0.25816625356674194, 0.6884433031082153, 0.028685137629508972, 0.022948110476136208, 0.07593462616205215, 0.044148039072752, 0.34258878231048584, 0.24722902476787567, 0.09889160841703415, 0.10242345184087753, 0.022956980392336845, 0.05474356934428215, 0.008829607628285885, 0.022090626880526543, 0.0704796239733696, 0.2829704284667969, 0.3902677595615387, 0.1251802295446396, 0.044181253761053085, 0.03997351601719856, 0.025246432051062584, 0.6839510202407837, 0.31515389680862427, 0.044463880360126495, 0.48592668771743774, 0.25407931208610535, 0.21279142796993256, 0.09930117428302765, 0.844059944152832, 0.03723793849349022, 0.0644969791173935, 0.9190819263458252, 0.9970927238464355, 0.9904911518096924, 0.11385011672973633, 0.012650012969970703, 0.05060005187988281, 0.02891431376338005, 0.15180015563964844, 0.23312166333198547, 0.37588608264923096, 0.02891431376338005, 0.0018071446102112532, 0.24630369246006012, 0.17023931443691254, 0.5831602215766907, 0.13752801716327667, 0.5730334520339966, 0.007640445604920387, 0.13370780646800995, 0.04966289922595024, 0.09932579845190048, 0.25934499502182007, 0.713198721408844, 0.03450758010149002, 0.9317046999931335, 0.002564675873145461, 0.9950942397117615, 0.11715997010469437, 0.8201197981834412, 0.08380233496427536, 0.0033520932774990797, 0.30504050850868225, 0.033520933240652084, 0.5463912487030029, 0.026816746219992638, 0.9984636902809143, 0.03422414883971214, 0.8758270144462585, 0.04666929319500923, 0.0420023612678051, 0.9135292768478394, 0.07943733036518097, 0.12401513755321503, 0.868105947971344, 0.009252780117094517, 0.4718917906284332, 0.508902907371521, 0.18145181238651276, 0.09979850053787231, 0.7167346477508545, 0.09236995875835419, 0.892909586429596, 0.9915829300880432, 0.9872400164604187, 0.13571031391620636, 0.7987521290779114, 0.05816156417131424, 0.7195146679878235, 0.09422215819358826, 0.17987866699695587, 0.8645493388175964, 0.09880563616752625, 0.0789065808057785, 0.8285191059112549, 0.0789065808057785, 0.19735363125801086, 0.24613767862319946, 0.00443491293117404, 0.07206733524799347, 0.00221745646558702, 0.24502894282341003, 0.07871970534324646, 0.1530044972896576, 0.06685832142829895, 0.06143737584352493, 0.869158148765564, 0.019344454631209373, 0.9672227501869202, 0.640874981880188, 0.07776909321546555, 0.030243536457419395, 0.11377330869436264, 0.028803369030356407, 0.014401684515178204, 0.09217078238725662, 0.37804317474365234, 0.4539856016635895, 0.02670503593981266, 0.009179855696856976, 0.01669064722955227, 0.04339568316936493, 0.005841726437211037, 0.015856115147471428, 0.050071943551301956, 0.0017741755582392216, 0.8285399675369263, 0.11532141268253326, 0.05322526395320892, 0.16019898653030396, 0.7800994515419006, 0.05572138726711273, 0.9204365611076355, 0.04001898318529129, 0.9903416037559509, 0.9703297019004822, 0.11297135800123215, 0.06326396018266678, 0.25531527400016785, 0.06552338600158691, 0.08133938163518906, 0.06778281182050705, 0.00903770886361599, 0.08811765909194946, 0.25531527400016785, 0.8808203935623169, 0.08808203786611557, 0.9103547930717468, 0.08275952190160751, 0.7991783618927002, 0.19571715593338013, 0.05404692143201828, 0.1013379767537117, 0.5742485523223877, 0.04391312226653099, 0.11822763830423355, 0.10809384286403656, 0.18910662829875946, 0.5896688103675842, 0.032663870602846146, 0.1512852907180786, 0.03438302129507065, 0.08993641287088394, 0.8672439455986023, 0.04496820643544197, 0.19216321408748627, 0.11209520697593689, 0.5844964385032654, 0.09608160704374313, 0.12393591552972794, 0.6522942781448364, 0.019568828865885735, 0.03913765773177147, 0.11089003086090088, 0.052183542400598526, 0.040646251291036606, 0.040646251291036606, 0.8535712957382202, 0.6859904527664185, 0.23206369578838348, 0.007650451269000769, 0.03315195441246033, 0.04080240800976753, 0.9099300503730774, 0.07279440015554428, 0.10039778798818588, 0.031075505539774895, 0.4302762448787689, 0.04541804641485214, 0.14103499054908752, 0.12908287346363068, 0.04780847206711769, 0.06215101107954979, 0.007171270437538624, 0.261188268661499, 0.13714906573295593, 0.09176885336637497, 0.13109835982322693, 0.11698007583618164, 0.04840555042028427, 0.051430895924568176, 0.06554917991161346, 0.07260832190513611, 0.024202775210142136, 0.07047013938426971, 0.9261789321899414, 0.9896895289421082, 0.1089894250035286, 0.8840253353118896, 0.9338147044181824, 0.058977771550416946, 0.14171536266803741, 0.04723845422267914, 0.787307620048523, 0.08529632538557053, 0.1279444843530655, 0.2085021287202835, 0.056864216923713684, 0.1326831728219986, 0.0663415864109993, 0.31749188899993896, 0.09465369582176208, 0.8654052019119263, 0.040565866976976395, 0.026427078992128372, 0.7135311365127563, 0.23784372210502625, 0.5543150305747986, 0.006521353032439947, 0.43693065643310547, 0.8668878674507141, 0.12651877105236053, 0.10442523658275604, 0.8745613694190979, 0.9620634913444519, 0.1089891791343689, 0.8719134330749512, 0.18814298510551453, 0.7902005314826965, 0.06031746417284012, 0.040211644023656845, 0.9047619700431824, 0.13286945223808289, 0.1932646483182907, 0.006039520259946585, 0.03321736305952072, 0.6341496109962463, 0.30963337421417236, 0.12385334074497223, 0.09908267855644226, 0.47064271569252014, 0.08489738404750824, 0.04915111884474754, 0.7685447335243225, 0.07149253785610199, 0.022341417148709297, 0.16628582775592804, 0.831429123878479, 0.874369740486145, 0.1005525216460228, 0.021859243512153625, 0.09671035408973694, 0.8703931570053101, 0.06489713490009308, 0.06489713490009308, 0.8652951717376709, 0.2347080111503601, 0.7628010511398315, 0.7943371534347534, 0.15886743366718292, 0.03284338861703873, 0.10046213120222092, 0.29172655940055847, 0.3400256633758545, 0.03863928094506264, 0.110121950507164, 0.013523748144507408, 0.06375481188297272, 0.007727856282144785, 0.9699527621269226, 0.16733746230602264, 0.0669349879026413, 0.7362848520278931, 0.984092652797699, 0.06399671733379364, 0.6813768744468689, 0.09034831076860428, 0.06023220717906952, 0.011293538846075535, 0.03576287254691124, 0.05834995210170746, 0.4238972067832947, 0.018839875236153603, 0.5557762980461121, 0.9518486261367798, 0.04489852115511894, 0.9911450147628784, 0.9919487833976746, 0.9850313663482666, 0.9901496767997742, 0.982839047908783, 0.008854405954480171, 0.7937303781509399, 0.011846722103655338, 0.1895475536584854, 0.956542432308197, 0.04264838993549347, 0.935270369052887, 0.0534440241754055, 0.8335068225860596, 0.12502601742744446, 0.8207833766937256, 0.04230842366814613, 0.008461684919893742, 0.1269252598285675, 0.10947166383266449, 0.8538789749145508, 0.021894332021474838, 0.938948929309845, 0.11022848635911942, 0.8267136216163635, 0.9936010241508484, 0.967074453830719, 0.9826140999794006, 0.12817947566509247, 0.8652114868164062, 0.6464942693710327, 0.31383216381073, 0.0156916081905365, 0.00627664290368557, 0.0156916081905365, 0.27647727727890015, 0.13485319912433624, 0.03723979368805885, 0.17096450924873352, 0.06319480389356613, 0.04288218915462494, 0.14218831062316895, 0.10156308114528656, 0.031033162027597427, 0.4993475675582886, 0.1187768504023552, 0.3442104756832123, 0.03636026009917259, 0.10294218361377716, 0.7250710129737854, 0.1656026393175125, 0.9913914203643799, 0.9523646235466003, 0.8542578816413879, 0.10678223520517349, 0.9713161587715149, 0.02536340057849884, 0.08454466611146927, 0.05072680115699768, 0.7862654328346252, 0.042272333055734634, 0.14587832987308502, 0.850956916809082, 0.01627349853515625, 0.18365806341171265, 0.030222212895751, 0.19411960244178772, 0.2621195912361145, 0.14471790194511414, 0.021504268050193787, 0.10403415560722351, 0.04300853610038757, 0.8788677453994751, 0.11267534643411636, 0.9852309823036194, 0.008642377331852913, 0.3632231056690216, 0.6273853778839111, 0.9257597327232361, 0.07265456020832062, 0.8885221481323242, 0.06346586346626282, 0.9893154501914978, 0.9567958116531372, 0.03467081859707832, 0.03270832076668739, 0.0032708318904042244, 0.06279997527599335, 0.5854789018630981, 0.26035821437835693, 0.020933324471116066, 0.7605282068252563, 0.2323836237192154, 0.9498437643051147, 0.8905184268951416, 0.05745280161499977, 0.028726400807499886, 0.9782795310020447, 0.07859931141138077, 0.10479907691478729, 0.7859930992126465, 0.05081227049231529, 0.9400269985198975, 0.03917083144187927, 0.11449935287237167, 0.35856375098228455, 0.08436794579029083, 0.25009068846702576, 0.13860447704792023, 0.009039422497153282, 0.2422632873058319, 0.4621638059616089, 0.022362764924764633, 0.014908510260283947, 0.14908510446548462, 0.10435957461595535, 0.216419517993927, 0.7358263731002808, 0.07448545843362808, 0.06280146539211273, 0.1621154099702835, 0.4936487376689911, 0.20593039691448212, 0.02522813342511654, 0.9712831377983093, 0.9935750365257263, 0.06549441069364548, 0.6185583472251892, 0.2328690141439438, 0.07277156412601471, 0.014554313383996487, 0.08238491415977478, 0.1494099348783493, 0.21084953844547272, 0.25832557678222656, 0.07819585502147675, 0.03490886464715004, 0.17733702063560486, 0.0013963545206934214, 0.006981772370636463, 0.0053900317288935184, 0.27489161491394043, 0.09163054078817368, 0.6252436637878418, 0.10436104238033295, 0.06883388012647629, 0.06883388012647629, 0.09658947587013245, 0.6605831980705261, 0.1407763659954071, 0.052791133522987366, 0.052791133522987366, 0.21703022718429565, 0.09971658885478973, 0.005865681450814009, 0.4047320485115051, 0.02932840771973133, 0.14040376245975494, 0.5828080773353577, 0.10066685080528259, 0.03443865850567818, 0.1377546340227127, 0.0026491277385503054, 0.7455418109893799, 0.226904034614563, 0.11642526090145111, 0.1629953682422638, 0.6752665042877197, 0.9875960946083069, 0.7342434525489807, 0.027471695095300674, 0.23475812375545502, 0.8544521331787109, 0.059668444097042084, 0.014320426620543003, 0.05250823125243187, 0.002386737847700715, 0.01670716516673565, 0.6076194047927856, 0.030312079936265945, 0.35823366045951843, 0.0013778217835351825, 0.18668274581432343, 0.7965130805969238, 0.9777778387069702, 0.9505507946014404, 0.020459968596696854, 0.3858165740966797, 0.0672256126999855, 0.14906549453735352, 0.005845705512911081, 0.371202290058136, 0.10493997484445572, 0.8919898271560669, 0.12046808004379272, 0.256206750869751, 0.3037152886390686, 0.06447587162256241, 0.09841054677963257, 0.006786934100091457, 0.02714773640036583, 0.12386155128479004, 0.6964059472084045, 0.27856239676475525, 0.011138014495372772, 0.6237288117408752, 0.01670702174305916, 0.011138014495372772, 0.19491524994373322, 0.14479419589042664, 0.8043590784072876, 0.19096294045448303, 0.1252022087574005, 0.8451149463653564, 0.996293306350708, 0.947620689868927, 0.026322796940803528, 0.9037382006645203, 0.04337943345308304, 0.05060933902859688, 0.9815310835838318, 0.003198724938556552, 0.8188735842704773, 0.12155154347419739, 0.03198724985122681, 0.003198724938556552, 0.022391073405742645, 0.9793724417686462, 0.37429118156433105, 0.07343687862157822, 0.3423106074333191, 0.06040775403380394, 0.07106795161962509, 0.048563096672296524, 0.02961164526641369, 0.10910748690366745, 0.8728598952293396, 0.012123054824769497, 0.9962143898010254, 0.2683480381965637, 0.7074630260467529, 0.17491267621517181, 0.041155923157930374, 0.2778024971485138, 0.5041601061820984, 0.14174923300743103, 0.1784990429878235, 0.6772463321685791, 0.7702267169952393, 0.04956904798746109, 0.17539817094802856, 0.9440956115722656, 0.02360238879919052, 0.975420355796814, 0.23142676055431366, 0.7604022026062012, 0.9891786575317383, 0.09702032804489136, 0.6732022762298584, 0.09108030796051025, 0.021780073642730713, 0.057420194149017334, 0.061380207538604736, 0.8369936347007751, 0.13215689361095428, 0.9841784238815308, 0.05645391345024109, 0.7903547883033752, 0.11290782690048218, 0.9025121331214905, 0.0752093493938446, 0.07169736921787262, 0.7169737219810486, 0.20205622911453247, 0.21435803174972534, 0.15867283940315247, 0.11556173115968704, 0.065864197909832, 0.21675309538841248, 0.017364198341965675, 0.11556173115968704, 0.09580247104167938, 0.23797607421875, 0.71392822265625, 0.027379274368286133, 0.05686464533209801, 0.8698185086250305, 0.03790976479649544, 0.008424391970038414, 0.9901654124259949, 0.18240152299404144, 0.5417325496673584, 0.09484879672527313, 0.03100825846195221, 0.023712199181318283, 0.027360228821635246, 0.018240151926875114, 0.08025667071342468, 0.9296888709068298, 0.06391610950231552, 0.9763301610946655, 0.016689404845237732, 0.2700435221195221, 0.7248536348342896, 0.33078500628471375, 0.6615700125694275, 0.3201439380645752, 0.6703013777732849, 0.8335627317428589, 0.1470993012189865, 0.14508047699928284, 0.1350749284029007, 0.7178982496261597, 0.8221203088760376, 0.0595739372074604, 0.10723308473825455, 0.9691986441612244, 0.3724270761013031, 0.04655338451266289, 0.5652911067008972, 0.006650483701378107, 0.7767611742019653, 0.22193177044391632, 0.9741001129150391, 0.05092170462012291, 0.9335646033287048, 0.6277258992195129, 0.13809968531131744, 0.18831776082515717, 0.04394081234931946, 0.5093629956245422, 0.005854746792465448, 0.09953069686889648, 0.035128481686115265, 0.34543007612228394, 0.09021800756454468, 0.9021800756454468, 0.009353685192763805, 0.27593371272087097, 0.16836632788181305, 0.5378369092941284], \"Term\": [\"acceleration\", \"acceleration\", \"access\", \"access\", \"access\", \"access\", \"access\", \"access\", \"access\", \"acoustic\", \"acoustic\", \"acquired\", \"acquired\", \"acquiring\", \"acquiring\", \"acquiring\", \"action\", \"action\", \"action\", \"action\", \"action\", \"action\", \"action\", \"action\", \"active\", \"active\", \"active\", \"active\", \"active\", \"adhesive\", \"adhesive\", \"aircraft\", \"aircraft\", \"amplifier\", \"amplifier\", \"analytics\", \"analyze\", \"analyze\", \"analyze\", \"angle\", \"angle\", \"angle\", \"angular\", \"angular\", \"antenna\", \"antenna\", \"apparatus\", \"apparatus\", \"apparatus\", \"apparatus\", \"apparatus\", \"apparatus\", \"apparatus\", \"apparatus\", \"apparatus\", \"applicable\", \"applicable\", \"applicable\", \"approaching\", \"approaching\", \"approaching\", \"approved\", \"approved\", \"area\", \"area\", \"area\", \"area\", \"area\", \"area\", \"area\", \"area\", \"array\", \"array\", \"array\", \"artificial\", \"artificial\", \"assembly\", \"assembly\", \"assessment\", \"assessment\", \"assistance\", \"assistance\", \"assistance\", \"associated\", \"associated\", \"associated\", \"associated\", \"associated\", \"associated\", \"associated\", \"associated\", \"attention\", \"attribute\", \"attribute\", \"audible\", \"audio\", \"audio\", \"auto\", \"auto\", \"auto\", \"automated\", \"automated\", \"automated\", \"automated\", \"automated\", \"automatic\", \"automatic\", \"automatic\", \"automatic\", \"automatic\", \"avoidance\", \"avoidance\", \"avoidance\", \"avoiding\", \"avoiding\", \"axis\", \"axis\", \"axle\", \"axle\", \"background\", \"barrier\", \"barrier\", \"base\", \"base\", \"base\", \"base\", \"base\", \"based\", \"based\", \"based\", \"based\", \"based\", \"based\", \"based\", \"based\", \"based\", \"battery\", \"beam\", \"beam\", \"bearing\", \"behavior\", \"behavior\", \"behavior\", \"behavior\", \"behavior\", \"better\", \"bias\", \"bias\", \"bias\", \"biasing\", \"biometrics\", \"biometrics\", \"blind\", \"blind\", \"board\", \"board\", \"board\", \"board\", \"board\", \"board\", \"body\", \"body\", \"body\", \"bracket\", \"brake\", \"brake\", \"brake\", \"braking\", \"braking\", \"braking\", \"braking\", \"braking\", \"cable\", \"cable\", \"calculate\", \"calculate\", \"calculation\", \"calculation\", \"calibrating\", \"calibrating\", \"calibrating\", \"calibration\", \"calibration\", \"calibration\", \"camera\", \"camera\", \"camera\", \"candidate\", \"candidate\", \"candidate\", \"capacitance\", \"capacitive\", \"capacitor\", \"capacitor\", \"capacitor\", \"capture\", \"capture\", \"captured\", \"capturing\", \"cell\", \"cell\", \"cell\", \"cell\", \"chamber\", \"chamber\", \"channel\", \"channel\", \"channel\", \"channel\", \"charge\", \"charge\", \"charge\", \"charging\", \"charging\", \"checklist\", \"circuit\", \"circuit\", \"circuitry\", \"circuitry\", \"circuitry\", \"clean\", \"clean\", \"cleaner\", \"cleaning\", \"cleaning\", \"cloud\", \"coil\", \"collision\", \"collision\", \"collision\", \"combine\", \"combine\", \"command\", \"command\", \"command\", \"command\", \"command\", \"command\", \"command\", \"communication\", \"communication\", \"communication\", \"communication\", \"communication\", \"communication\", \"communication\", \"communication\", \"completed\", \"completed\", \"comprises\", \"comprises\", \"comprises\", \"comprises\", \"comprises\", \"comprises\", \"comprises\", \"comprises\", \"comprises\", \"computing\", \"computing\", \"computing\", \"computing\", \"computing\", \"condition\", \"condition\", \"condition\", \"condition\", \"condition\", \"condition\", \"condition\", \"condition\", \"condition\", \"conduct\", \"conduct\", \"conduct\", \"confidence\", \"confidence\", \"confidence\", \"configurable\", \"configured\", \"configured\", \"configured\", \"configured\", \"configured\", \"configured\", \"configured\", \"configured\", \"configured\", \"connected\", \"connected\", \"connected\", \"connected\", \"connected\", \"constraint\", \"constraint\", \"constraint\", \"construction\", \"construction\", \"construction\", \"construction\", \"context\", \"continues\", \"continues\", \"control\", \"control\", \"control\", \"control\", \"control\", \"control\", \"control\", \"control\", \"control\", \"control\", \"controlled\", \"controlled\", \"controlled\", \"controlled\", \"controlled\", \"controlled\", \"controlled\", \"controller\", \"controller\", \"controller\", \"controller\", \"controller\", \"controller\", \"controller\", \"controller\", \"controller\", \"converter\", \"conveyor\", \"correlation\", \"corresponding\", \"corresponding\", \"corresponding\", \"corresponding\", \"corresponding\", \"corresponding\", \"corresponding\", \"corresponding\", \"corresponding\", \"corresponding\", \"coupled\", \"coupled\", \"coupled\", \"coupled\", \"coupled\", \"coupled\", \"coupled\", \"crash\", \"crash\", \"created\", \"created\", \"crop\", \"crop\", \"crowd\", \"current\", \"current\", \"current\", \"current\", \"current\", \"current\", \"curve\", \"curve\", \"curve\", \"data\", \"data\", \"data\", \"data\", \"data\", \"data\", \"data\", \"database\", \"database\", \"deceleration\", \"deceleration\", \"defect\", \"delay\", \"delay\", \"delivery\", \"delivery\", \"describing\", \"describing\", \"designed\", \"designed\", \"designed\", \"designed\", \"designed\", \"desired\", \"desired\", \"desired\", \"desired\", \"desired\", \"destination\", \"destination\", \"detected\", \"detected\", \"detected\", \"detected\", \"detected\", \"detected\", \"detected\", \"detected\", \"detected\", \"detecting\", \"detecting\", \"detecting\", \"detecting\", \"detecting\", \"detecting\", \"detecting\", \"detecting\", \"detecting\", \"detection\", \"detection\", \"detection\", \"detection\", \"detection\", \"detection\", \"detection\", \"determine\", \"determine\", \"determine\", \"determine\", \"determine\", \"determine\", \"determine\", \"determined\", \"determined\", \"determined\", \"determined\", \"determined\", \"determined\", \"determining\", \"determining\", \"determining\", \"determining\", \"determining\", \"determining\", \"determining\", \"determining\", \"detrimental\", \"device\", \"device\", \"device\", \"device\", \"device\", \"device\", \"device\", \"device\", \"device\", \"device\", \"diagnosis\", \"diagnostic\", \"diagnostic\", \"diameter\", \"diode\", \"diode\", \"direction\", \"direction\", \"direction\", \"direction\", \"direction\", \"direction\", \"direction\", \"direction\", \"disclosure\", \"disclosure\", \"disclosure\", \"disclosure\", \"disclosure\", \"disclosure\", \"disclosure\", \"disclosure\", \"disclosure\", \"disclosure\", \"display\", \"display\", \"display\", \"domestic\", \"drone\", \"drone\", \"drum\", \"dynamic\", \"dynamic\", \"dynamic\", \"dynamic\", \"dynamic\", \"dynamic\", \"dynamic\", \"electric\", \"electric\", \"electrical\", \"electrical\", \"electrical\", \"electrical\", \"electricity\", \"electrode\", \"electronics\", \"electronics\", \"element\", \"element\", \"element\", \"element\", \"element\", \"element\", \"emergency\", \"emergency\", \"emergency\", \"emergency\", \"emission\", \"emit\", \"emitted\", \"emitter\", \"emitter\", \"emitter\", \"emitting\", \"employed\", \"employed\", \"energy\", \"energy\", \"energy\", \"engine\", \"engine\", \"engine\", \"engine\", \"engine\", \"ensure\", \"ensure\", \"entering\", \"entering\", \"entity\", \"entity\", \"entity\", \"environment\", \"environment\", \"environment\", \"environment\", \"environment\", \"equal\", \"equal\", \"equal\", \"equal\", \"equipment\", \"equipment\", \"equipment\", \"estimated\", \"estimated\", \"estimated\", \"estimated\", \"estimated\", \"evaluation\", \"evaluation\", \"evaluation\", \"event\", \"event\", \"event\", \"event\", \"example\", \"example\", \"example\", \"example\", \"example\", \"example\", \"example\", \"executes\", \"executes\", \"exists\", \"exists\", \"experience\", \"experience\", \"experience\", \"experience\", \"external\", \"external\", \"external\", \"external\", \"external\", \"external\", \"external\", \"external\", \"extracting\", \"extracting\", \"facial\", \"failure\", \"failure\", \"failure\", \"failure\", \"fastener\", \"fault\", \"fault\", \"feature\", \"feature\", \"feature\", \"feature\", \"feature\", \"feature\", \"feature\", \"feeding\", \"feeding\", \"field\", \"field\", \"field\", \"field\", \"field\", \"field\", \"filter\", \"filter\", \"filter\", \"filter\", \"filter\", \"financial\", \"finger\", \"finger\", \"finger\", \"floor\", \"floor\", \"floor\", \"fluid\", \"fluid\", \"fluid\", \"force\", \"force\", \"force\", \"frame\", \"frame\", \"frame\", \"frame\", \"frame\", \"frequency\", \"frequency\", \"frequency\", \"frequency\", \"fuel\", \"fuel\", \"fuel\", \"function\", \"function\", \"function\", \"function\", \"function\", \"function\", \"function\", \"function\", \"gate\", \"gear\", \"gear\", \"generator\", \"generator\", \"geographic\", \"geographic\", \"geographic\", \"geometrical\", \"gesture\", \"global\", \"global\", \"global\", \"handle\", \"hardware\", \"having\", \"having\", \"having\", \"having\", \"having\", \"having\", \"having\", \"having\", \"having\", \"head\", \"head\", \"head\", \"high\", \"high\", \"high\", \"high\", \"high\", \"high\", \"historical\", \"holding\", \"holding\", \"holding\", \"hole\", \"host\", \"host\", \"host\", \"housing\", \"housing\", \"human\", \"human\", \"human\", \"human\", \"hybrid\", \"hybrid\", \"hydraulic\", \"image\", \"image\", \"image\", \"image\", \"image\", \"image\", \"imaging\", \"imaging\", \"implementation\", \"implementation\", \"implementation\", \"implementation\", \"implementation\", \"incident\", \"incident\", \"include\", \"include\", \"include\", \"include\", \"include\", \"include\", \"include\", \"include\", \"include\", \"includes\", \"includes\", \"includes\", \"includes\", \"includes\", \"includes\", \"includes\", \"includes\", \"includes\", \"includes\", \"including\", \"including\", \"including\", \"including\", \"including\", \"including\", \"including\", \"including\", \"including\", \"including\", \"influence\", \"influence\", \"information\", \"information\", \"information\", \"information\", \"information\", \"information\", \"information\", \"input\", \"input\", \"input\", \"input\", \"input\", \"input\", \"input\", \"input\", \"input\", \"inspection\", \"inspection\", \"inspection\", \"instructing\", \"insurance\", \"intelligence\", \"intelligence\", \"intended\", \"intended\", \"intensity\", \"intensity\", \"intensity\", \"inter\", \"inter\", \"inter\", \"interface\", \"interface\", \"interface\", \"interface\", \"interface\", \"interface\", \"interface\", \"intersection\", \"intersection\", \"intervention\", \"intervention\", \"invention\", \"invention\", \"invention\", \"invention\", \"invention\", \"invention\", \"issue\", \"issue\", \"item\", \"item\", \"item\", \"item\", \"item\", \"known\", \"known\", \"known\", \"lamp\", \"lamp\", \"landing\", \"landing\", \"landmark\", \"lane\", \"lane\", \"lane\", \"lane\", \"language\", \"laser\", \"laser\", \"laser\", \"laser\", \"layer\", \"layer\", \"learning\", \"learning\", \"learning\", \"level\", \"level\", \"level\", \"level\", \"level\", \"level\", \"lidar\", \"lidar\", \"light\", \"light\", \"light\", \"lighting\", \"lighting\", \"lighting\", \"limiting\", \"limiting\", \"line\", \"line\", \"line\", \"line\", \"line\", \"location\", \"location\", \"location\", \"location\", \"location\", \"location\", \"location\", \"location\", \"locking\", \"locking\", \"longitudinal\", \"longitudinal\", \"luminance\", \"luminance\", \"luminous\", \"machine\", \"machine\", \"machine\", \"magnet\", \"maintaining\", \"management\", \"management\", \"management\", \"management\", \"managing\", \"maneuver\", \"maneuver\", \"maneuver\", \"maneuver\", \"maneuver\", \"maneuver\", \"manual\", \"manual\", \"marine\", \"marker\", \"marker\", \"marker\", \"matrix\", \"matrix\", \"mean\", \"mean\", \"mean\", \"mean\", \"mean\", \"mechanism\", \"mechanism\", \"mechanism\", \"mechanism\", \"mechanism\", \"mechanism\", \"member\", \"member\", \"message\", \"message\", \"message\", \"method\", \"method\", \"method\", \"method\", \"method\", \"method\", \"method\", \"method\", \"method\", \"method\", \"milling\", \"mining\", \"mitigation\", \"mitigation\", \"mobile\", \"mobile\", \"mobile\", \"mobile\", \"mobile\", \"mobile\", \"mobile\", \"mobile\", \"mode\", \"mode\", \"mode\", \"mode\", \"mode\", \"mode\", \"model\", \"model\", \"model\", \"modeling\", \"modify\", \"modify\", \"modifying\", \"modifying\", \"modulated\", \"modulation\", \"modulation\", \"module\", \"module\", \"module\", \"module\", \"module\", \"module\", \"motion\", \"motion\", \"motion\", \"motion\", \"motion\", \"motion\", \"motion\", \"motor\", \"motor\", \"motor\", \"mount\", \"mounted\", \"mounted\", \"mounted\", \"mounted\", \"mounted\", \"mounted\", \"mounted\", \"movable\", \"mutual\", \"navigation\", \"navigation\", \"navigation\", \"navigation\", \"navigation\", \"navigational\", \"nearby\", \"nearby\", \"node\", \"node\", \"node\", \"object\", \"object\", \"object\", \"object\", \"object\", \"object\", \"obstacle\", \"obstacle\", \"obstacle\", \"obstruction\", \"obstruction\", \"obtaining\", \"obtaining\", \"occupant\", \"occupant\", \"occupant\", \"occurrence\", \"opening\", \"opening\", \"operated\", \"operated\", \"operated\", \"operated\", \"operating\", \"operating\", \"operating\", \"operating\", \"operating\", \"operating\", \"operating\", \"operating\", \"operating\", \"operation\", \"operation\", \"operation\", \"operation\", \"operation\", \"operation\", \"operation\", \"operation\", \"operational\", \"operational\", \"operator\", \"operator\", \"operator\", \"operator\", \"optical\", \"optical\", \"optical\", \"optimal\", \"optimal\", \"outer\", \"outlet\", \"output\", \"output\", \"output\", \"output\", \"output\", \"output\", \"output\", \"output\", \"output\", \"panel\", \"panel\", \"panel\", \"parameter\", \"parameter\", \"parameter\", \"parameter\", \"parameter\", \"parameter\", \"park\", \"park\", \"parked\", \"parked\", \"parking\", \"parking\", \"partial\", \"partial\", \"particular\", \"particular\", \"particular\", \"particular\", \"particular\", \"particular\", \"passenger\", \"path\", \"path\", \"path\", \"path\", \"pedestrian\", \"pedestrian\", \"perception\", \"perception\", \"performance\", \"performance\", \"performance\", \"phase\", \"phase\", \"phase\", \"pilot\", \"pilot\", \"piston\", \"pivot\", \"pixel\", \"pixel\", \"pixel\", \"planned\", \"planned\", \"planned\", \"planning\", \"planning\", \"plural\", \"plural\", \"plural\", \"plurality\", \"plurality\", \"plurality\", \"plurality\", \"plurality\", \"plurality\", \"plurality\", \"plurality\", \"point\", \"point\", \"point\", \"policy\", \"policy\", \"portion\", \"portion\", \"portion\", \"portion\", \"portion\", \"portion\", \"portion\", \"position\", \"position\", \"position\", \"position\", \"position\", \"position\", \"position\", \"position\", \"position\", \"power\", \"power\", \"power\", \"power\", \"powered\", \"powered\", \"powered\", \"powering\", \"powering\", \"prediction\", \"preference\", \"present\", \"present\", \"present\", \"present\", \"present\", \"present\", \"present\", \"present\", \"present\", \"presenting\", \"presenting\", \"previously\", \"previously\", \"probability\", \"probability\", \"processing\", \"processing\", \"processing\", \"processing\", \"processing\", \"processing\", \"processor\", \"processor\", \"processor\", \"processor\", \"processor\", \"product\", \"product\", \"product\", \"profile\", \"profile\", \"profile\", \"profile\", \"program\", \"program\", \"program\", \"program\", \"program\", \"program\", \"progress\", \"progress\", \"progress\", \"propelled\", \"propelled\", \"propelled\", \"propelled\", \"propelled\", \"protection\", \"protection\", \"provide\", \"provide\", \"provide\", \"provide\", \"provide\", \"provide\", \"provide\", \"provide\", \"provide\", \"provided\", \"provided\", \"provided\", \"provided\", \"provided\", \"provided\", \"provided\", \"provided\", \"provided\", \"provided\", \"pull\", \"pull\", \"pulley\", \"pulse\", \"pulse\", \"pump\", \"pump\", \"radio\", \"radio\", \"radio\", \"range\", \"range\", \"range\", \"range\", \"range\", \"range\", \"range\", \"reaction\", \"reaction\", \"reaction\", \"read\", \"read\", \"read\", \"real\", \"real\", \"real\", \"rear\", \"rear\", \"receiver\", \"receiver\", \"rechargeable\", \"recognition\", \"recognition\", \"rectifier\", \"rectifier\", \"reflected\", \"reflected\", \"reflected\", \"region\", \"region\", \"region\", \"region\", \"region\", \"relates\", \"relates\", \"relates\", \"relates\", \"remote\", \"remote\", \"remote\", \"remote\", \"remote\", \"removal\", \"removal\", \"request\", \"request\", \"request\", \"requesting\", \"requesting\", \"require\", \"require\", \"require\", \"resonance\", \"resonance\", \"responds\", \"responds\", \"response\", \"response\", \"response\", \"response\", \"response\", \"response\", \"response\", \"response\", \"response\", \"restricted\", \"ries\", \"ries\", \"ries\", \"ring\", \"road\", \"road\", \"road\", \"road\", \"road\", \"road\", \"road\", \"roadway\", \"roadway\", \"roadway\", \"robot\", \"robot\", \"roller\", \"rotary\", \"rotatable\", \"rotate\", \"rotating\", \"rotating\", \"rotation\", \"rotation\", \"rotation\", \"route\", \"route\", \"routing\", \"routing\", \"row\", \"row\", \"said\", \"said\", \"said\", \"said\", \"satellite\", \"satellite\", \"satellite\", \"saving\", \"scheme\", \"scheme\", \"screw\", \"sdvs\", \"sealing\", \"search\", \"search\", \"seat\", \"seat\", \"seat\", \"seat\", \"seat\", \"second\", \"second\", \"second\", \"second\", \"second\", \"second\", \"second\", \"second\", \"second\", \"section\", \"section\", \"section\", \"section\", \"segment\", \"segment\", \"segment\", \"seismic\", \"semantic\", \"sending\", \"sending\", \"sends\", \"sense\", \"sense\", \"sense\", \"sense\", \"sense\", \"sensing\", \"sensing\", \"sensor\", \"sensor\", \"sensor\", \"sensor\", \"sensor\", \"sensor\", \"sensor\", \"sensor\", \"sensor\", \"separation\", \"separation\", \"service\", \"service\", \"servo\", \"servo\", \"shaft\", \"shaft\", \"show\", \"show\", \"side\", \"sign\", \"signal\", \"signal\", \"signal\", \"signal\", \"signal\", \"signal\", \"signal\", \"signaling\", \"signaling\", \"slower\", \"smart\", \"smart\", \"smart\", \"solar\", \"solid\", \"solid\", \"solid\", \"sound\", \"sound\", \"source\", \"source\", \"source\", \"source\", \"source\", \"source\", \"source\", \"space\", \"space\", \"space\", \"space\", \"space\", \"space\", \"speaker\", \"speaker\", \"speed\", \"speed\", \"speed\", \"speed\", \"speed\", \"spherical\", \"spherical\", \"spring\", \"start\", \"start\", \"start\", \"start\", \"start\", \"state\", \"state\", \"state\", \"state\", \"state\", \"state\", \"state\", \"state\", \"state\", \"station\", \"station\", \"station\", \"station\", \"steering\", \"steering\", \"steering\", \"steering\", \"steering\", \"stop\", \"stop\", \"stop\", \"stop\", \"stop\", \"stop\", \"stop\", \"stop\", \"storage\", \"storage\", \"storage\", \"storage\", \"storage\", \"storage\", \"strategy\", \"strategy\", \"subject\", \"subject\", \"subject\", \"substrate\", \"supply\", \"supply\", \"supply\", \"support\", \"support\", \"support\", \"support\", \"support\", \"support\", \"surface\", \"surface\", \"surface\", \"surface\", \"surroundings\", \"surroundings\", \"survey\", \"sustaining\", \"switch\", \"switch\", \"switch\", \"switch\", \"switch\", \"switch\", \"synchronous\", \"synchronous\", \"system\", \"system\", \"system\", \"system\", \"system\", \"system\", \"system\", \"system\", \"table\", \"table\", \"target\", \"target\", \"target\", \"target\", \"target\", \"target\", \"task\", \"task\", \"tensioning\", \"tensioning\", \"terminal\", \"terrain\", \"terrain\", \"test\", \"test\", \"test\", \"thermal\", \"threshold\", \"threshold\", \"threshold\", \"threshold\", \"threshold\", \"threshold\", \"throttle\", \"time\", \"time\", \"time\", \"time\", \"time\", \"time\", \"time\", \"torque\", \"torque\", \"torque\", \"touch\", \"towing\", \"towing\", \"tracking\", \"tracking\", \"tracking\", \"tracking\", \"traffic\", \"traffic\", \"traffic\", \"trajectory\", \"trajectory\", \"trajectory\", \"transceiver\", \"transceiver\", \"transformer\", \"transistor\", \"transistor\", \"transmitter\", \"travel\", \"travel\", \"travel\", \"travel\", \"travel\", \"travel\", \"traveled\", \"traveled\", \"turbine\", \"unable\", \"unable\", \"unable\", \"unavailable\", \"unavailable\", \"underwater\", \"underwater\", \"underwater\", \"unit\", \"unit\", \"unit\", \"unit\", \"unit\", \"unit\", \"unit\", \"unit\", \"unsafe\", \"unsafe\", \"user\", \"user\", \"user\", \"user\", \"user\", \"vacuum\", \"value\", \"value\", \"value\", \"value\", \"value\", \"value\", \"value\", \"value\", \"valve\", \"valve\", \"vertical\", \"vertical\", \"vessel\", \"vessel\", \"video\", \"video\", \"virtual\", \"virtual\", \"visual\", \"visual\", \"voltage\", \"voltage\", \"voltage\", \"warning\", \"warning\", \"warning\", \"waste\", \"weight\", \"weight\", \"weight\", \"weight\", \"wheel\", \"wheel\", \"wind\", \"winding\", \"winding\", \"wireless\", \"wireless\", \"wireless\", \"wireless\", \"work\", \"work\", \"work\", \"work\", \"work\", \"world\", \"world\", \"zone\", \"zone\", \"zone\", \"zone\"]}, \"R\": 30, \"lambda.step\": 0.01, \"plot.opts\": {\"xlab\": \"PC1\", \"ylab\": \"PC2\"}, \"topic.order\": [1, 2, 4, 6, 7, 10, 9, 5, 3, 8]};\n",
       "\n",
       "function LDAvis_load_lib(url, callback){\n",
       "  var s = document.createElement('script');\n",
       "  s.src = url;\n",
       "  s.async = true;\n",
       "  s.onreadystatechange = s.onload = callback;\n",
       "  s.onerror = function(){console.warn(\"failed to load library \" + url);};\n",
       "  document.getElementsByTagName(\"head\")[0].appendChild(s);\n",
       "}\n",
       "\n",
       "if(typeof(LDAvis) !== \"undefined\"){\n",
       "   // already loaded: just create the visualization\n",
       "   !function(LDAvis){\n",
       "       new LDAvis(\"#\" + \"ldavis_el313622227842643762133751982\", ldavis_el313622227842643762133751982_data);\n",
       "   }(LDAvis);\n",
       "}else if(typeof define === \"function\" && define.amd){\n",
       "   // require.js is available: use it to load d3/LDAvis\n",
       "   require.config({paths: {d3: \"https://cdnjs.cloudflare.com/ajax/libs/d3/3.5.5/d3.min\"}});\n",
       "   require([\"d3\"], function(d3){\n",
       "      window.d3 = d3;\n",
       "      LDAvis_load_lib(\"https://cdn.rawgit.com/bmabey/pyLDAvis/files/ldavis.v1.0.0.js\", function(){\n",
       "        new LDAvis(\"#\" + \"ldavis_el313622227842643762133751982\", ldavis_el313622227842643762133751982_data);\n",
       "      });\n",
       "    });\n",
       "}else{\n",
       "    // require.js not available: dynamically load d3 & LDAvis\n",
       "    LDAvis_load_lib(\"https://cdnjs.cloudflare.com/ajax/libs/d3/3.5.5/d3.min.js\", function(){\n",
       "         LDAvis_load_lib(\"https://cdn.rawgit.com/bmabey/pyLDAvis/files/ldavis.v1.0.0.js\", function(){\n",
       "                 new LDAvis(\"#\" + \"ldavis_el313622227842643762133751982\", ldavis_el313622227842643762133751982_data);\n",
       "            })\n",
       "         });\n",
       "}\n",
       "</script>"
      ],
      "text/plain": [
       "<IPython.core.display.HTML object>"
      ]
     },
     "execution_count": 245,
     "metadata": {},
     "output_type": "execute_result"
    }
   ],
   "source": [
    "pyLDAvis.display(prepared_data)"
   ]
  },
  {
   "cell_type": "code",
   "execution_count": 210,
   "metadata": {},
   "outputs": [],
   "source": [
    "def finding_dominant_topic(corpus, model):\n",
    "    topic_num_list= []\n",
    "    prob_topic_list= []\n",
    "    keyword_list= []\n",
    "    for i, row in enumerate(model[corpus]):\n",
    "        row= sorted(row, key= lambda x: (x[1]), reverse= True)\n",
    "        for j, (topic_num, prob_topic) in enumerate(row):\n",
    "            if j== 0:\n",
    "                wp= model.show_topic(topic_num)\n",
    "                topic_num_list.append(int(topic_num))\n",
    "                prob_topic_list.append(round(prob_topic, 4))\n",
    "                keyword_list.append(\", \".join([word for word, prob in wp]))\n",
    "            else:\n",
    "                break\n",
    "    result= {}\n",
    "    result['dominant_topic']= topic_num_list\n",
    "    result['prob_topic']= prob_topic_list\n",
    "    result['keyword_list']= keyword_list\n",
    "    result= pd.DataFrame(result, columns= ['dominant_topic', 'prob_topic', 'keyword_list'])\n",
    "    return result"
   ]
  },
  {
   "cell_type": "code",
   "execution_count": 215,
   "metadata": {},
   "outputs": [],
   "source": [
    "table=finding_dominant_topic(bow_corpus,lda_model)"
   ]
  },
  {
   "cell_type": "code",
   "execution_count": 220,
   "metadata": {},
   "outputs": [],
   "source": [
    "#t1-->4\n",
    "#t2-->6\n",
    "#t3-->7\n",
    "#t4-->1\n",
    "#t5-->3\n",
    "#t6-->9\n",
    "#t7-->2\n",
    "#t8-->5\n",
    "#t9-->8\n",
    "#t10-->0         반대로 읽기  & 테이블 csv 번호 == 원데이터 번호 (순서 같다 2면 2)"
   ]
  },
  {
   "cell_type": "code",
   "execution_count": 219,
   "metadata": {},
   "outputs": [
    {
     "data": {
      "text/html": [
       "<div>\n",
       "<style scoped>\n",
       "    .dataframe tbody tr th:only-of-type {\n",
       "        vertical-align: middle;\n",
       "    }\n",
       "\n",
       "    .dataframe tbody tr th {\n",
       "        vertical-align: top;\n",
       "    }\n",
       "\n",
       "    .dataframe thead th {\n",
       "        text-align: right;\n",
       "    }\n",
       "</style>\n",
       "<table border=\"1\" class=\"dataframe\">\n",
       "  <thead>\n",
       "    <tr style=\"text-align: right;\">\n",
       "      <th></th>\n",
       "      <th>dominant_topic</th>\n",
       "      <th>prob_topic</th>\n",
       "      <th>keyword_list</th>\n",
       "    </tr>\n",
       "  </thead>\n",
       "  <tbody>\n",
       "    <tr>\n",
       "      <th>0</th>\n",
       "      <td>9</td>\n",
       "      <td>0.3268</td>\n",
       "      <td>data, sensor, park, position, detect, base, se...</td>\n",
       "    </tr>\n",
       "    <tr>\n",
       "      <th>1</th>\n",
       "      <td>6</td>\n",
       "      <td>0.6103</td>\n",
       "      <td>determine, information, base, device, location...</td>\n",
       "    </tr>\n",
       "    <tr>\n",
       "      <th>2</th>\n",
       "      <td>8</td>\n",
       "      <td>0.3053</td>\n",
       "      <td>control, clean, configure, robot, transport, s...</td>\n",
       "    </tr>\n",
       "    <tr>\n",
       "      <th>3</th>\n",
       "      <td>2</td>\n",
       "      <td>0.5068</td>\n",
       "      <td>provide, communication, signal, control, remot...</td>\n",
       "    </tr>\n",
       "    <tr>\n",
       "      <th>4</th>\n",
       "      <td>5</td>\n",
       "      <td>0.4902</td>\n",
       "      <td>steer, wheel, control, speed, second, angle, c...</td>\n",
       "    </tr>\n",
       "  </tbody>\n",
       "</table>\n",
       "</div>"
      ],
      "text/plain": [
       "   dominant_topic  prob_topic  \\\n",
       "0               9      0.3268   \n",
       "1               6      0.6103   \n",
       "2               8      0.3053   \n",
       "3               2      0.5068   \n",
       "4               5      0.4902   \n",
       "\n",
       "                                        keyword_list  \n",
       "0  data, sensor, park, position, detect, base, se...  \n",
       "1  determine, information, base, device, location...  \n",
       "2  control, clean, configure, robot, transport, s...  \n",
       "3  provide, communication, signal, control, remot...  \n",
       "4  steer, wheel, control, speed, second, angle, c...  "
      ]
     },
     "execution_count": 219,
     "metadata": {},
     "output_type": "execute_result"
    }
   ],
   "source": [
    "table.head()"
   ]
  },
  {
   "cell_type": "code",
   "execution_count": 216,
   "metadata": {},
   "outputs": [],
   "source": [
    "table.to_csv(r'C:\\Users\\eric\\Desktop\\dominant_topic_10.csv', index=False,encoding='utf8')"
   ]
  },
  {
   "cell_type": "code",
   "execution_count": 217,
   "metadata": {},
   "outputs": [],
   "source": [
    "##################################################################################################"
   ]
  },
  {
   "cell_type": "code",
   "execution_count": 230,
   "metadata": {},
   "outputs": [],
   "source": [
    "lda_model_7 = gensim.models.LdaMulticore(bow_corpus, num_topics=7\n",
    "                                       , id2word=dictionary, passes=95, workers=4,random_state=42)"
   ]
  },
  {
   "cell_type": "code",
   "execution_count": 231,
   "metadata": {},
   "outputs": [
    {
     "name": "stdout",
     "output_type": "stream",
     "text": [
      "Cpherence -2.812722315150372 -2.05\n"
     ]
    }
   ],
   "source": [
    "cm = CoherenceModel(model=lda_model_7, corpus=bow_corpus, coherence='u_mass')\n",
    "coherence = cm.get_coherence()\n",
    "print(\"Cpherence\",coherence,-2.05)"
   ]
  },
  {
   "cell_type": "code",
   "execution_count": 246,
   "metadata": {},
   "outputs": [],
   "source": [
    "def topic_keyword(model, num_topics, topn= 10):\n",
    "    topic_num_list= []\n",
    "    keyword_list= []\n",
    "    for num in range(0, num_topics):\n",
    "        keyword= \", \".join([word for word, prob in model.show_topic(topicid= num, topn= topn)])\n",
    "        topic_num_list.append(num)\n",
    "        keyword_list.append(keyword)\n",
    "    result= {}\n",
    "    result['topic_num']= topic_num_list\n",
    "    result['keyword']= keyword_list\n",
    "    result= pd.DataFrame(result, columns= ['topic_num', 'keyword'])\n",
    "    return result"
   ]
  },
  {
   "cell_type": "code",
   "execution_count": 247,
   "metadata": {},
   "outputs": [],
   "source": [
    "result_keyword=topic_keyword(lda_model_7,num_topics=7,topn= 10)"
   ]
  },
  {
   "cell_type": "code",
   "execution_count": 253,
   "metadata": {},
   "outputs": [
    {
     "name": "stdout",
     "output_type": "stream",
     "text": [
      "wheel, assembly, device, includes, body, member, second, position, frame, motor\n",
      "information, object, based, data, method, sensor, image, position, path, lane\n",
      "cleaning, surface, robot, traffic, includes, configured, zone, sensor, unmanned, signal\n",
      "control, mode, user, method, configured, device, processor, parking, includes, information\n",
      "signal, circuit, light, voltage, output, device, line, includes, display, unit\n",
      "data, operation, sensor, based, method, device, time, level, second, value\n",
      "power, motor, control, steering, module, unit, engine, electric, supply, device\n"
     ]
    }
   ],
   "source": [
    "for i in range(7):\n",
    "    print(result_keyword.keyword[i])"
   ]
  },
  {
   "cell_type": "code",
   "execution_count": 232,
   "metadata": {},
   "outputs": [
    {
     "name": "stdout",
     "output_type": "stream",
     "text": [
      "Topic: 0 \n",
      "Words: 0.026*\"wheel\" + 0.020*\"assembly\" + 0.017*\"device\" + 0.016*\"includes\" + 0.016*\"body\" + 0.014*\"member\" + 0.013*\"second\" + 0.012*\"position\" + 0.011*\"frame\" + 0.011*\"motor\"\n",
      "Topic: 1 \n",
      "Words: 0.029*\"information\" + 0.027*\"object\" + 0.024*\"based\" + 0.023*\"data\" + 0.021*\"method\" + 0.021*\"sensor\" + 0.016*\"image\" + 0.015*\"position\" + 0.014*\"path\" + 0.014*\"lane\"\n",
      "Topic: 2 \n",
      "Words: 0.027*\"cleaning\" + 0.026*\"surface\" + 0.026*\"robot\" + 0.021*\"traffic\" + 0.018*\"includes\" + 0.018*\"configured\" + 0.018*\"zone\" + 0.016*\"sensor\" + 0.014*\"unmanned\" + 0.014*\"signal\"\n",
      "Topic: 3 \n",
      "Words: 0.045*\"control\" + 0.039*\"mode\" + 0.015*\"user\" + 0.014*\"method\" + 0.013*\"configured\" + 0.013*\"device\" + 0.013*\"processor\" + 0.013*\"parking\" + 0.012*\"includes\" + 0.012*\"information\"\n",
      "Topic: 4 \n",
      "Words: 0.060*\"signal\" + 0.037*\"circuit\" + 0.026*\"light\" + 0.018*\"voltage\" + 0.017*\"output\" + 0.017*\"device\" + 0.016*\"line\" + 0.016*\"includes\" + 0.015*\"display\" + 0.015*\"unit\"\n",
      "Topic: 5 \n",
      "Words: 0.044*\"data\" + 0.018*\"operation\" + 0.017*\"sensor\" + 0.016*\"based\" + 0.015*\"method\" + 0.014*\"device\" + 0.014*\"time\" + 0.014*\"level\" + 0.014*\"second\" + 0.014*\"value\"\n",
      "Topic: 6 \n",
      "Words: 0.040*\"power\" + 0.020*\"motor\" + 0.020*\"control\" + 0.019*\"steering\" + 0.016*\"module\" + 0.015*\"unit\" + 0.015*\"engine\" + 0.014*\"electric\" + 0.012*\"supply\" + 0.011*\"device\"\n"
     ]
    }
   ],
   "source": [
    "for idx, topic in lda_model_7.print_topics(-1):\n",
    "    print('Topic: {} \\nWords: {}'.format(idx, topic))"
   ]
  },
  {
   "cell_type": "code",
   "execution_count": 233,
   "metadata": {},
   "outputs": [],
   "source": [
    "prepared_data_7 = gensimvis.prepare(lda_model_7, bow_corpus, dictionary)"
   ]
  },
  {
   "cell_type": "code",
   "execution_count": 234,
   "metadata": {},
   "outputs": [
    {
     "data": {
      "text/html": [
       "\n",
       "<link rel=\"stylesheet\" type=\"text/css\" href=\"https://cdn.rawgit.com/bmabey/pyLDAvis/files/ldavis.v1.0.0.css\">\n",
       "\n",
       "\n",
       "<div id=\"ldavis_el313622227332704963874061783\"></div>\n",
       "<script type=\"text/javascript\">\n",
       "\n",
       "var ldavis_el313622227332704963874061783_data = {\"mdsDat\": {\"x\": [0.24049335555732634, -0.19153216009499516, -0.15817019819689934, 0.14498434054642406, -0.15708429586437817, 0.07340883336235121, 0.04790012469017077], \"y\": [-0.04689225700257989, -0.028028589840163994, 0.032223530856918876, 0.12501274306349358, 0.033825270216839114, 0.14729811350775554, -0.2634388108022625], \"topics\": [1, 2, 3, 4, 5, 6, 7], \"cluster\": [1, 1, 1, 1, 1, 1, 1], \"Freq\": [21.4411563873291, 20.982704162597656, 16.201309204101562, 12.50135326385498, 11.73385238647461, 10.648591041564941, 6.491035461425781]}, \"tinfo\": {\"Category\": [\"Default\", \"Default\", \"Default\", \"Default\", \"Default\", \"Default\", \"Default\", \"Default\", \"Default\", \"Default\", \"Default\", \"Default\", \"Default\", \"Default\", \"Default\", \"Default\", \"Default\", \"Default\", \"Default\", \"Default\", \"Default\", \"Default\", \"Default\", \"Default\", \"Default\", \"Default\", \"Default\", \"Default\", \"Default\", \"Default\", \"Topic1\", \"Topic1\", \"Topic1\", \"Topic1\", \"Topic1\", \"Topic1\", \"Topic1\", \"Topic1\", \"Topic1\", \"Topic1\", \"Topic1\", \"Topic1\", \"Topic1\", \"Topic1\", \"Topic1\", \"Topic1\", \"Topic1\", \"Topic1\", \"Topic1\", \"Topic1\", \"Topic1\", \"Topic1\", \"Topic1\", \"Topic1\", \"Topic1\", \"Topic1\", \"Topic1\", \"Topic1\", \"Topic1\", \"Topic1\", \"Topic1\", \"Topic1\", \"Topic1\", \"Topic1\", \"Topic1\", \"Topic1\", \"Topic1\", \"Topic1\", \"Topic1\", \"Topic1\", \"Topic1\", \"Topic1\", \"Topic1\", \"Topic1\", \"Topic1\", \"Topic1\", \"Topic1\", \"Topic1\", \"Topic1\", \"Topic1\", \"Topic1\", \"Topic1\", \"Topic1\", \"Topic1\", \"Topic1\", \"Topic1\", \"Topic1\", \"Topic1\", \"Topic1\", \"Topic1\", \"Topic1\", \"Topic1\", \"Topic1\", \"Topic1\", \"Topic1\", \"Topic1\", \"Topic1\", \"Topic1\", \"Topic1\", \"Topic1\", \"Topic2\", \"Topic2\", \"Topic2\", \"Topic2\", \"Topic2\", \"Topic2\", \"Topic2\", \"Topic2\", \"Topic2\", \"Topic2\", \"Topic2\", \"Topic2\", \"Topic2\", \"Topic2\", \"Topic2\", \"Topic2\", \"Topic2\", \"Topic2\", \"Topic2\", \"Topic2\", \"Topic2\", \"Topic2\", \"Topic2\", \"Topic2\", \"Topic2\", \"Topic2\", \"Topic2\", \"Topic2\", \"Topic2\", \"Topic2\", \"Topic2\", \"Topic2\", \"Topic2\", \"Topic2\", \"Topic2\", \"Topic2\", \"Topic2\", \"Topic2\", \"Topic2\", \"Topic2\", \"Topic2\", \"Topic2\", \"Topic2\", \"Topic2\", \"Topic2\", \"Topic2\", \"Topic2\", \"Topic2\", \"Topic2\", \"Topic2\", \"Topic2\", \"Topic2\", \"Topic2\", \"Topic2\", \"Topic2\", \"Topic2\", \"Topic2\", \"Topic2\", \"Topic2\", \"Topic2\", \"Topic2\", \"Topic2\", \"Topic2\", \"Topic2\", \"Topic2\", \"Topic2\", \"Topic2\", \"Topic2\", \"Topic2\", \"Topic2\", \"Topic2\", \"Topic2\", \"Topic2\", \"Topic2\", \"Topic2\", \"Topic3\", \"Topic3\", \"Topic3\", \"Topic3\", \"Topic3\", \"Topic3\", \"Topic3\", \"Topic3\", \"Topic3\", \"Topic3\", \"Topic3\", \"Topic3\", \"Topic3\", \"Topic3\", \"Topic3\", \"Topic3\", \"Topic3\", \"Topic3\", \"Topic3\", \"Topic3\", \"Topic3\", \"Topic3\", \"Topic3\", \"Topic3\", \"Topic3\", \"Topic3\", \"Topic3\", \"Topic3\", \"Topic3\", \"Topic3\", \"Topic3\", \"Topic3\", \"Topic3\", \"Topic3\", \"Topic3\", \"Topic3\", \"Topic3\", \"Topic3\", \"Topic3\", \"Topic3\", \"Topic3\", \"Topic3\", \"Topic3\", \"Topic3\", \"Topic3\", \"Topic3\", \"Topic3\", \"Topic3\", \"Topic3\", \"Topic3\", \"Topic3\", \"Topic3\", \"Topic3\", \"Topic3\", \"Topic3\", \"Topic3\", \"Topic3\", \"Topic3\", \"Topic3\", \"Topic3\", \"Topic3\", \"Topic3\", \"Topic3\", \"Topic3\", \"Topic3\", \"Topic3\", \"Topic3\", \"Topic4\", \"Topic4\", \"Topic4\", \"Topic4\", \"Topic4\", \"Topic4\", \"Topic4\", \"Topic4\", \"Topic4\", \"Topic4\", \"Topic4\", \"Topic4\", \"Topic4\", \"Topic4\", \"Topic4\", \"Topic4\", \"Topic4\", \"Topic4\", \"Topic4\", \"Topic4\", \"Topic4\", \"Topic4\", \"Topic4\", \"Topic4\", \"Topic4\", \"Topic4\", \"Topic4\", \"Topic4\", \"Topic4\", \"Topic4\", \"Topic4\", \"Topic4\", \"Topic4\", \"Topic4\", \"Topic4\", \"Topic4\", \"Topic4\", \"Topic4\", \"Topic4\", \"Topic4\", \"Topic4\", \"Topic4\", \"Topic4\", \"Topic4\", \"Topic4\", \"Topic4\", \"Topic4\", \"Topic4\", \"Topic4\", \"Topic4\", \"Topic4\", \"Topic4\", \"Topic4\", \"Topic4\", \"Topic4\", \"Topic4\", \"Topic4\", \"Topic4\", \"Topic4\", \"Topic4\", \"Topic4\", \"Topic4\", \"Topic4\", \"Topic4\", \"Topic4\", \"Topic5\", \"Topic5\", \"Topic5\", \"Topic5\", \"Topic5\", \"Topic5\", \"Topic5\", \"Topic5\", \"Topic5\", \"Topic5\", \"Topic5\", \"Topic5\", \"Topic5\", \"Topic5\", \"Topic5\", \"Topic5\", \"Topic5\", \"Topic5\", \"Topic5\", \"Topic5\", \"Topic5\", \"Topic5\", \"Topic5\", \"Topic5\", \"Topic5\", \"Topic5\", \"Topic5\", \"Topic5\", \"Topic5\", \"Topic5\", \"Topic5\", \"Topic5\", \"Topic5\", \"Topic5\", \"Topic5\", \"Topic5\", \"Topic5\", \"Topic5\", \"Topic5\", \"Topic5\", \"Topic5\", \"Topic5\", \"Topic5\", \"Topic5\", \"Topic5\", \"Topic5\", \"Topic5\", \"Topic5\", \"Topic5\", \"Topic5\", \"Topic5\", \"Topic5\", \"Topic5\", \"Topic5\", \"Topic5\", \"Topic5\", \"Topic5\", \"Topic5\", \"Topic5\", \"Topic5\", \"Topic5\", \"Topic5\", \"Topic5\", \"Topic5\", \"Topic5\", \"Topic5\", \"Topic5\", \"Topic5\", \"Topic6\", \"Topic6\", \"Topic6\", \"Topic6\", \"Topic6\", \"Topic6\", \"Topic6\", \"Topic6\", \"Topic6\", \"Topic6\", \"Topic6\", \"Topic6\", \"Topic6\", \"Topic6\", \"Topic6\", \"Topic6\", \"Topic6\", \"Topic6\", \"Topic6\", \"Topic6\", \"Topic6\", \"Topic6\", \"Topic6\", \"Topic6\", \"Topic6\", \"Topic6\", \"Topic6\", \"Topic6\", \"Topic6\", \"Topic6\", \"Topic6\", \"Topic6\", \"Topic6\", \"Topic6\", \"Topic6\", \"Topic6\", \"Topic6\", \"Topic6\", \"Topic6\", \"Topic6\", \"Topic6\", \"Topic6\", \"Topic6\", \"Topic6\", \"Topic6\", \"Topic6\", \"Topic6\", \"Topic6\", \"Topic6\", \"Topic6\", \"Topic6\", \"Topic6\", \"Topic6\", \"Topic6\", \"Topic6\", \"Topic6\", \"Topic6\", \"Topic6\", \"Topic6\", \"Topic6\", \"Topic7\", \"Topic7\", \"Topic7\", \"Topic7\", \"Topic7\", \"Topic7\", \"Topic7\", \"Topic7\", \"Topic7\", \"Topic7\", \"Topic7\", \"Topic7\", \"Topic7\", \"Topic7\", \"Topic7\", \"Topic7\", \"Topic7\", \"Topic7\", \"Topic7\", \"Topic7\", \"Topic7\", \"Topic7\", \"Topic7\", \"Topic7\", \"Topic7\", \"Topic7\", \"Topic7\", \"Topic7\", \"Topic7\", \"Topic7\", \"Topic7\", \"Topic7\", \"Topic7\", \"Topic7\", \"Topic7\", \"Topic7\", \"Topic7\", \"Topic7\", \"Topic7\", \"Topic7\", \"Topic7\", \"Topic7\", \"Topic7\", \"Topic7\", \"Topic7\", \"Topic7\", \"Topic7\", \"Topic7\", \"Topic7\", \"Topic7\", \"Topic7\", \"Topic7\", \"Topic7\", \"Topic7\", \"Topic7\", \"Topic7\", \"Topic7\"], \"Freq\": [1533.0, 1956.0, 1126.0, 1398.0, 744.0, 1208.0, 1127.0, 1569.0, 731.0, 869.0, 560.0, 953.0, 2957.0, 735.0, 1715.0, 338.0, 337.0, 664.0, 381.0, 583.0, 1695.0, 398.0, 595.0, 475.0, 385.0, 898.0, 309.0, 382.0, 417.0, 553.0, 238.48178100585938, 160.6765594482422, 125.21749114990234, 112.41154479980469, 111.42877197265625, 111.42684173583984, 109.45851135253906, 105.5174560546875, 95.67139434814453, 92.70728302001953, 86.8050537109375, 79.91077423095703, 77.94329071044922, 76.94886779785156, 74.98636627197266, 74.0027847290039, 70.05780792236328, 69.0789794921875, 69.0776138305664, 68.08021545410156, 70.98282623291016, 59.22454833984375, 58.234256744384766, 85.39273071289062, 55.2891845703125, 53.31980514526367, 52.33144760131836, 50.364925384521484, 49.38042449951172, 49.37294387817383, 160.40565490722656, 281.5693054199219, 560.5277099609375, 332.8314208984375, 819.7869262695312, 160.54095458984375, 94.38917541503906, 203.21160888671875, 396.6382141113281, 1063.2664794921875, 652.5963134765625, 183.9095001220703, 139.64022827148438, 456.5677490234375, 133.27330017089844, 313.1111145019531, 347.819580078125, 165.35342407226562, 212.1817169189453, 326.32977294921875, 197.91152954101562, 174.7266387939453, 410.34307861328125, 441.2669982910156, 414.2362976074219, 274.62249755859375, 366.59490966796875, 440.5183410644531, 454.4442138671875, 373.4528503417969, 261.4588317871094, 482.5641784667969, 704.8271484375, 653.2566528320312, 526.4568481445312, 250.0063018798828, 361.3860778808594, 246.01611328125, 276.8561096191406, 219.78970336914062, 203.51548767089844, 66.24822998046875, 56.39118957519531, 60.2755241394043, 54.43309020996094, 51.47177505493164, 48.50785827636719, 43.57316589355469, 41.60114288330078, 40.61151885986328, 40.611671447753906, 39.62282943725586, 36.65807342529297, 36.6605339050293, 36.623355865478516, 30.739179611206055, 67.22687530517578, 28.759597778320312, 60.33884811401367, 27.772079467773438, 26.782678604125977, 22.83951187133789, 21.85151481628418, 21.837493896484375, 19.878982543945312, 250.82655334472656, 40.60979461669922, 17.897268295288086, 16.911134719848633, 16.890151977539062, 1069.23828125, 554.9146118164062, 474.17138671875, 62.72250747680664, 104.34342956542969, 570.2691650390625, 431.044677734375, 98.14375305175781, 309.5738220214844, 182.76364135742188, 135.7293243408203, 194.2064208984375, 117.09307098388672, 634.9154052734375, 1137.4439697265625, 338.3277893066406, 103.41302490234375, 391.304931640625, 96.68958282470703, 450.44146728515625, 379.2906494140625, 942.6507568359375, 276.9450988769531, 199.20709228515625, 391.8699035644531, 155.22869873046875, 374.5262756347656, 916.657958984375, 814.4859008789062, 404.0984802246094, 534.4383544921875, 582.80126953125, 848.1928100585938, 301.5762634277344, 278.4098815917969, 234.44874572753906, 269.78948974609375, 339.82177734375, 341.1956787109375, 375.32366943359375, 369.6646728515625, 372.17626953125, 294.5420837402344, 300.9178466796875, 282.04302978515625, 384.1543884277344, 327.25323486328125, 43.575714111328125, 41.57811737060547, 40.614776611328125, 82.91223907470703, 226.11041259765625, 29.749483108520508, 28.757450103759766, 45.992652893066406, 26.78394889831543, 25.799379348754883, 21.8527889251709, 21.847305297851562, 21.84326171875, 280.271484375, 19.862276077270508, 16.919031143188477, 15.933450698852539, 451.14697265625, 15.894760131835938, 239.387451171875, 147.75062561035156, 14.935441017150879, 41.506412506103516, 54.15898513793945, 22.82556915283203, 50.67985916137695, 18.843700408935547, 90.15524291992188, 1202.3282470703125, 187.05615234375, 145.77101135253906, 189.61334228515625, 182.526123046875, 126.27178955078125, 108.29397583007812, 394.0055236816406, 168.38636779785156, 342.4288330078125, 97.07001495361328, 1391.99365234375, 109.15433502197266, 201.34486389160156, 177.53700256347656, 339.38970947265625, 125.77092742919922, 144.92225646972656, 197.77349853515625, 117.97633361816406, 280.8503112792969, 261.85186767578125, 262.3493347167969, 188.5897216796875, 294.874755859375, 335.9183349609375, 192.72674560546875, 402.4023132324219, 424.8546142578125, 367.1684875488281, 281.1043701171875, 397.518310546875, 372.17523193359375, 327.34222412109375, 275.48016357421875, 232.7913360595703, 208.1680908203125, 248.79083251953125, 166.90472412109375, 149.92384338378906, 109.98316192626953, 75.03255462646484, 61.05369186401367, 58.0499382019043, 54.05057907104492, 52.062843322753906, 50.0684814453125, 39.08064651489258, 37.0853385925293, 34.088077545166016, 34.08254623413086, 32.086795806884766, 31.090591430664062, 29.079355239868164, 25.09987449645996, 68.48765563964844, 19.111783981323242, 18.10140037536621, 16.117639541625977, 34.717124938964844, 38.008487701416016, 51.015079498291016, 219.4831085205078, 48.56193161010742, 45.79678726196289, 218.2374725341797, 328.66156005859375, 216.67185974121094, 937.2720336914062, 351.2536926269531, 107.67131805419922, 63.941558837890625, 72.81250762939453, 286.6539611816406, 71.00038146972656, 388.4520568847656, 115.34244537353516, 110.83655548095703, 255.8686065673828, 120.4115982055664, 460.1890563964844, 481.4163513183594, 155.98062133789062, 84.30040740966797, 119.27587890625, 100.51700592041016, 141.68858337402344, 129.26246643066406, 357.5858154296875, 467.7319030761719, 133.45301818847656, 158.54971313476562, 133.30430603027344, 271.3535461425781, 154.4978485107422, 167.3291778564453, 147.65296936035156, 169.0167236328125, 161.79998779296875, 139.53562927246094, 144.52536010742188, 141.94314575195312, 103.81114196777344, 75.84908294677734, 62.94118118286133, 57.94666290283203, 46.986724853515625, 44.99519348144531, 43.9969367980957, 38.01475524902344, 32.0357551574707, 26.049095153808594, 25.061155319213867, 24.0492000579834, 22.06311798095703, 21.070907592773438, 19.078962326049805, 19.075517654418945, 17.086753845214844, 17.086040496826172, 17.086204528808594, 17.07518768310547, 16.087068557739258, 49.15520095825195, 15.092987060546875, 21.76211166381836, 15.083429336547852, 23.026973724365234, 186.29351806640625, 18.522418975830078, 145.37559509277344, 27.95073699951172, 56.65546798706055, 255.2921905517578, 282.26812744140625, 67.54508209228516, 170.5496368408203, 50.684974670410156, 38.85955047607422, 316.4862976074219, 974.5362548828125, 128.13955688476562, 207.27108764648438, 314.98486328125, 131.48013305664062, 96.75151062011719, 116.95243835449219, 409.371826171875, 148.65689086914062, 85.51554107666016, 103.25970458984375, 320.96356201171875, 265.135009765625, 275.3252868652344, 388.5660400390625, 180.50094604492188, 346.8442077636719, 106.27279663085938, 155.66802978515625, 315.1433410644531, 337.3456115722656, 321.3772277832031, 181.96067810058594, 164.52491760253906, 295.44769287109375, 126.17668151855469, 186.9748992919922, 143.66114807128906, 164.7622833251953, 127.70938873291016, 743.0863037109375, 308.1714172363281, 265.1642150878906, 151.1510009765625, 150.15579223632812, 139.15512084960938, 115.15096282958984, 97.1463623046875, 107.92205810546875, 84.14859008789062, 82.11522674560547, 79.14737701416016, 72.14743041992188, 62.144771575927734, 49.14128875732422, 49.14109420776367, 48.140869140625, 37.142826080322266, 251.106689453125, 26.14213752746582, 26.132572174072266, 26.105016708374023, 25.137752532958984, 23.142324447631836, 22.13961410522461, 525.9762573242188, 229.30307006835938, 66.77601623535156, 62.79515838623047, 90.7855453491211, 359.05902099609375, 119.01168060302734, 325.9802551269531, 1216.5421142578125, 55.5852165222168, 95.64225006103516, 99.56819915771484, 203.48464965820312, 352.0028076171875, 135.6544189453125, 126.88103485107422, 312.19830322265625, 86.75978088378906, 115.6845703125, 116.63777160644531, 221.72450256347656, 191.76319885253906, 311.3438415527344, 307.91015625, 337.1524353027344, 198.24615478515625, 322.6636047363281, 201.27137756347656, 300.5117492675781, 153.65542602539062, 186.7388458251953, 154.77093505859375, 132.2532501220703, 136.6857452392578, 136.44969177246094, 337.6728515625, 215.20909118652344, 154.78524780273438, 132.54811096191406, 104.1596450805664, 70.89555358886719, 48.65644454956055, 35.51554870605469, 31.47384262084961, 28.440963745117188, 31.35637092590332, 23.38445472717285, 23.347013473510742, 22.36954116821289, 323.7088317871094, 19.3306884765625, 25.2719783782959, 39.369781494140625, 28.35080909729004, 177.4269561767578, 109.08779907226562, 22.971092224121094, 124.49274444580078, 61.01225280761719, 24.251644134521484, 21.444826126098633, 33.00270080566406, 17.79059410095215, 112.1051254272461, 19.344654083251953, 112.12964630126953, 48.40340805053711, 263.4013366699219, 46.1295051574707, 166.45806884765625, 42.406463623046875, 116.58698272705078, 144.17446899414062, 325.13006591796875, 76.65007781982422, 48.60789489746094, 98.68183135986328, 73.53135681152344, 219.02891540527344, 77.27051544189453, 226.2726593017578, 198.25355529785156, 86.2694320678711, 169.30856323242188, 79.7791748046875, 108.97126007080078, 91.85458374023438, 95.5649642944336, 89.81607055664062, 110.00285339355469, 88.49388122558594, 82.5638198852539], \"Term\": [\"signal\", \"data\", \"power\", \"mode\", \"circuit\", \"wheel\", \"object\", \"information\", \"surface\", \"assembly\", \"light\", \"motor\", \"control\", \"body\", \"sensor\", \"cleaning\", \"robot\", \"display\", \"traffic\", \"member\", \"based\", \"voltage\", \"lane\", \"user\", \"parking\", \"steering\", \"touch\", \"line\", \"engine\", \"output\", \"axis\", \"screw\", \"bearing\", \"rotating\", \"milling\", \"movable\", \"roller\", \"rotate\", \"pivot\", \"right\", \"ring\", \"spring\", \"drum\", \"spherical\", \"rotary\", \"piston\", \"vacuum\", \"pulley\", \"conveyor\", \"handle\", \"outlet\", \"rotatable\", \"moved\", \"door\", \"sealing\", \"bracket\", \"magnet\", \"fastener\", \"mount\", \"joint\", \"hydraulic\", \"gear\", \"member\", \"housing\", \"assembly\", \"axle\", \"lock\", \"rear\", \"shaft\", \"wheel\", \"body\", \"head\", \"supporting\", \"frame\", \"outer\", \"mounted\", \"support\", \"locking\", \"rotation\", \"mean\", \"said\", \"pump\", \"mechanism\", \"portion\", \"element\", \"propelled\", \"direction\", \"having\", \"motor\", \"surface\", \"section\", \"position\", \"device\", \"includes\", \"second\", \"coupled\", \"unit\", \"connected\", \"provided\", \"comprises\", \"model\", \"blind\", \"insurance\", \"probability\", \"calculate\", \"localization\", \"course\", \"lidar\", \"subset\", \"heading\", \"navigational\", \"planning\", \"routing\", \"cloud\", \"calculation\", \"map\", \"landmark\", \"analyze\", \"obtaining\", \"taken\", \"score\", \"analyzed\", \"traveled\", \"recognize\", \"historical\", \"trajectory\", \"auto\", \"combining\", \"mitigation\", \"describing\", \"object\", \"lane\", \"environment\", \"captured\", \"radar\", \"path\", \"route\", \"estimate\", \"target\", \"obstacle\", \"real\", \"segment\", \"estimated\", \"image\", \"information\", \"detected\", \"planned\", \"road\", \"surrounding\", \"determined\", \"point\", \"based\", \"navigation\", \"camera\", \"determining\", \"identified\", \"associated\", \"data\", \"sensor\", \"determine\", \"location\", \"position\", \"method\", \"travel\", \"feature\", \"roadway\", \"area\", \"include\", \"plurality\", \"configured\", \"second\", \"includes\", \"time\", \"control\", \"device\", \"parking\", \"manual\", \"preference\", \"transceiver\", \"sdvs\", \"drone\", \"service\", \"park\", \"completion\", \"pickup\", \"throttle\", \"configurable\", \"sends\", \"managing\", \"presenting\", \"passenger\", \"hazard\", \"detrimental\", \"checklist\", \"user\", \"assembling\", \"occupant\", \"product\", \"show\", \"separation\", \"execute\", \"progress\", \"hardware\", \"requesting\", \"approaching\", \"mode\", \"remote\", \"task\", \"request\", \"human\", \"program\", \"message\", \"processor\", \"board\", \"condition\", \"delivery\", \"control\", \"operational\", \"interface\", \"destination\", \"display\", \"access\", \"instruction\", \"command\", \"operated\", \"communication\", \"operating\", \"input\", \"controlled\", \"controller\", \"location\", \"action\", \"configured\", \"method\", \"information\", \"operation\", \"device\", \"includes\", \"unit\", \"based\", \"include\", \"state\", \"battery\", \"charging\", \"generator\", \"coil\", \"combustion\", \"turbine\", \"winding\", \"protection\", \"thermal\", \"electricity\", \"transformer\", \"wind\", \"feeding\", \"hybrid\", \"heating\", \"electronics\", \"assembled\", \"rechargeable\", \"barrier\", \"sustaining\", \"ensure\", \"domestic\", \"recovery\", \"exhaust\", \"heat\", \"torque\", \"cooling\", \"efficiency\", \"energy\", \"electric\", \"electrical\", \"power\", \"engine\", \"equipment\", \"reaction\", \"secondary\", \"supply\", \"cable\", \"module\", \"aircraft\", \"powered\", \"force\", \"fuel\", \"steering\", \"motor\", \"high\", \"charge\", \"contained\", \"magnetic\", \"field\", \"fluid\", \"unit\", \"control\", \"angle\", \"invention\", \"source\", \"device\", \"connected\", \"current\", \"apparatus\", \"method\", \"includes\", \"speed\", \"wheel\", \"provided\", \"fault\", \"learning\", \"diagnosis\", \"deceleration\", \"medical\", \"diagnostic\", \"assessment\", \"sound\", \"maintaining\", \"intelligence\", \"semantic\", \"deep\", \"background\", \"specification\", \"fuzzy\", \"artificial\", \"biometrics\", \"crowd\", \"slower\", \"geometrical\", \"analytics\", \"policy\", \"facial\", \"faster\", \"partial\", \"text\", \"assistance\", \"execution\", \"acceleration\", \"evaluation\", \"algorithm\", \"threshold\", \"storage\", \"recognition\", \"collision\", \"search\", \"satellite\", \"level\", \"data\", \"management\", \"braking\", \"value\", \"memory\", \"test\", \"event\", \"operation\", \"parameter\", \"item\", \"risk\", \"time\", \"speed\", \"controller\", \"sensor\", \"response\", \"based\", \"process\", \"component\", \"second\", \"method\", \"device\", \"state\", \"system\", \"control\", \"brake\", \"configured\", \"determining\", \"includes\", \"communication\", \"circuit\", \"touch\", \"electrode\", \"gate\", \"transistor\", \"capacitance\", \"emitting\", \"emission\", \"capacitor\", \"luminous\", \"pulse\", \"diode\", \"capacitive\", \"semiconductor\", \"mutual\", \"lamp\", \"refresh\", \"modulated\", \"pixel\", \"amplifier\", \"emitted\", \"biasing\", \"matrix\", \"luminance\", \"emit\", \"light\", \"sensing\", \"emitter\", \"delay\", \"pull\", \"voltage\", \"terminal\", \"line\", \"signal\", \"transmitter\", \"substrate\", \"sense\", \"panel\", \"output\", \"frequency\", \"active\", \"display\", \"phase\", \"array\", \"period\", \"current\", \"input\", \"unit\", \"second\", \"device\", \"element\", \"includes\", \"plurality\", \"control\", \"detection\", \"power\", \"connected\", \"source\", \"configured\", \"sensor\", \"cleaning\", \"zone\", \"underwater\", \"intersection\", \"aerial\", \"seismic\", \"crop\", \"survey\", \"waste\", \"marine\", \"adhesive\", \"row\", \"submersible\", \"exposed\", \"robot\", \"defect\", \"sign\", \"yield\", \"film\", \"unmanned\", \"container\", \"density\", \"layer\", \"flight\", \"ries\", \"inspection\", \"finger\", \"deploying\", \"floor\", \"record\", \"water\", \"perception\", \"traffic\", \"calibration\", \"base\", \"guiding\", \"station\", \"mobile\", \"surface\", \"construction\", \"vessel\", \"automated\", \"chassis\", \"configured\", \"material\", \"includes\", \"sensor\", \"structure\", \"signal\", \"space\", \"including\", \"area\", \"having\", \"communication\", \"device\", \"method\", \"body\"], \"Total\": [1533.0, 1956.0, 1126.0, 1398.0, 744.0, 1208.0, 1127.0, 1569.0, 731.0, 869.0, 560.0, 953.0, 2957.0, 735.0, 1715.0, 338.0, 337.0, 664.0, 381.0, 583.0, 1695.0, 398.0, 595.0, 475.0, 385.0, 898.0, 309.0, 382.0, 417.0, 553.0, 239.33717346191406, 161.53123474121094, 126.0727310180664, 113.26726531982422, 112.28374481201172, 112.28221130371094, 110.31392669677734, 106.3728256225586, 96.52615356445312, 93.56356048583984, 87.6602554321289, 80.76576232910156, 78.79798889160156, 77.80937957763672, 75.8419418334961, 74.85757446289062, 70.9146499633789, 69.93363952636719, 69.93277740478516, 68.93781280517578, 71.90284729003906, 60.0798225402832, 59.09238052368164, 86.67147827148438, 56.14413070678711, 54.17521286010742, 53.187034606933594, 51.21989059448242, 50.23508834838867, 50.23093795776367, 164.52708435058594, 290.66436767578125, 583.3738403320312, 344.87567138671875, 869.3672485351562, 165.52206420898438, 96.52330017089844, 213.87338256835938, 427.8739318847656, 1208.5047607421875, 735.8719482421875, 194.21742248535156, 146.9142303466797, 533.0496826171875, 141.0190887451172, 368.1156311035156, 420.3796081542969, 182.4330596923828, 253.67893981933594, 426.47845458984375, 236.92886352539062, 204.33363342285156, 600.6846923828125, 694.4606323242188, 667.1002197265625, 392.5774841308594, 606.03271484375, 815.4703369140625, 953.3075561523438, 731.5230712890625, 412.2713317871094, 1199.2547607421875, 2424.2744140625, 2273.106689453125, 1773.77978515625, 428.92169189453125, 1671.714111328125, 563.9928588867188, 991.019287109375, 465.69549560546875, 204.3734893798828, 67.13495635986328, 57.25778579711914, 61.21324157714844, 55.28830337524414, 52.32697296142578, 49.36407470703125, 44.42827224731445, 42.455772399902344, 41.46648406982422, 41.46677017211914, 40.47843551635742, 37.51401901245117, 37.51736068725586, 37.51033401489258, 31.5941162109375, 69.12305450439453, 29.61526870727539, 62.187889099121094, 28.62795639038086, 27.638774871826172, 23.694631576538086, 22.70657730102539, 22.702983856201172, 20.73375701904297, 261.7365417480469, 42.45958709716797, 18.753135681152344, 17.767200469970703, 17.749685287475586, 1127.469970703125, 595.3511352539062, 508.1865539550781, 66.20941162109375, 111.62440490722656, 644.243408203125, 493.65460205078125, 106.71417236328125, 359.095947265625, 207.68226623535156, 152.08267211914062, 223.06202697753906, 131.3916778564453, 830.6438598632812, 1569.4996337890625, 430.421875, 116.49935913085938, 531.1605224609375, 110.67107391357422, 637.24365234375, 543.5957641601562, 1695.4073486328125, 393.45233154296875, 267.7785949707031, 613.5083618164062, 198.79872131347656, 601.9234619140625, 1956.2646484375, 1715.907958984375, 692.9749145507812, 1033.6492919921875, 1199.2547607421875, 2036.322021484375, 505.6816101074219, 469.044677734375, 419.7848815917969, 549.195068359375, 891.6941528320312, 901.72802734375, 1636.661865234375, 1773.77978515625, 2273.106689453125, 844.6573486328125, 2957.3125, 2424.2744140625, 385.0301208496094, 332.75048828125, 44.43000030517578, 42.45103073120117, 41.46891784667969, 84.91129302978516, 232.05735778808594, 30.60458755493164, 29.613168716430664, 47.38412857055664, 27.639305114746094, 26.6547794342041, 22.707651138305664, 22.703264236450195, 22.70688819885254, 292.22552490234375, 20.72528648376465, 17.77340316772461, 16.78754234313965, 475.90264892578125, 16.771806716918945, 252.7342529296875, 156.06451416015625, 15.791853904724121, 44.45261001586914, 58.27963638305664, 24.672420501708984, 55.31843948364258, 20.730674743652344, 100.91252136230469, 1398.9385986328125, 224.39041137695312, 173.39260864257812, 229.3543701171875, 226.29710388183594, 153.0731201171875, 134.518798828125, 582.0060424804688, 226.5604705810547, 524.5172729492188, 126.69297790527344, 2957.3125, 149.45338439941406, 318.3729248046875, 281.37420654296875, 664.4827270507812, 181.54962158203125, 225.50721740722656, 358.20257568359375, 174.7881622314453, 589.307861328125, 566.8718872070312, 568.5266723632812, 352.93585205078125, 729.6931762695312, 1033.6492919921875, 383.8211975097656, 1636.661865234375, 2036.322021484375, 1569.4996337890625, 952.2510375976562, 2424.2744140625, 2273.106689453125, 1671.714111328125, 1695.4073486328125, 891.6941528320312, 717.23388671875, 249.64410400390625, 167.7581329345703, 150.77769470214844, 110.83636474609375, 75.88582611083984, 61.90637969970703, 58.90569305419922, 54.90519714355469, 52.9161376953125, 50.92133712768555, 39.93423843383789, 37.93825912475586, 34.94146728515625, 34.93817138671875, 32.94087600708008, 31.944116592407227, 29.93499755859375, 25.953067779541016, 70.86579895019531, 19.964548110961914, 18.955890655517578, 16.970108032226562, 36.92667770385742, 40.903621673583984, 56.84514236450195, 247.26846313476562, 54.83604431152344, 51.91971206665039, 248.2340545654297, 374.9223327636719, 248.42303466796875, 1126.677978515625, 417.1730651855469, 126.58649444580078, 73.86943054199219, 85.77015686035156, 400.7283630371094, 83.70250701904297, 592.989013671875, 149.31858825683594, 143.53079223632812, 388.68701171875, 165.10067749023438, 898.4949951171875, 953.3075561523438, 230.5303955078125, 109.84093475341797, 196.6472625732422, 152.07228088378906, 286.1397399902344, 244.31832885742188, 1671.714111328125, 2957.3125, 283.7904357910156, 411.247314453125, 331.94586181640625, 2424.2744140625, 563.9928588867188, 749.1968383789062, 771.1265869140625, 2036.322021484375, 2273.106689453125, 685.195068359375, 1208.5047607421875, 991.019287109375, 104.66680145263672, 76.75250244140625, 63.79457092285156, 58.805259704589844, 47.84062194824219, 45.84885025024414, 44.85081481933594, 38.86866760253906, 32.889251708984375, 26.90386962890625, 25.914030075073242, 24.91387939453125, 22.91728973388672, 21.924470901489258, 19.931970596313477, 19.928926467895508, 17.939525604248047, 17.938880920410156, 17.9390811920166, 17.929584503173828, 16.94036865234375, 51.81220626831055, 15.945752143859863, 23.888139724731445, 16.946367263793945, 25.88273811340332, 210.10780334472656, 20.906965255737305, 164.29141235351562, 31.849124908447266, 65.74717712402344, 312.6053771972656, 378.2257080078125, 81.60218048095703, 235.63021850585938, 61.695404052734375, 45.778316497802734, 510.54473876953125, 1956.2646484375, 184.90054321289062, 325.420166015625, 547.7534790039062, 198.22984313964844, 138.58428955078125, 186.9727020263672, 952.2510375976562, 261.2051696777344, 132.1238555908203, 170.8097381591797, 844.6573486328125, 685.195068359375, 729.6931762695312, 1715.907958984375, 518.1656494140625, 1695.4073486328125, 214.94834899902344, 449.60260009765625, 1773.77978515625, 2036.322021484375, 2424.2744140625, 717.23388671875, 588.1343994140625, 2957.3125, 318.4100341796875, 1636.661865234375, 613.5083618164062, 2273.106689453125, 589.307861328125, 744.0682983398438, 309.0240478515625, 266.0198974609375, 152.00428771972656, 151.00827026367188, 140.00746154785156, 116.00360870361328, 97.99952697753906, 109.001953125, 85.00098419189453, 82.99226379394531, 79.99993133544922, 72.99983978271484, 62.99775695800781, 49.994163513183594, 49.9941291809082, 48.99406051635742, 37.995460510253906, 259.09295654296875, 26.994585037231445, 26.98664093017578, 26.96245765686035, 25.990673065185547, 23.99470329284668, 22.992488861083984, 560.39794921875, 245.85214233398438, 72.03771209716797, 67.98313903808594, 98.9774398803711, 398.97412109375, 130.854736328125, 382.5890197753906, 1533.70751953125, 61.034488677978516, 112.16748046875, 118.0616683959961, 275.9102478027344, 553.1276245117188, 179.9285888671875, 184.8372344970703, 664.4827270507812, 109.96249389648438, 182.20794677734375, 200.2716827392578, 749.1968383789062, 568.5266723632812, 1671.714111328125, 1773.77978515625, 2424.2744140625, 667.1002197265625, 2273.106689453125, 901.72802734375, 2957.3125, 420.0756530761719, 1126.677978515625, 563.9928588867188, 331.94586181640625, 1636.661865234375, 1715.907958984375, 338.58349609375, 216.2748565673828, 155.6375274658203, 133.39952087402344, 105.09500885009766, 71.74639129638672, 49.507545471191406, 36.36695861816406, 32.32500457763672, 29.29213523864746, 32.31843566894531, 24.2360782623291, 24.2353572845459, 23.221675872802734, 337.3935241699219, 20.18562889099121, 27.237783432006836, 43.3533821105957, 31.251497268676758, 205.5747833251953, 127.87244415283203, 27.181228637695312, 148.31277465820312, 73.58526611328125, 30.193952560424805, 27.201828002929688, 42.27168655395508, 23.108606338500977, 145.6778564453125, 25.16962432861328, 153.04493713378906, 64.4529800415039, 381.28533935546875, 61.43653106689453, 270.2701721191406, 56.24003601074219, 188.0992889404297, 251.21987915039062, 731.5230712890625, 118.31369018554688, 71.18079376220703, 229.68795776367188, 152.57086181640625, 1636.661865234375, 197.20443725585938, 2273.106689453125, 1715.907958984375, 282.2235107421875, 1533.70751953125, 267.8009033203125, 664.969970703125, 549.195068359375, 815.4703369140625, 589.307861328125, 2424.2744140625, 2036.322021484375, 735.8719482421875], \"loglift\": [30.0, 29.0, 28.0, 27.0, 26.0, 25.0, 24.0, 23.0, 22.0, 21.0, 20.0, 19.0, 18.0, 17.0, 16.0, 15.0, 14.0, 13.0, 12.0, 11.0, 10.0, 9.0, 8.0, 7.0, 6.0, 5.0, 4.0, 3.0, 2.0, 1.0, 1.5362999439239502, 1.534600019454956, 1.5331000089645386, 1.5322999954223633, 1.5321999788284302, 1.5321999788284302, 1.532099962234497, 1.5318000316619873, 1.531000018119812, 1.5306999683380127, 1.5300999879837036, 1.5291999578475952, 1.5290000438690186, 1.5286999940872192, 1.528499960899353, 1.52839994430542, 1.5276999473571777, 1.5276000499725342, 1.5276000499725342, 1.5273000001907349, 1.5269999504089355, 1.5255000591278076, 1.5252000093460083, 1.524999976158142, 1.5245000123977661, 1.523900032043457, 1.5235999822616577, 1.5230000019073486, 1.5226999521255493, 1.5226000547409058, 1.5145000219345093, 1.5081000328063965, 1.499899983406067, 1.5042999982833862, 1.4810999631881714, 1.5092999935150146, 1.5175000429153442, 1.488700032234192, 1.4641000032424927, 1.4118000268936157, 1.419800043106079, 1.4852999448776245, 1.4890999794006348, 1.3849999904632568, 1.4833999872207642, 1.378000020980835, 1.3503999710083008, 1.44159996509552, 1.361199975013733, 1.2721999883651733, 1.3598999977111816, 1.3832999467849731, 1.1588000059127808, 1.086400032043457, 1.0634000301361084, 1.1825000047683716, 1.0371999740600586, 0.9240000247955322, 0.7990000247955322, 0.8675000071525574, 1.0844999551773071, 0.6294999718666077, 0.304500013589859, 0.2928999960422516, 0.32519999146461487, 1.000100016593933, 0.008200000040233135, 0.7102000117301941, 0.26460000872612, 0.7889999747276306, 1.5572999715805054, 1.548200011253357, 1.5462000370025635, 1.5460000038146973, 1.5458999872207642, 1.5449999570846558, 1.5440000295639038, 1.5420000553131104, 1.541100025177002, 1.5405999422073364, 1.5405999422073364, 1.5400999784469604, 1.5384000539779663, 1.5384000539779663, 1.537500023841858, 1.534000039100647, 1.5336999893188477, 1.5321999788284302, 1.5312999486923218, 1.5311000347137451, 1.5299999713897705, 1.5247000455856323, 1.5231000185012817, 1.5226000547409058, 1.5194000005722046, 1.5189000368118286, 1.5168999433517456, 1.514799952507019, 1.5120999813079834, 1.5118000507354736, 1.5083999633789062, 1.4910999536514282, 1.4922000169754028, 1.5074000358581543, 1.49399995803833, 1.4394999742507935, 1.4257999658584595, 1.4778000116348267, 1.413100004196167, 1.4336999654769897, 1.447700023651123, 1.4228999614715576, 1.4463000297546387, 1.292799949645996, 1.2395000457763672, 1.3207000494003296, 1.4422999620437622, 1.2559000253677368, 1.4263999462127686, 1.2144999504089355, 1.2015999555587769, 0.9745000004768372, 1.2102999687194824, 1.2656999826431274, 1.1131999492645264, 1.3141000270843506, 1.0870000123977661, 0.8033999800682068, 0.8162999749183655, 1.0220999717712402, 0.9017999768257141, 0.839900016784668, 0.685699999332428, 1.044600009918213, 1.0398999452590942, 0.9789999723434448, 0.8507000207901001, 0.5968000292778015, 0.5896000266075134, 0.08879999816417694, -0.006800000090152025, -0.24809999763965607, 0.5080000162124634, -0.7236999869346619, -0.5898000001907349, 1.8178000450134277, 1.8034000396728516, 1.8006999492645264, 1.799299955368042, 1.799299955368042, 1.7963000535964966, 1.794100046157837, 1.791700005531311, 1.7907999753952026, 1.7903000116348267, 1.788599967956543, 1.787500023841858, 1.7817000150680542, 1.781599998474121, 1.7812999486923218, 1.7783000469207764, 1.777500033378601, 1.770799994468689, 1.767899990081787, 1.766700029373169, 1.7663999795913696, 1.7657999992370605, 1.7653000354766846, 1.764299988746643, 1.7515000104904175, 1.7467000484466553, 1.742300033569336, 1.7324999570846558, 1.7245999574661255, 1.7073999643325806, 1.6685999631881714, 1.638100028038025, 1.6466000080108643, 1.6297999620437622, 1.6051000356674194, 1.6275999546051025, 1.6031999588012695, 1.4299999475479126, 1.523300051689148, 1.3937000036239624, 1.5536999702453613, 1.066499948501587, 1.5059000253677368, 1.361899971961975, 1.3595999479293823, 1.1482000350952148, 1.4529999494552612, 1.3779000043869019, 1.226099967956543, 1.4270000457763672, 1.0789999961853027, 1.047700047492981, 1.0467000007629395, 1.1934000253677368, 0.9139999747276306, 0.6960999965667725, 1.1311999559402466, 0.4171000123023987, 0.25290000438690186, 0.36739999055862427, 0.6000000238418579, 0.012000000104308128, 0.010499999858438969, 0.18950000405311584, 0.002899999963119626, 0.4771000146865845, 0.5830000042915344, 2.075900077819824, 2.074199914932251, 2.073699951171875, 2.0715999603271484, 2.068000078201294, 2.065500020980835, 2.06469988822937, 2.0636000633239746, 2.0631000995635986, 2.0624001026153564, 2.0576999187469482, 2.0566000938415527, 2.0546000003814697, 2.054500102996826, 2.053100109100342, 2.052299976348877, 2.050299882888794, 2.0459001064300537, 2.0452001094818115, 2.0357000827789307, 2.0332000255584717, 2.0278000831604004, 2.0176000595092773, 2.0058999061584473, 1.9710999727249146, 1.9601000547409058, 1.957800030708313, 1.9537999629974365, 1.9505000114440918, 1.94760000705719, 1.9426000118255615, 1.895300030708313, 1.9072999954223633, 1.9175000190734863, 1.934999942779541, 1.9155999422073364, 1.7443000078201294, 1.9147000312805176, 1.6562999486923218, 1.8212000131607056, 1.8207999467849731, 1.6612000465393066, 1.763700008392334, 1.4101999998092651, 1.3961000442504883, 1.6886999607086182, 1.8147000074386597, 1.5793999433517456, 1.6653000116348267, 1.3765000104904175, 1.4427000284194946, 0.5371000170707703, 0.23520000278949738, 1.3248000144958496, 1.1261999607086182, 1.1670000553131104, -0.11050000041723251, 0.784500002861023, 0.580299973487854, 0.4262999892234802, -0.40959998965263367, -0.5631999969482422, 0.4878999888896942, -0.04439999908208847, 0.13600000739097595, 2.134500026702881, 2.1308999061584473, 2.129199981689453, 2.128000020980835, 2.1247000694274902, 2.1238999366760254, 2.123500108718872, 2.120500087738037, 2.1164000034332275, 2.1103999614715576, 2.1092000007629395, 2.1073999404907227, 2.1047000885009766, 2.1029999256134033, 2.0989999771118164, 2.098900079727173, 2.0940001010894775, 2.0940001010894775, 2.0940001010894775, 2.093899965286255, 2.0910000801086426, 2.0899999141693115, 2.0876998901367188, 2.049499988555908, 2.02620005607605, 2.0257999897003174, 2.02239990234375, 2.0216000080108643, 2.020400047302246, 2.0120999813079834, 1.993899941444397, 1.9401999711990356, 1.850100040435791, 1.9536000490188599, 1.8194999694824219, 1.9460999965667725, 1.9788000583648682, 1.6644999980926514, 1.4458999633789062, 1.7760000228881836, 1.69159996509552, 1.589400053024292, 1.732100009918213, 1.783400058746338, 1.6734999418258667, 1.2984999418258667, 1.5789999961853027, 1.7077000141143799, 1.6394000053405762, 1.1750999689102173, 1.1931999921798706, 1.1679999828338623, 0.6575000286102295, 1.0880999565124512, 0.555899977684021, 1.4383000135421753, 1.0821000337600708, 0.414900004863739, 0.3449000120162964, 0.12200000137090683, 0.7710999846458435, 0.8687999844551086, -0.16089999675750732, 1.2170000076293945, -0.02669999934732914, 0.6909999847412109, -0.48170000314712524, 0.6134999990463257, 2.2383999824523926, 2.236999988555908, 2.2365000247955322, 2.234100103378296, 2.234100103378296, 2.233599901199341, 2.2323999404907227, 2.2309999465942383, 2.22979998588562, 2.2297000885009766, 2.229099988937378, 2.2290000915527344, 2.2279999256134033, 2.226099967956543, 2.2225000858306885, 2.2225000858306885, 2.2221999168395996, 2.2170000076293945, 2.208400011062622, 2.20770001411438, 2.2076001167297363, 2.20740008354187, 2.206399917602539, 2.2035999298095703, 2.201900005340576, 2.1763999462127686, 2.170099973678589, 2.1638998985290527, 2.160399913787842, 2.15339994430542, 2.1342999935150146, 2.14490008354187, 2.0796000957489014, 2.0081000328063965, 2.146199941635132, 2.080399990081787, 2.0694000720977783, 1.9352999925613403, 1.7877999544143677, 1.9572999477386475, 1.8634999990463257, 1.4844000339508057, 2.002700090408325, 1.7855000495910645, 1.6991000175476074, 1.0221999883651733, 1.152999997138977, 0.5590000152587891, 0.4887000024318695, 0.2669999897480011, 1.0262999534606934, 0.2874999940395355, 0.7401000261306763, -0.046799998730421066, 1.2339999675750732, 0.4424000084400177, 0.9466000199317932, 1.3194999694824219, -0.24300000071525574, -0.2919999957084656, 2.732100009918213, 2.72979998588562, 2.729300022125244, 2.728300094604492, 2.725800037384033, 2.7228000164031982, 2.717400074005127, 2.7111001014709473, 2.7081000804901123, 2.7053000926971436, 2.7044999599456787, 2.6989998817443848, 2.6974000930786133, 2.6974000930786133, 2.6933000087738037, 2.691499948501587, 2.6598000526428223, 2.638400077819824, 2.6373000144958496, 2.5875000953674316, 2.575900077819824, 2.566499948501587, 2.5597000122070312, 2.5473999977111816, 2.5155999660491943, 2.4969000816345215, 2.4872000217437744, 2.4732000827789307, 2.4728000164031982, 2.4714999198913574, 2.4237000942230225, 2.4484000205993652, 2.3649001121520996, 2.448199987411499, 2.2500998973846436, 2.452399969100952, 2.2564001083374023, 2.1793999671936035, 1.923799991607666, 2.3006999492645264, 2.353300094604492, 1.8898999691009521, 2.0048000812530518, 0.7235000133514404, 1.7977999448776245, 0.4275999963283539, 0.5766000151634216, 1.5494999885559082, 0.531000018119812, 1.523800015449524, 0.9261000156402588, 0.9465000033378601, 0.5907999873161316, 0.853600025177002, -0.3580000102519989, -0.40119999647140503, 0.5472999811172485], \"logprob\": [30.0, 29.0, 28.0, 27.0, 26.0, 25.0, 24.0, 23.0, 22.0, 21.0, 20.0, 19.0, 18.0, 17.0, 16.0, 15.0, 14.0, 13.0, 12.0, 11.0, 10.0, 9.0, 8.0, 7.0, 6.0, 5.0, 4.0, 3.0, 2.0, 1.0, -5.137199878692627, -5.532100200653076, -5.781400203704834, -5.8892998695373535, -5.898099899291992, -5.898099899291992, -5.915900230407715, -5.952600002288818, -6.050600051879883, -6.081999778747559, -6.147799968719482, -6.230599880218506, -6.255499839782715, -6.2683000564575195, -6.2941999435424805, -6.307400226593018, -6.362199783325195, -6.376200199127197, -6.376200199127197, -6.3907999992370605, -6.348999977111816, -6.530099868774414, -6.546999931335449, -6.1641998291015625, -6.598899841308594, -6.635200023651123, -6.653900146484375, -6.692200183868408, -6.711900234222412, -6.712100028991699, -5.53380012512207, -4.971099853515625, -4.282599925994873, -4.803800106048584, -3.902400016784668, -5.532899856567383, -6.0640997886657715, -5.2972002029418945, -4.628499984741211, -3.642400026321411, -4.130499839782715, -5.396999835968018, -5.672399997711182, -4.48769998550415, -5.719099998474121, -4.8649001121521, -4.759799957275391, -5.503399848937988, -5.254000186920166, -4.823599815368652, -5.323699951171875, -5.448299884796143, -4.5945000648498535, -4.5218000411987305, -4.585000038146973, -4.996099948883057, -4.707200050354004, -4.523499965667725, -4.492400169372559, -4.688700199127197, -5.045199871063232, -4.432400226593018, -4.053500175476074, -4.129499912261963, -4.345300197601318, -5.090000152587891, -4.721499919891357, -5.106100082397461, -4.98799991607666, -5.218800067901611, -5.274099826812744, -6.396500110626221, -6.557600021362305, -6.490900039672852, -6.592899799346924, -6.648799896240234, -6.708099842071533, -6.815400123596191, -6.861700057983398, -6.885799884796143, -6.885799884796143, -6.9105000495910645, -6.9882001876831055, -6.9882001876831055, -6.989200115203857, -7.164299964904785, -6.381800174713135, -7.230899810791016, -6.4899001121521, -7.2657999992370605, -7.30210018157959, -7.461400032043457, -7.5055999755859375, -7.506199836730957, -7.600200176239014, -5.065100193023682, -6.885900020599365, -7.7052001953125, -7.761899948120117, -7.7631001472473145, -3.6152000427246094, -4.270999908447266, -4.428299903869629, -6.451099872589111, -5.942200183868408, -4.243800163269043, -4.52370023727417, -6.003399848937988, -4.854700088500977, -5.381700038909912, -5.679200172424316, -5.320899963378906, -5.826900005340576, -4.13640022277832, -3.553299903869629, -4.7657999992370605, -5.951099872589111, -4.6203999519348145, -6.018400192260742, -4.479599952697754, -4.651599884033203, -3.7411999702453613, -4.966000080108643, -5.295499801635742, -4.618899822235107, -5.545000076293945, -4.6641998291015625, -3.7690999507904053, -3.8873000144958496, -4.588200092315674, -4.308599948883057, -4.2220001220703125, -3.8468000888824463, -4.880799770355225, -4.9608001708984375, -5.132599830627441, -4.992199897766113, -4.76140022277832, -4.757400035858154, -4.662099838256836, -4.677299976348877, -4.670499801635742, -4.904399871826172, -4.882999897003174, -4.947800159454346, -4.380199909210205, -4.540500164031982, -6.55679988861084, -6.603700160980225, -6.627099990844727, -5.91349983215332, -4.910200119018555, -6.938399791717529, -6.972400188446045, -6.502799987792969, -7.043499946594238, -7.080900192260742, -7.2469000816345215, -7.247200012207031, -7.247399806976318, -4.695499897003174, -7.342400074005127, -7.502799987792969, -7.56279993057251, -4.2195000648498535, -7.565299987792969, -4.8531999588012695, -5.335700035095215, -7.627500057220459, -6.605400085449219, -6.339300155639648, -7.203400135040283, -6.405700206756592, -7.395100116729736, -5.829699993133545, -3.2392001152038574, -5.099800109863281, -5.3491997718811035, -5.086299896240234, -5.1244001388549805, -5.492800235748291, -5.646399974822998, -4.354899883270264, -5.204999923706055, -4.495200157165527, -5.755799770355225, -3.0927999019622803, -5.638500213623047, -5.026199817657471, -5.152100086212158, -4.5040998458862305, -5.496799945831299, -5.355100154876709, -5.044099807739258, -5.560800075531006, -4.693399906158447, -4.763500213623047, -4.761600017547607, -5.091700077056885, -4.644700050354004, -4.514400005340576, -5.070000171661377, -4.333799839019775, -4.2795000076293945, -4.4253997802734375, -4.692500114440918, -4.3460001945495605, -4.411900043487549, -4.540299892425537, -4.712699890136719, -4.881100177764893, -4.9928998947143555, -4.5553998947143555, -4.954599857330322, -5.0619001388549805, -5.371699810028076, -5.7540998458862305, -5.96019983291626, -6.010700225830078, -6.082099914550781, -6.11959981918335, -6.158599853515625, -6.406400203704834, -6.458799839019775, -6.543099880218506, -6.5432000160217285, -6.603600025177002, -6.6350998878479, -6.702000141143799, -6.849100112915039, -5.845300197601318, -7.121699810028076, -7.176000118255615, -7.292099952697754, -6.524799823760986, -6.434199810028076, -6.139900207519531, -4.680699825286865, -6.189199924468994, -6.247799873352051, -4.686399936676025, -4.2769999504089355, -4.693600177764893, -3.2290000915527344, -4.2104997634887695, -5.392899990081787, -5.914000034332275, -5.78410005569458, -4.413700103759766, -5.809299945831299, -4.109799861907959, -5.324100017547607, -5.363900184631348, -4.527299880981445, -5.281099796295166, -3.9403998851776123, -3.8952999114990234, -5.022299766540527, -5.637599945068359, -5.290599822998047, -5.461699962615967, -5.1184000968933105, -5.21019983291626, -4.192599773406982, -3.924099922180176, -5.178299903869629, -5.005899906158447, -5.1793999671936035, -4.468599796295166, -5.031799793243408, -4.952000141143799, -5.077099800109863, -4.941999912261963, -4.985599994659424, -5.133699893951416, -5.098499774932861, -5.116600036621094, -5.366099834442139, -5.679900169372559, -5.866399765014648, -5.949100017547607, -6.15880012512207, -6.202099800109863, -6.2245001792907715, -6.370699882507324, -6.541800022125244, -6.748700141906738, -6.787300109863281, -6.828499794006348, -6.914700031280518, -6.9608001708984375, -7.060100078582764, -7.060200214385986, -7.170300006866455, -7.170400142669678, -7.170400142669678, -7.171000003814697, -7.230599880218506, -6.113699913024902, -7.294400215148926, -6.928500175476074, -7.295000076293945, -6.872000217437744, -4.781300067901611, -7.089700222015381, -5.029300212860107, -6.678199768066406, -5.971700191497803, -4.46619987487793, -4.365799903869629, -5.79580020904541, -4.86959981918335, -6.083000183105469, -6.348700046539307, -4.251399993896484, -3.126699924468994, -5.1554999351501465, -4.674600124359131, -4.256100177764893, -5.129799842834473, -5.436500072479248, -5.2469000816345215, -3.99399995803833, -5.006999969482422, -5.559899806976318, -5.371399879455566, -4.237299919128418, -4.428400039672852, -4.390699863433838, -4.046199798583984, -4.812900066375732, -4.159800052642822, -5.342599868774414, -4.960899829864502, -4.2555999755859375, -4.1875, -4.236000061035156, -4.804900169372559, -4.905600070953369, -4.320199966430664, -5.171000003814697, -4.777699947357178, -5.041200160980225, -4.904099941253662, -5.158899784088135, -3.300800085067749, -4.1809000968933105, -4.331200122833252, -4.8933000564575195, -4.899899959564209, -4.97599983215332, -5.165299892425537, -5.335400104522705, -5.230199813842773, -5.479000091552734, -5.503499984741211, -5.540299892425537, -5.632900238037109, -5.782100200653076, -6.016900062561035, -6.016900062561035, -6.037499904632568, -6.296800136566162, -4.385700225830078, -6.6479997634887695, -6.648399829864502, -6.649499893188477, -6.68720006942749, -6.769899845123291, -6.814199924468994, -3.6463000774383545, -4.476500034332275, -5.71019983291626, -5.771699905395508, -5.40310001373291, -4.02810001373291, -5.132400035858154, -4.124800205230713, -2.807800054550171, -5.893700122833252, -5.35099983215332, -5.310699939727783, -4.5960001945495605, -4.047999858856201, -5.001500129699707, -5.068299770355225, -4.168000221252441, -5.448400020599365, -5.160699844360352, -5.152500152587891, -4.510200023651123, -4.655300140380859, -4.1707000732421875, -4.18179988861084, -4.091100215911865, -4.622099876403809, -4.135000228881836, -4.606900215148926, -4.206099987030029, -4.8769001960754395, -4.6819000244140625, -4.86959981918335, -5.026899814605713, -4.993899822235107, -4.99560022354126, -3.5945000648498535, -4.045000076293945, -4.374499797821045, -4.529600143432617, -4.770699977874756, -5.155399799346924, -5.531799793243408, -5.84660005569458, -5.967400074005127, -6.06879997253418, -5.971199989318848, -6.264500141143799, -6.26609992980957, -6.308899879455566, -3.636699914932251, -6.454899787902832, -6.1869001388549805, -5.743599891662598, -6.071899890899658, -4.23799991607666, -4.724400043487549, -6.282400131225586, -4.592299938201904, -5.305500030517578, -6.228099822998047, -6.351099967956543, -5.920000076293945, -6.537899971008301, -4.6971001625061035, -6.45419979095459, -4.696899890899658, -5.5370001792907715, -3.842900037765503, -5.585100173950195, -4.301799774169922, -5.669300079345703, -4.657899856567383, -4.4456000328063965, -3.6324000358581543, -5.077300071716309, -5.532800197601318, -4.824699878692627, -5.118899822235107, -4.027400016784668, -5.069300174713135, -3.994800090789795, -4.126999855041504, -4.959099769592285, -4.284900188446045, -5.037300109863281, -4.725500106811523, -4.896399974822998, -4.856800079345703, -4.918799877166748, -4.716100215911865, -4.933700084686279, -5.002999782562256]}, \"token.table\": {\"Topic\": [1, 2, 3, 5, 1, 3, 4, 5, 7, 1, 2, 3, 4, 5, 1, 3, 4, 5, 6, 7, 7, 7, 1, 4, 3, 4, 5, 6, 5, 2, 2, 1, 2, 4, 6, 1, 2, 3, 4, 5, 6, 7, 2, 3, 7, 1, 2, 3, 4, 6, 7, 5, 6, 7, 5, 4, 3, 1, 4, 5, 2, 3, 5, 1, 2, 3, 5, 6, 7, 2, 6, 2, 3, 5, 7, 1, 1, 4, 5, 1, 4, 1, 2, 4, 6, 7, 2, 3, 4, 5, 6, 7, 4, 1, 6, 5, 2, 1, 2, 3, 6, 7, 1, 7, 1, 1, 4, 5, 1, 2, 3, 4, 5, 1, 4, 2, 2, 3, 6, 7, 2, 3, 7, 6, 6, 6, 2, 7, 3, 4, 6, 4, 1, 7, 3, 6, 7, 2, 4, 2, 5, 2, 4, 2, 3, 4, 5, 6, 7, 1, 2, 3, 4, 5, 7, 3, 1, 2, 4, 5, 6, 7, 1, 2, 3, 4, 5, 6, 7, 1, 2, 3, 4, 5, 6, 7, 3, 1, 2, 3, 4, 5, 6, 7, 1, 4, 5, 6, 1, 4, 7, 1, 2, 4, 1, 7, 1, 2, 3, 4, 5, 6, 7, 1, 2, 3, 4, 5, 6, 7, 1, 2, 3, 4, 5, 6, 7, 1, 1, 4, 1, 3, 4, 5, 6, 7, 2, 7, 5, 2, 3, 4, 5, 6, 7, 2, 3, 5, 6, 7, 5, 5, 7, 4, 6, 2, 3, 4, 7, 2, 7, 2, 3, 7, 2, 2, 3, 2, 3, 4, 5, 6, 1, 2, 5, 6, 7, 2, 3, 5, 6, 7, 2, 3, 5, 7, 2, 3, 5, 3, 1, 2, 3, 4, 5, 6, 7, 5, 5, 6, 1, 2, 4, 6, 7, 2, 3, 6, 4, 1, 3, 3, 5, 1, 4, 6, 1, 4, 6, 3, 4, 5, 6, 4, 6, 4, 1, 3, 4, 6, 7, 6, 6, 6, 6, 7, 6, 1, 4, 1, 4, 5, 4, 2, 4, 7, 1, 3, 4, 2, 4, 2, 3, 4, 1, 5, 3, 4, 5, 7, 3, 4, 2, 3, 5, 1, 4, 7, 5, 1, 1, 5, 5, 1, 2, 5, 7, 4, 2, 3, 4, 6, 7, 1, 7, 1, 5, 7, 1, 4, 7, 1, 7, 1, 4, 7, 1, 4, 6, 1, 2, 6, 7, 4, 5, 6, 2, 4, 5, 7, 5, 6, 1, 4, 4, 5, 1, 2, 7, 1, 3, 5, 1, 2, 3, 4, 5, 6, 7, 3, 1, 3, 4, 7, 2, 1, 4, 5, 4, 1, 4, 5, 6, 2, 1, 4, 1, 2, 3, 5, 4, 1, 4, 2, 3, 5, 2, 3, 5, 6, 7, 1, 2, 3, 4, 5, 6, 7, 1, 2, 3, 4, 5, 6, 7, 1, 2, 3, 4, 5, 6, 7, 2, 3, 5, 7, 1, 2, 3, 4, 5, 6, 4, 7, 2, 3, 5, 2, 5, 1, 2, 3, 4, 6, 7, 1, 2, 3, 4, 5, 6, 7, 2, 3, 5, 1, 6, 2, 4, 2, 3, 6, 7, 5, 1, 2, 3, 5, 6, 2, 6, 7, 1, 4, 6, 2, 2, 3, 4, 5, 7, 1, 3, 1, 4, 6, 6, 1, 1, 4, 5, 5, 3, 4, 5, 7, 3, 3, 5, 2, 7, 1, 4, 7, 6, 1, 2, 3, 4, 5, 6, 1, 3, 4, 5, 5, 1, 4, 2, 3, 5, 6, 7, 3, 5, 6, 1, 2, 3, 4, 5, 6, 7, 1, 2, 2, 3, 4, 7, 2, 3, 5, 6, 7, 2, 6, 1, 3, 4, 5, 6, 7, 1, 4, 5, 1, 1, 2, 3, 4, 6, 7, 1, 1, 6, 2, 3, 7, 2, 2, 5, 7, 1, 2, 3, 7, 1, 2, 2, 3, 1, 3, 4, 1, 2, 3, 4, 5, 6, 7, 1, 2, 3, 4, 5, 6, 7, 3, 5, 1, 7, 1, 1, 2, 3, 4, 5, 6, 1, 6, 2, 3, 4, 5, 3, 3, 5, 7, 2, 3, 1, 2, 4, 5, 6, 5, 7, 2, 3, 4, 5, 6, 4, 6, 2, 3, 1, 1, 6, 7, 2, 3, 2, 1, 2, 3, 4, 5, 6, 7, 1, 2, 3, 4, 6, 7, 2, 3, 5, 1, 2, 5, 6, 7, 1, 2, 3, 4, 5, 6, 1, 4, 6, 1, 4, 6, 7, 3, 3, 2, 1, 2, 3, 4, 5, 6, 7, 2, 3, 5, 7, 3, 4, 2, 3, 7, 1, 3, 1, 3, 4, 7, 4, 1, 2, 3, 4, 5, 6, 7, 4, 6, 1, 6, 1, 4, 7, 2, 5, 4, 5, 2, 3, 5, 1, 6, 4, 2, 3, 5, 2, 5, 7, 4, 5, 6, 1, 2, 3, 7, 2, 3, 5, 2, 3, 1, 2, 3, 4, 5, 6, 7, 1, 5, 7, 1, 1, 2, 3, 5, 1, 2, 3, 4, 5, 2, 3, 7, 5, 7, 1, 1, 1, 1, 1, 1, 4, 2, 3, 2, 7, 1, 4, 5, 6, 3, 5, 2, 1, 3, 1, 3, 5, 1, 2, 3, 4, 5, 6, 7, 3, 4, 5, 1, 2, 3, 4, 6, 1, 2, 7, 5, 6, 3, 2, 6, 7, 2, 5, 6, 1, 2, 3, 5, 6, 7, 3, 4, 7, 3, 4, 1, 4, 3, 2, 7, 3, 4, 5, 6, 7, 5, 5, 1, 2, 4, 6, 1, 2, 3, 4, 5, 6, 7, 5, 1, 2, 3, 4, 5, 1, 1, 1, 2, 3, 4, 5, 6, 7, 4, 5, 7, 1, 2, 3, 4, 5, 1, 4, 5, 1, 4, 5, 7, 7, 2, 6, 7, 4, 6, 7, 1, 2, 4, 5, 7, 1, 7, 1, 2, 4, 7, 1, 2, 7, 7, 4, 2, 3, 4, 5, 7, 2, 1, 2, 4, 5, 7, 3, 7, 3, 6, 2, 5, 6, 2, 5, 4, 2, 5, 6, 3, 2, 3, 4, 5, 6, 1, 4, 6, 2, 7, 2, 5, 3, 4, 6, 6, 7, 1, 2, 3, 4, 5, 2, 4, 7, 1, 2, 3, 4, 5, 6, 2, 3, 5, 7, 1, 2, 3, 5, 1, 2, 4, 5, 6, 1, 6, 7, 4, 6, 7, 1, 4, 7, 1, 4, 4, 4, 1, 7, 7], \"Freq\": [0.006086745299398899, 0.03043372742831707, 0.07912769168615341, 0.8825780749320984, 0.022032544016838074, 0.6940251588821411, 0.06609763205051422, 0.055081360042095184, 0.15973594784736633, 0.023448418825864792, 0.2683541178703308, 0.5028383135795593, 0.04950221627950668, 0.15632279217243195, 0.06492198258638382, 0.06492198258638382, 0.02705082669854164, 0.048691488802433014, 0.6870909929275513, 0.10820330679416656, 0.9592048525810242, 0.9895807504653931, 0.2210039645433426, 0.7701653242111206, 0.06083911284804344, 0.07604889571666718, 0.8669573664665222, 0.9631561040878296, 0.9444894790649414, 0.9792246222496033, 0.9706839919090271, 0.28894561529159546, 0.20437616109848022, 0.46865567564964294, 0.031713541597127914, 0.21915987133979797, 0.29826492071151733, 0.1335708051919937, 0.1919269859790802, 0.03760731592774391, 0.0829954519867897, 0.03631050884723663, 0.009909573011100292, 0.8918615579605103, 0.0891861543059349, 0.02367100678384304, 0.49162858724594116, 0.1493094265460968, 0.060087937861680984, 0.10925079882144928, 0.16751788556575775, 0.19208821654319763, 0.6366352438926697, 0.16464704275131226, 0.9533880352973938, 0.9687657356262207, 0.953981876373291, 0.9432147145271301, 0.056362830102443695, 0.9810301065444946, 0.009518923237919807, 0.10470815002918243, 0.8852598667144775, 0.07143765687942505, 0.6230027675628662, 0.17942480742931366, 0.11130983382463455, 0.011629385873675346, 0.0033226816449314356, 0.9656240940093994, 0.023551806807518005, 0.03482986241579056, 0.38312849402427673, 0.15238064527511597, 0.43101954460144043, 0.9944130182266235, 0.9726799726486206, 0.024165961891412735, 0.9599738717079163, 0.028222357854247093, 0.959560215473175, 0.3552001416683197, 0.003700001398101449, 0.02220000885426998, 0.003700001398101449, 0.614200234413147, 0.5562084913253784, 0.16220290958881378, 0.03244058042764664, 0.20467057824134827, 0.031850751489400864, 0.012386403977870941, 0.9974198937416077, 0.9914911985397339, 0.9643037915229797, 0.9476282000541687, 0.9830943942070007, 0.08827665448188782, 0.04413832724094391, 0.7415238618850708, 0.05296599119901657, 0.07503515481948853, 0.8873826265335083, 0.11279135942459106, 0.9783071875572205, 0.43026283383369446, 0.16959264874458313, 0.3957161605358124, 0.08296965807676315, 0.01536475121974945, 0.0860426053404808, 0.1782311201095581, 0.636100709438324, 0.14336487650871277, 0.8482422232627869, 0.9766984581947327, 0.9863948225975037, 0.04883088171482086, 0.19532352685928345, 0.7487401962280273, 0.7431512475013733, 0.05975085496902466, 0.19419027864933014, 0.992804229259491, 0.9863035082817078, 0.9908079504966736, 0.9515263438224792, 0.04531078040599823, 0.018208147957921028, 0.7647421956062317, 0.2093936949968338, 0.9954807758331299, 0.5112378597259521, 0.4850205183029175, 0.9530876874923706, 0.9985642433166504, 0.9982766509056091, 0.9862101078033447, 0.9924540519714355, 0.2716120183467865, 0.7257133722305298, 0.9598394632339478, 0.9883268475532532, 0.008375149220228195, 0.5527598261833191, 0.14237754046916962, 0.2540462017059326, 0.0027917164843529463, 0.041875746101140976, 0.028847400099039078, 0.035635024309158325, 0.4768305718898773, 0.08823911100625992, 0.21720395982265472, 0.15272153913974762, 0.9792940616607666, 0.3736633062362671, 0.055604659020900726, 0.11120931804180145, 0.34697309136390686, 0.10231257230043411, 0.01334511861205101, 0.4724116921424866, 0.1460181623697281, 0.03650454059243202, 0.10521896928548813, 0.02362058497965336, 0.16749142110347748, 0.053683146834373474, 0.01143908966332674, 0.11439089477062225, 0.6520280838012695, 0.12201695144176483, 0.08007362484931946, 0.009532574564218521, 0.007626059465110302, 0.9754348397254944, 0.11547895520925522, 0.22912490367889404, 0.24562190473079681, 0.07759696990251541, 0.11425695568323135, 0.08370696753263474, 0.1338089406490326, 0.43617573380470276, 0.2730531096458435, 0.014184576459228992, 0.27482616901397705, 0.26201531291007996, 0.08452107012271881, 0.6508122682571411, 0.3712230622768402, 0.015255742706358433, 0.6051444411277771, 0.14076527953147888, 0.8524119257926941, 0.04497326537966728, 0.10178159922361374, 0.47069764137268066, 0.1582517921924591, 0.09975273162126541, 0.10178159922361374, 0.022993849590420723, 0.0481673926115036, 0.0481673926115036, 0.5355080962181091, 0.2493370920419693, 0.05950089916586876, 0.04250064119696617, 0.014166880398988724, 0.006852195132523775, 0.005481756292283535, 0.404279500246048, 0.06852195411920547, 0.376870721578598, 0.06441063433885574, 0.07263326644897461, 0.9866617918014526, 0.10941708087921143, 0.8935728669166565, 0.5828569531440735, 0.041965700685977936, 0.0932571142911911, 0.01865142397582531, 0.2471313625574112, 0.016319995746016502, 0.9926247000694275, 0.9897481203079224, 0.9476622343063354, 0.27896541357040405, 0.19487535953521729, 0.22290536761283875, 0.00533905066549778, 0.29631730914115906, 0.001334762666374445, 0.4687504768371582, 0.003578247968107462, 0.4983988106250763, 0.021980665624141693, 0.007667674217373133, 0.9863063097000122, 0.9633184671401978, 0.941263735294342, 0.058838117867708206, 0.9267003536224365, 0.007893097586929798, 0.7656304240226746, 0.22100672125816345, 0.007893097586929798, 0.11037028580904007, 0.8461722135543823, 0.0865478441119194, 0.0865478441119194, 0.7789305448532104, 0.9577634334564209, 0.3660605549812317, 0.632609486579895, 0.7852760553359985, 0.011616510339081287, 0.0929320827126503, 0.074345663189888, 0.03484952822327614, 0.03808837756514549, 0.4999099671840668, 0.06903518736362457, 0.3666006326675415, 0.026185760274529457, 0.5829936861991882, 0.20347057282924652, 0.16162201762199402, 0.004329161252826452, 0.04617771878838539, 0.7061663269996643, 0.0910169929265976, 0.17889545857906342, 0.021969618275761604, 0.6389480829238892, 0.1255076676607132, 0.23471562564373016, 0.956485390663147, 0.29080864787101746, 0.11632346361875534, 0.16417282819747925, 0.11178602278232574, 0.13241074979305267, 0.13901066780090332, 0.04537440091371536, 0.9875448346138, 0.981485903263092, 0.9875008463859558, 0.6055778861045837, 0.19305887818336487, 0.05775265768170357, 0.11220516264438629, 0.031351443380117416, 0.01805916056036949, 0.5101712942123413, 0.469538152217865, 0.9428343176841736, 0.9807147979736328, 0.011537821032106876, 0.9774907231330872, 0.011776996776461601, 0.9898729920387268, 0.8859833478927612, 0.09630253911018372, 0.10668876022100449, 0.8775150775909424, 0.016003314405679703, 0.08050782978534698, 0.8735100030899048, 0.008050783537328243, 0.04025391489267349, 0.9819066524505615, 0.9961661100387573, 0.9704447388648987, 0.6205964088439941, 0.0074951257556676865, 0.0014990251511335373, 0.2968069911003113, 0.07195320725440979, 0.9898006916046143, 0.9568341970443726, 0.9634396433830261, 0.9300684332847595, 0.06940808892250061, 0.9913484454154968, 0.11682523041963577, 0.8782034516334534, 0.023970866575837135, 0.8413774371147156, 0.13183976709842682, 0.9495729207992554, 0.9327283501625061, 0.009838906116783619, 0.055097877979278564, 0.03949868306517601, 0.11059631407260895, 0.8531715869903564, 0.9183409810066223, 0.07496660947799683, 0.8904673457145691, 0.045664992183446884, 0.06088665500283241, 0.09419411420822144, 0.8791450262069702, 0.2995089590549469, 0.02139349654316902, 0.6257597804069519, 0.04813537001609802, 0.9265671968460083, 0.05147595703601837, 0.04783095046877861, 0.04783095046877861, 0.9087880253791809, 0.04889542609453201, 0.9290130734443665, 0.9473907351493835, 0.9406893849372864, 0.9761832356452942, 0.041861776262521744, 0.9209591150283813, 0.9936292767524719, 0.08101573586463928, 0.5926940441131592, 0.21746329963207245, 0.10659965127706528, 0.973055899143219, 0.01397918350994587, 0.07339071482419968, 0.49626103043556213, 0.19570857286453247, 0.22017213702201843, 0.06399693340063095, 0.8959570527076721, 0.04731299355626106, 0.16559547185897827, 0.7806643843650818, 0.027179354801774025, 0.13589677214622498, 0.8289703130722046, 0.22652721405029297, 0.7688196301460266, 0.2701393663883209, 0.5279996991157532, 0.20055802166461945, 0.3267410397529602, 0.6586276292800903, 0.012863820418715477, 0.8573309779167175, 0.030015964061021805, 0.06565991789102554, 0.0468999445438385, 0.21675266325473785, 0.02223104238510132, 0.7558554410934448, 0.042398370802402496, 0.7268292307853699, 0.012113820761442184, 0.21804876625537872, 0.9532424211502075, 0.9933930039405823, 0.9701911807060242, 0.027523154392838478, 0.9948421120643616, 0.9481536149978638, 0.1600283533334732, 0.07112371176481247, 0.7467989325523376, 0.9863962531089783, 0.9219349026679993, 0.07230862230062485, 0.5407922267913818, 0.0956503227353096, 0.05273030698299408, 0.07970859855413437, 0.05518287792801857, 0.058861736208200455, 0.11772347241640091, 0.9650047421455383, 0.9473918080329895, 0.005148868542164564, 0.010297737084329128, 0.03604207932949066, 0.9887503385543823, 0.07036661356687546, 0.8971742987632751, 0.017591653391718864, 0.9714374542236328, 0.0650673434138298, 0.6767003536224365, 0.008675645105540752, 0.24291807413101196, 0.9646105170249939, 0.9655653834342957, 0.03189555183053017, 0.03535175696015358, 0.0441896952688694, 0.8086714148521423, 0.11047423630952835, 0.9731476902961731, 0.9724842309951782, 0.01823407970368862, 0.7796831130981445, 0.03018128126859665, 0.18611790239810944, 0.7644672393798828, 0.020466051995754242, 0.09269917756319046, 0.09269917756319046, 0.028893249109387398, 0.07850225269794464, 0.38129666447639465, 0.26130035519599915, 0.13681821525096893, 0.07513786852359772, 0.011214607395231724, 0.056073036044836044, 0.28727203607559204, 0.1636526733636856, 0.1636526733636856, 0.07126810401678085, 0.07258788496255875, 0.14209628105163574, 0.09942340105772018, 0.2676812708377838, 0.13835211098194122, 0.10526791214942932, 0.11880235373973846, 0.12181001156568527, 0.08271050453186035, 0.1639171689748764, 0.7244346737861633, 0.2338324785232544, 0.03822874277830124, 0.0025485828518867493, 0.10025914758443832, 0.007035729940980673, 0.46084028482437134, 0.0017589324852451682, 0.09146448969841003, 0.3377150297164917, 0.18381117284297943, 0.7720069289207458, 0.16407456994056702, 0.6429949402809143, 0.19068126380443573, 0.9780329465866089, 0.9664037227630615, 0.12249785661697388, 0.09737008810043335, 0.6313350796699524, 0.06281941384077072, 0.08480620384216309, 0.9970051050186157, 0.2577524483203888, 0.07538042962551117, 0.12644459307193756, 0.386628657579422, 0.017021387815475464, 0.09240181744098663, 0.04620090872049332, 0.0681179016828537, 0.28004026412963867, 0.6509044170379639, 0.9754944443702698, 0.9801150560379028, 0.9692858457565308, 0.014466953463852406, 0.9322229623794556, 0.06718724220991135, 0.15507766604423523, 0.8360709547996521, 0.9901957511901855, 0.009793461300432682, 0.0019586922135204077, 0.20762138068675995, 0.6189467310905457, 0.15865406394004822, 0.9903603792190552, 0.9386187195777893, 0.06067117303609848, 0.06534426659345627, 0.08102689683437347, 0.8520892858505249, 0.9746407270431519, 0.5166162252426147, 0.3250618875026703, 0.05611187592148781, 0.08223292231559753, 0.01934892311692238, 0.973858118057251, 0.010360192507505417, 0.9044413566589355, 0.0877033993601799, 0.958544909954071, 0.9882238507270813, 0.9776818752288818, 0.3287910223007202, 0.6641578674316406, 0.006575820501893759, 0.9729622602462769, 0.05408312752842903, 0.027041563764214516, 0.6922640800476074, 0.2271491438150406, 0.9690236449241638, 0.982718288898468, 0.015026274137198925, 0.981195330619812, 0.9558879733085632, 0.5223006010055542, 0.08113407343626022, 0.39045774936676025, 0.961883544921875, 0.7643997073173523, 0.025792628526687622, 0.060964394360780716, 0.044550903141498566, 0.01172392163425684, 0.09379137307405472, 0.6825544238090515, 0.10155078023672104, 0.1681414544582367, 0.04661347344517708, 0.9824286699295044, 0.9616475105285645, 0.03771166875958443, 0.015133947134017944, 0.1664734184741974, 0.6608490347862244, 0.09080368280410767, 0.06053578853607178, 0.802861750125885, 0.16354592144489288, 0.029735621064901352, 0.030938131734728813, 0.4164370894432068, 0.20870962738990784, 0.08299276977777481, 0.16549445688724518, 0.05205463618040085, 0.04321517050266266, 0.9885669350624084, 0.9568192958831787, 0.17116479575634003, 0.22291229665279388, 0.027864037081599236, 0.5732030272483826, 0.022874485701322556, 0.8592228293418884, 0.04717862606048584, 0.06504932045936584, 0.005003793630748987, 0.9981725215911865, 0.973800539970398, 0.059023015201091766, 0.0978095680475235, 0.6543123126029968, 0.11973240226507187, 0.059023015201091766, 0.008431859314441681, 0.47623664140701294, 0.5045590996742249, 0.017832649871706963, 0.9754138588905334, 0.8502762913703918, 0.0298819150775671, 0.016299227252602577, 0.04618114233016968, 0.013582688756287098, 0.04346460476517677, 0.9885804653167725, 0.981514036655426, 0.9801144003868103, 0.7040243148803711, 0.2389107644557953, 0.055915288627147675, 0.9887434840202332, 0.948140561580658, 0.02572130598127842, 0.02572130598127842, 0.0048150476068258286, 0.8811537027359009, 0.03852038085460663, 0.07222571223974228, 0.016080301254987717, 0.9648180603981018, 0.04748070240020752, 0.9456573128700256, 0.24029086530208588, 0.675102949142456, 0.08009696006774902, 0.03528134152293205, 0.07585488259792328, 0.4621855616569519, 0.21345211565494537, 0.12701281905174255, 0.0035281339660286903, 0.08467521518468857, 0.025203438475728035, 0.05355730652809143, 0.2950902581214905, 0.1302177608013153, 0.42950859665870667, 0.029404010623693466, 0.03570486977696419, 0.7293244004249573, 0.26764199137687683, 0.9431347250938416, 0.049638669937849045, 0.9874435067176819, 0.142824187874794, 0.028926417231559753, 0.05062123015522957, 0.13197676837444305, 0.009039505384862423, 0.6363811492919922, 0.26095443964004517, 0.7357465028762817, 0.3522135615348816, 0.03445567190647125, 0.04211248829960823, 0.5704328417778015, 0.9802451729774475, 0.9973245859146118, 0.8851454854011536, 0.059009697288274765, 0.037642158567905426, 0.9581640958786011, 0.03414858505129814, 0.8847587704658508, 0.015522083267569542, 0.03414858505129814, 0.031044166535139084, 0.2327277958393097, 0.7447289228439331, 0.1547897309064865, 0.0898779109120369, 0.0299593023955822, 0.14480330049991608, 0.5842064023017883, 0.20006822049617767, 0.7911788821220398, 0.0211041122674942, 0.9707891941070557, 0.9885439276695251, 0.9945490956306458, 0.9687642455101013, 0.02701733075082302, 0.8841250538825989, 0.10300485789775848, 0.9881804585456848, 0.20516164600849152, 0.37816280126571655, 0.04990418255329132, 0.007762872613966465, 0.06321196258068085, 0.22290535271167755, 0.07319279760122299, 0.08646130561828613, 0.6972092390060425, 0.02023562416434288, 0.01103761326521635, 0.12325335294008255, 0.06070687621831894, 0.019300471991300583, 0.019300471991300583, 0.9457231163978577, 0.6350252032279968, 0.24767422676086426, 0.03455919399857521, 0.010079764761030674, 0.07199832051992416, 0.4027501344680786, 0.48613524436950684, 0.04085870832204819, 0.01167391613125801, 0.05420032516121864, 0.0041692559607326984, 0.0017751301638782024, 0.8316484689712524, 0.1659746617078781, 0.16024436056613922, 0.7733532190322876, 0.02786858379840851, 0.034835729748010635, 0.9903218746185303, 0.9688689708709717, 0.9801800847053528, 0.055827364325523376, 0.10700245201587677, 0.11630701273679733, 0.11165472865104675, 0.4931417405605316, 0.055827364325523376, 0.06047964468598366, 0.26803845167160034, 0.6769689321517944, 0.027491124346852303, 0.025772929191589355, 0.9483257532119751, 0.051260851323604584, 0.15678781270980835, 0.823136031627655, 0.019598476588726044, 0.040531087666749954, 0.9322149753570557, 0.700498640537262, 0.050945356488227844, 0.20632869005203247, 0.040756285190582275, 0.9835134744644165, 0.2795102000236511, 0.18264023959636688, 0.15236838161945343, 0.1432868242263794, 0.12310557812452316, 0.10796964168548584, 0.011099683120846748, 0.07072318345308304, 0.9194014072418213, 0.9866496324539185, 0.9880439043045044, 0.8564424514770508, 0.11745496839284897, 0.024469785392284393, 0.9316958785057068, 0.06271030008792877, 0.8663935661315918, 0.1218365952372551, 0.8942504525184631, 0.072329081594944, 0.03287685662508011, 0.9491597414016724, 0.04675663635134697, 0.963277280330658, 0.04901829734444618, 0.1225457414984703, 0.8333110809326172, 0.9690356254577637, 0.19865214824676514, 0.7548781633377075, 0.947824239730835, 0.02708069235086441, 0.979710578918457, 0.07130429148674011, 0.03119562938809395, 0.8333689570426941, 0.0623912587761879, 0.02616039104759693, 0.8284123539924622, 0.143882155418396, 0.048237696290016174, 0.9165162444114685, 0.03859769552946091, 0.13123217225074768, 0.3300102949142456, 0.0405275821685791, 0.34930914640426636, 0.084914930164814, 0.027018386870622635, 0.09935764223337173, 0.09935764223337173, 0.7948611378669739, 0.9939767122268677, 0.992467999458313, 0.3746858835220337, 0.01756340079009533, 0.6030101180076599, 0.07154145836830139, 0.7361239790916443, 0.1750883162021637, 0.01129601988941431, 0.0037653399631381035, 0.5574283599853516, 0.42164453864097595, 0.0190573800355196, 0.03853067383170128, 0.9603029489517212, 0.9880892038345337, 0.988898754119873, 0.9820268750190735, 0.9964951276779175, 0.988811731338501, 0.8357020020484924, 0.16162161529064178, 0.8730800747871399, 0.1255938857793808, 0.9862979650497437, 0.9489983916282654, 0.835693895816803, 0.004220676142722368, 0.029544733464717865, 0.12662027776241302, 0.13106641173362732, 0.8519317507743835, 0.9768884778022766, 0.996711254119873, 0.9886922836303711, 0.9796215295791626, 0.162086620926857, 0.8266417980194092, 0.29654186964035034, 0.20859409868717194, 0.04792026802897453, 0.0541217140853405, 0.1775868684053421, 0.17364048957824707, 0.041155051440000534, 0.0816134661436081, 0.851111888885498, 0.05829533562064171, 0.6330782175064087, 0.08974672108888626, 0.03153263032436371, 0.1237049400806427, 0.12127935141324997, 0.12552562355995178, 0.8697132468223572, 0.9895967841148376, 0.9647283554077148, 0.9841620326042175, 0.9688364267349243, 0.04235074669122696, 0.8470149636268616, 0.11011194437742233, 0.040674854069948196, 0.020337427034974098, 0.9314541816711426, 0.05827818438410759, 0.4743844270706177, 0.045456983149051666, 0.22670213878154755, 0.07925833016633987, 0.11539080739021301, 0.9448264241218567, 0.022495867684483528, 0.022495867684483528, 0.9738971590995789, 0.021546397358179092, 0.9278433918952942, 0.07245124876499176, 0.9498568177223206, 0.03671370819211006, 0.9178426861763, 0.05020514130592346, 0.0006520148017443717, 0.045641034841537476, 0.7935020327568054, 0.1101905032992363, 0.9476516842842102, 0.9776512384414673, 0.021087776869535446, 0.17773982882499695, 0.4006677567958832, 0.3976552188396454, 0.22404703497886658, 0.026138821616768837, 0.2539199888706207, 0.014936469495296478, 0.16430115699768066, 0.018670586869120598, 0.29872938990592957, 0.9578338265419006, 0.0963229313492775, 0.10362012684345245, 0.2072402536869049, 0.20432138442993164, 0.3867511749267578, 0.9895979166030884, 0.9905187487602234, 0.09062594920396805, 0.15754972398281097, 0.2900030314922333, 0.07668349146842957, 0.2537526488304138, 0.1268763244152069, 0.004182735923677683, 0.30303144454956055, 0.07442877441644669, 0.6220118999481201, 0.23038525879383087, 0.08347292244434357, 0.14023450016975403, 0.5119672417640686, 0.03338916599750519, 0.1427718847990036, 0.11104480177164078, 0.7455865740776062, 0.6094460487365723, 0.07795239984989166, 0.0035432910080999136, 0.30472302436828613, 0.9490266442298889, 0.9892647862434387, 0.8558630347251892, 0.14264383912086487, 0.7161958813667297, 0.2520410418510437, 0.02994547225534916, 0.8278232216835022, 0.06184886023402214, 0.06184886023402214, 0.019030418246984482, 0.028545627370476723, 0.9529369473457336, 0.04764684662222862, 0.5098950862884521, 0.01913815177977085, 0.025973206385970116, 0.4442785382270813, 0.07228627800941467, 0.8764711022377014, 0.04517892375588417, 0.9899095892906189, 0.9516869783401489, 0.2788478136062622, 0.30435219407081604, 0.1088186651468277, 0.2805481255054474, 0.027204666286706924, 0.9780648946762085, 0.011139084585011005, 0.8632790446281433, 0.02227816917002201, 0.04455633834004402, 0.058480191975831985, 0.8420197367668152, 0.15571598708629608, 0.08406268060207367, 0.9094053506851196, 0.057726599276065826, 0.6999350190162659, 0.23812222480773926, 0.07727158069610596, 0.8886231184005737, 0.9826869964599609, 0.14715038239955902, 0.8157249093055725, 0.035188134759664536, 0.9768697023391724, 0.3492540419101715, 0.1325981467962265, 0.08642558008432388, 0.38003575801849365, 0.05090821906924248, 0.10919305682182312, 0.8856770396232605, 0.9966861605644226, 0.30685681104660034, 0.6897721290588379, 0.958979606628418, 0.03820635750889778, 0.9893752932548523, 0.9766055941581726, 0.9933230876922607, 0.9175140261650085, 0.08192089945077896, 0.10876408964395523, 0.5972137451171875, 0.23532593250274658, 0.039550576359033585, 0.019775288179516792, 0.9688822627067566, 0.9853588938713074, 0.9959037899971008, 0.2159460186958313, 0.12741413712501526, 0.19560760259628296, 0.21415144205093384, 0.06041703000664711, 0.1860366016626358, 0.08269497007131577, 0.02432204969227314, 0.029186459258198738, 0.8610005378723145, 0.023113971576094627, 0.012607620097696781, 0.9476727843284607, 0.016810160130262375, 0.9871020913124084, 0.3140098750591278, 0.058420442044734955, 0.5750762224197388, 0.05111788585782051, 0.2950234115123749, 0.014048733748495579, 0.688387930393219, 0.0977507010102272, 0.8998077511787415, 0.9590099453926086, 0.03920417279005051, 0.2286909967660904, 0.7318112254142761, 0.8795993328094482, 0.11998298019170761, 0.9752687811851501, 0.9846246838569641, 0.06919874995946884, 0.8995838165283203, 0.9941053986549377], \"Term\": [\"acceleration\", \"acceleration\", \"acceleration\", \"acceleration\", \"access\", \"access\", \"access\", \"access\", \"access\", \"action\", \"action\", \"action\", \"action\", \"action\", \"active\", \"active\", \"active\", \"active\", \"active\", \"active\", \"adhesive\", \"aerial\", \"aircraft\", \"aircraft\", \"algorithm\", \"algorithm\", \"algorithm\", \"amplifier\", \"analytics\", \"analyze\", \"analyzed\", \"angle\", \"angle\", \"angle\", \"angle\", \"apparatus\", \"apparatus\", \"apparatus\", \"apparatus\", \"apparatus\", \"apparatus\", \"apparatus\", \"approaching\", \"approaching\", \"approaching\", \"area\", \"area\", \"area\", \"area\", \"area\", \"area\", \"array\", \"array\", \"array\", \"artificial\", \"assembled\", \"assembling\", \"assembly\", \"assembly\", \"assessment\", \"assistance\", \"assistance\", \"assistance\", \"associated\", \"associated\", \"associated\", \"associated\", \"associated\", \"associated\", \"auto\", \"auto\", \"automated\", \"automated\", \"automated\", \"automated\", \"axis\", \"axle\", \"axle\", \"background\", \"barrier\", \"barrier\", \"base\", \"base\", \"base\", \"base\", \"base\", \"based\", \"based\", \"based\", \"based\", \"based\", \"based\", \"battery\", \"bearing\", \"biasing\", \"biometrics\", \"blind\", \"board\", \"board\", \"board\", \"board\", \"board\", \"body\", \"body\", \"bracket\", \"brake\", \"brake\", \"brake\", \"braking\", \"braking\", \"braking\", \"braking\", \"braking\", \"cable\", \"cable\", \"calculate\", \"calculation\", \"calibration\", \"calibration\", \"calibration\", \"camera\", \"camera\", \"camera\", \"capacitance\", \"capacitive\", \"capacitor\", \"captured\", \"captured\", \"charge\", \"charge\", \"charge\", \"charging\", \"chassis\", \"chassis\", \"checklist\", \"circuit\", \"cleaning\", \"cloud\", \"coil\", \"collision\", \"collision\", \"combining\", \"combustion\", \"command\", \"command\", \"command\", \"command\", \"command\", \"command\", \"communication\", \"communication\", \"communication\", \"communication\", \"communication\", \"communication\", \"completion\", \"component\", \"component\", \"component\", \"component\", \"component\", \"component\", \"comprises\", \"comprises\", \"comprises\", \"comprises\", \"comprises\", \"comprises\", \"comprises\", \"condition\", \"condition\", \"condition\", \"condition\", \"condition\", \"condition\", \"condition\", \"configurable\", \"configured\", \"configured\", \"configured\", \"configured\", \"configured\", \"configured\", \"configured\", \"connected\", \"connected\", \"connected\", \"connected\", \"construction\", \"construction\", \"construction\", \"contained\", \"contained\", \"contained\", \"container\", \"container\", \"control\", \"control\", \"control\", \"control\", \"control\", \"control\", \"control\", \"controlled\", \"controlled\", \"controlled\", \"controlled\", \"controlled\", \"controlled\", \"controlled\", \"controller\", \"controller\", \"controller\", \"controller\", \"controller\", \"controller\", \"controller\", \"conveyor\", \"cooling\", \"cooling\", \"coupled\", \"coupled\", \"coupled\", \"coupled\", \"coupled\", \"coupled\", \"course\", \"crop\", \"crowd\", \"current\", \"current\", \"current\", \"current\", \"current\", \"current\", \"data\", \"data\", \"data\", \"data\", \"data\", \"deceleration\", \"deep\", \"defect\", \"delay\", \"delay\", \"delivery\", \"delivery\", \"delivery\", \"delivery\", \"density\", \"density\", \"deploying\", \"deploying\", \"deploying\", \"describing\", \"destination\", \"destination\", \"detected\", \"detected\", \"detected\", \"detected\", \"detected\", \"detection\", \"detection\", \"detection\", \"detection\", \"detection\", \"determine\", \"determine\", \"determine\", \"determine\", \"determine\", \"determined\", \"determined\", \"determined\", \"determined\", \"determining\", \"determining\", \"determining\", \"detrimental\", \"device\", \"device\", \"device\", \"device\", \"device\", \"device\", \"device\", \"diagnosis\", \"diagnostic\", \"diode\", \"direction\", \"direction\", \"direction\", \"direction\", \"direction\", \"display\", \"display\", \"display\", \"domestic\", \"door\", \"door\", \"drone\", \"drone\", \"drum\", \"efficiency\", \"efficiency\", \"electric\", \"electric\", \"electric\", \"electrical\", \"electrical\", \"electrical\", \"electrical\", \"electricity\", \"electrode\", \"electronics\", \"element\", \"element\", \"element\", \"element\", \"element\", \"emission\", \"emit\", \"emitted\", \"emitter\", \"emitter\", \"emitting\", \"energy\", \"energy\", \"engine\", \"engine\", \"engine\", \"ensure\", \"environment\", \"environment\", \"environment\", \"equipment\", \"equipment\", \"equipment\", \"estimate\", \"estimate\", \"estimated\", \"estimated\", \"estimated\", \"evaluation\", \"evaluation\", \"event\", \"event\", \"event\", \"event\", \"execute\", \"execute\", \"execution\", \"execution\", \"execution\", \"exhaust\", \"exhaust\", \"exposed\", \"facial\", \"fastener\", \"faster\", \"faster\", \"fault\", \"feature\", \"feature\", \"feature\", \"feature\", \"feeding\", \"field\", \"field\", \"field\", \"field\", \"field\", \"film\", \"film\", \"finger\", \"finger\", \"finger\", \"flight\", \"flight\", \"flight\", \"floor\", \"floor\", \"fluid\", \"fluid\", \"fluid\", \"force\", \"force\", \"force\", \"frame\", \"frame\", \"frame\", \"frame\", \"frequency\", \"frequency\", \"frequency\", \"fuel\", \"fuel\", \"fuel\", \"fuel\", \"fuzzy\", \"gate\", \"gear\", \"gear\", \"generator\", \"geometrical\", \"guiding\", \"guiding\", \"guiding\", \"handle\", \"hardware\", \"hardware\", \"having\", \"having\", \"having\", \"having\", \"having\", \"having\", \"having\", \"hazard\", \"head\", \"head\", \"head\", \"head\", \"heading\", \"heat\", \"heat\", \"heat\", \"heating\", \"high\", \"high\", \"high\", \"high\", \"historical\", \"housing\", \"housing\", \"human\", \"human\", \"human\", \"human\", \"hybrid\", \"hydraulic\", \"hydraulic\", \"identified\", \"identified\", \"identified\", \"image\", \"image\", \"image\", \"image\", \"image\", \"include\", \"include\", \"include\", \"include\", \"include\", \"include\", \"include\", \"includes\", \"includes\", \"includes\", \"includes\", \"includes\", \"includes\", \"includes\", \"including\", \"including\", \"including\", \"including\", \"including\", \"including\", \"including\", \"information\", \"information\", \"information\", \"information\", \"input\", \"input\", \"input\", \"input\", \"input\", \"input\", \"inspection\", \"inspection\", \"instruction\", \"instruction\", \"instruction\", \"insurance\", \"intelligence\", \"interface\", \"interface\", \"interface\", \"interface\", \"interface\", \"intersection\", \"invention\", \"invention\", \"invention\", \"invention\", \"invention\", \"invention\", \"invention\", \"item\", \"item\", \"item\", \"joint\", \"lamp\", \"landmark\", \"landmark\", \"lane\", \"lane\", \"layer\", \"layer\", \"learning\", \"level\", \"level\", \"level\", \"level\", \"level\", \"lidar\", \"light\", \"light\", \"line\", \"line\", \"line\", \"localization\", \"location\", \"location\", \"location\", \"location\", \"location\", \"lock\", \"lock\", \"locking\", \"locking\", \"luminance\", \"luminous\", \"magnet\", \"magnetic\", \"magnetic\", \"magnetic\", \"maintaining\", \"management\", \"management\", \"management\", \"management\", \"managing\", \"manual\", \"manual\", \"map\", \"marine\", \"material\", \"material\", \"material\", \"matrix\", \"mean\", \"mean\", \"mean\", \"mean\", \"mean\", \"mean\", \"mechanism\", \"mechanism\", \"mechanism\", \"mechanism\", \"medical\", \"member\", \"member\", \"memory\", \"memory\", \"memory\", \"memory\", \"memory\", \"message\", \"message\", \"message\", \"method\", \"method\", \"method\", \"method\", \"method\", \"method\", \"method\", \"milling\", \"mitigation\", \"mobile\", \"mobile\", \"mobile\", \"mobile\", \"mode\", \"mode\", \"mode\", \"mode\", \"mode\", \"model\", \"modulated\", \"module\", \"module\", \"module\", \"module\", \"module\", \"module\", \"motor\", \"motor\", \"motor\", \"mount\", \"mounted\", \"mounted\", \"mounted\", \"mounted\", \"mounted\", \"mounted\", \"movable\", \"moved\", \"mutual\", \"navigation\", \"navigation\", \"navigation\", \"navigational\", \"object\", \"object\", \"object\", \"obstacle\", \"obstacle\", \"obstacle\", \"obstacle\", \"obtaining\", \"obtaining\", \"occupant\", \"occupant\", \"operated\", \"operated\", \"operated\", \"operating\", \"operating\", \"operating\", \"operating\", \"operating\", \"operating\", \"operating\", \"operation\", \"operation\", \"operation\", \"operation\", \"operation\", \"operation\", \"operation\", \"operational\", \"operational\", \"outer\", \"outer\", \"outlet\", \"output\", \"output\", \"output\", \"output\", \"output\", \"output\", \"panel\", \"panel\", \"parameter\", \"parameter\", \"parameter\", \"parameter\", \"park\", \"parking\", \"partial\", \"partial\", \"passenger\", \"passenger\", \"path\", \"path\", \"path\", \"path\", \"path\", \"perception\", \"perception\", \"period\", \"period\", \"period\", \"period\", \"period\", \"phase\", \"phase\", \"pickup\", \"pickup\", \"piston\", \"pivot\", \"pixel\", \"pixel\", \"planned\", \"planned\", \"planning\", \"plurality\", \"plurality\", \"plurality\", \"plurality\", \"plurality\", \"plurality\", \"plurality\", \"point\", \"point\", \"point\", \"point\", \"point\", \"point\", \"policy\", \"policy\", \"policy\", \"portion\", \"portion\", \"portion\", \"portion\", \"portion\", \"position\", \"position\", \"position\", \"position\", \"position\", \"position\", \"power\", \"power\", \"power\", \"powered\", \"powered\", \"powered\", \"powered\", \"preference\", \"presenting\", \"probability\", \"process\", \"process\", \"process\", \"process\", \"process\", \"process\", \"process\", \"processor\", \"processor\", \"processor\", \"processor\", \"product\", \"product\", \"program\", \"program\", \"program\", \"progress\", \"progress\", \"propelled\", \"propelled\", \"propelled\", \"propelled\", \"protection\", \"provided\", \"provided\", \"provided\", \"provided\", \"provided\", \"provided\", \"provided\", \"pull\", \"pull\", \"pulley\", \"pulse\", \"pump\", \"pump\", \"pump\", \"radar\", \"radar\", \"reaction\", \"reaction\", \"real\", \"real\", \"real\", \"rear\", \"rear\", \"rechargeable\", \"recognition\", \"recognition\", \"recognition\", \"recognize\", \"record\", \"record\", \"recovery\", \"recovery\", \"refresh\", \"remote\", \"remote\", \"remote\", \"remote\", \"request\", \"request\", \"request\", \"requesting\", \"requesting\", \"response\", \"response\", \"response\", \"response\", \"response\", \"response\", \"response\", \"ries\", \"ries\", \"ries\", \"right\", \"ring\", \"risk\", \"risk\", \"risk\", \"road\", \"road\", \"road\", \"road\", \"road\", \"roadway\", \"roadway\", \"roadway\", \"robot\", \"robot\", \"roller\", \"rotary\", \"rotatable\", \"rotate\", \"rotating\", \"rotation\", \"rotation\", \"route\", \"route\", \"routing\", \"row\", \"said\", \"said\", \"said\", \"said\", \"satellite\", \"satellite\", \"score\", \"screw\", \"sdvs\", \"sealing\", \"search\", \"search\", \"second\", \"second\", \"second\", \"second\", \"second\", \"second\", \"second\", \"secondary\", \"secondary\", \"secondary\", \"section\", \"section\", \"section\", \"section\", \"section\", \"segment\", \"segment\", \"seismic\", \"semantic\", \"semiconductor\", \"sends\", \"sense\", \"sense\", \"sense\", \"sensing\", \"sensing\", \"sensing\", \"sensor\", \"sensor\", \"sensor\", \"sensor\", \"sensor\", \"sensor\", \"separation\", \"separation\", \"separation\", \"service\", \"service\", \"shaft\", \"shaft\", \"show\", \"sign\", \"sign\", \"signal\", \"signal\", \"signal\", \"signal\", \"signal\", \"slower\", \"sound\", \"source\", \"source\", \"source\", \"source\", \"space\", \"space\", \"space\", \"space\", \"space\", \"space\", \"space\", \"specification\", \"speed\", \"speed\", \"speed\", \"speed\", \"speed\", \"spherical\", \"spring\", \"state\", \"state\", \"state\", \"state\", \"state\", \"state\", \"state\", \"station\", \"station\", \"station\", \"steering\", \"steering\", \"steering\", \"steering\", \"steering\", \"storage\", \"storage\", \"storage\", \"structure\", \"structure\", \"structure\", \"structure\", \"submersible\", \"subset\", \"substrate\", \"substrate\", \"supply\", \"supply\", \"supply\", \"support\", \"support\", \"support\", \"support\", \"support\", \"supporting\", \"supporting\", \"surface\", \"surface\", \"surface\", \"surface\", \"surrounding\", \"surrounding\", \"surrounding\", \"survey\", \"sustaining\", \"system\", \"system\", \"system\", \"system\", \"system\", \"taken\", \"target\", \"target\", \"target\", \"target\", \"target\", \"task\", \"task\", \"terminal\", \"terminal\", \"test\", \"test\", \"test\", \"text\", \"text\", \"thermal\", \"threshold\", \"threshold\", \"threshold\", \"throttle\", \"time\", \"time\", \"time\", \"time\", \"time\", \"torque\", \"torque\", \"touch\", \"traffic\", \"traffic\", \"trajectory\", \"trajectory\", \"transceiver\", \"transformer\", \"transistor\", \"transmitter\", \"transmitter\", \"travel\", \"travel\", \"travel\", \"travel\", \"travel\", \"traveled\", \"turbine\", \"underwater\", \"unit\", \"unit\", \"unit\", \"unit\", \"unit\", \"unit\", \"unmanned\", \"unmanned\", \"unmanned\", \"unmanned\", \"user\", \"user\", \"user\", \"user\", \"vacuum\", \"value\", \"value\", \"value\", \"value\", \"vessel\", \"vessel\", \"vessel\", \"voltage\", \"voltage\", \"waste\", \"water\", \"water\", \"water\", \"wheel\", \"wheel\", \"wind\", \"winding\", \"yield\", \"yield\", \"zone\"]}, \"R\": 30, \"lambda.step\": 0.01, \"plot.opts\": {\"xlab\": \"PC1\", \"ylab\": \"PC2\"}, \"topic.order\": [1, 2, 4, 7, 6, 5, 3]};\n",
       "\n",
       "function LDAvis_load_lib(url, callback){\n",
       "  var s = document.createElement('script');\n",
       "  s.src = url;\n",
       "  s.async = true;\n",
       "  s.onreadystatechange = s.onload = callback;\n",
       "  s.onerror = function(){console.warn(\"failed to load library \" + url);};\n",
       "  document.getElementsByTagName(\"head\")[0].appendChild(s);\n",
       "}\n",
       "\n",
       "if(typeof(LDAvis) !== \"undefined\"){\n",
       "   // already loaded: just create the visualization\n",
       "   !function(LDAvis){\n",
       "       new LDAvis(\"#\" + \"ldavis_el313622227332704963874061783\", ldavis_el313622227332704963874061783_data);\n",
       "   }(LDAvis);\n",
       "}else if(typeof define === \"function\" && define.amd){\n",
       "   // require.js is available: use it to load d3/LDAvis\n",
       "   require.config({paths: {d3: \"https://cdnjs.cloudflare.com/ajax/libs/d3/3.5.5/d3.min\"}});\n",
       "   require([\"d3\"], function(d3){\n",
       "      window.d3 = d3;\n",
       "      LDAvis_load_lib(\"https://cdn.rawgit.com/bmabey/pyLDAvis/files/ldavis.v1.0.0.js\", function(){\n",
       "        new LDAvis(\"#\" + \"ldavis_el313622227332704963874061783\", ldavis_el313622227332704963874061783_data);\n",
       "      });\n",
       "    });\n",
       "}else{\n",
       "    // require.js not available: dynamically load d3 & LDAvis\n",
       "    LDAvis_load_lib(\"https://cdnjs.cloudflare.com/ajax/libs/d3/3.5.5/d3.min.js\", function(){\n",
       "         LDAvis_load_lib(\"https://cdn.rawgit.com/bmabey/pyLDAvis/files/ldavis.v1.0.0.js\", function(){\n",
       "                 new LDAvis(\"#\" + \"ldavis_el313622227332704963874061783\", ldavis_el313622227332704963874061783_data);\n",
       "            })\n",
       "         });\n",
       "}\n",
       "</script>"
      ],
      "text/plain": [
       "<IPython.core.display.HTML object>"
      ]
     },
     "execution_count": 234,
     "metadata": {},
     "output_type": "execute_result"
    }
   ],
   "source": [
    "pyLDAvis.display(prepared_data_7)"
   ]
  },
  {
   "cell_type": "code",
   "execution_count": 261,
   "metadata": {},
   "outputs": [],
   "source": [
    "pyLDAvis.save_html(prepared_data_7, \"C:\\\\Users\\\\eric\\\\Desktop\\\\eric.html\")"
   ]
  },
  {
   "cell_type": "code",
   "execution_count": 236,
   "metadata": {},
   "outputs": [],
   "source": [
    "table=finding_dominant_topic(bow_corpus,lda_model_7)"
   ]
  },
  {
   "cell_type": "code",
   "execution_count": 218,
   "metadata": {},
   "outputs": [],
   "source": [
    "#t1-->0\n",
    "#t2-->1\n",
    "#t3-->3\n",
    "#t4-->6\n",
    "#t5-->5\n",
    "#t6-->4\n",
    "#t7-->2              반대로 읽기  & 테이블 csv 번호 == 원데이터 번호 (순서 같다 2면 2)"
   ]
  },
  {
   "cell_type": "code",
   "execution_count": 238,
   "metadata": {},
   "outputs": [
    {
     "data": {
      "text/html": [
       "<div>\n",
       "<style scoped>\n",
       "    .dataframe tbody tr th:only-of-type {\n",
       "        vertical-align: middle;\n",
       "    }\n",
       "\n",
       "    .dataframe tbody tr th {\n",
       "        vertical-align: top;\n",
       "    }\n",
       "\n",
       "    .dataframe thead th {\n",
       "        text-align: right;\n",
       "    }\n",
       "</style>\n",
       "<table border=\"1\" class=\"dataframe\">\n",
       "  <thead>\n",
       "    <tr style=\"text-align: right;\">\n",
       "      <th></th>\n",
       "      <th>dominant_topic</th>\n",
       "      <th>prob_topic</th>\n",
       "      <th>keyword_list</th>\n",
       "    </tr>\n",
       "  </thead>\n",
       "  <tbody>\n",
       "    <tr>\n",
       "      <th>0</th>\n",
       "      <td>3</td>\n",
       "      <td>0.7661</td>\n",
       "      <td>control, mode, user, method, configured, devic...</td>\n",
       "    </tr>\n",
       "    <tr>\n",
       "      <th>1</th>\n",
       "      <td>1</td>\n",
       "      <td>0.8169</td>\n",
       "      <td>information, object, based, data, method, sens...</td>\n",
       "    </tr>\n",
       "    <tr>\n",
       "      <th>2</th>\n",
       "      <td>3</td>\n",
       "      <td>0.3929</td>\n",
       "      <td>control, mode, user, method, configured, devic...</td>\n",
       "    </tr>\n",
       "    <tr>\n",
       "      <th>3</th>\n",
       "      <td>3</td>\n",
       "      <td>0.3952</td>\n",
       "      <td>control, mode, user, method, configured, devic...</td>\n",
       "    </tr>\n",
       "    <tr>\n",
       "      <th>4</th>\n",
       "      <td>6</td>\n",
       "      <td>0.8635</td>\n",
       "      <td>power, motor, control, steering, module, unit,...</td>\n",
       "    </tr>\n",
       "  </tbody>\n",
       "</table>\n",
       "</div>"
      ],
      "text/plain": [
       "   dominant_topic  prob_topic  \\\n",
       "0               3      0.7661   \n",
       "1               1      0.8169   \n",
       "2               3      0.3929   \n",
       "3               3      0.3952   \n",
       "4               6      0.8635   \n",
       "\n",
       "                                        keyword_list  \n",
       "0  control, mode, user, method, configured, devic...  \n",
       "1  information, object, based, data, method, sens...  \n",
       "2  control, mode, user, method, configured, devic...  \n",
       "3  control, mode, user, method, configured, devic...  \n",
       "4  power, motor, control, steering, module, unit,...  "
      ]
     },
     "execution_count": 238,
     "metadata": {},
     "output_type": "execute_result"
    }
   ],
   "source": [
    "table.head()"
   ]
  },
  {
   "cell_type": "code",
   "execution_count": 239,
   "metadata": {},
   "outputs": [
    {
     "data": {
      "text/plain": [
       "3920"
      ]
     },
     "execution_count": 239,
     "metadata": {},
     "output_type": "execute_result"
    }
   ],
   "source": [
    "len(table)"
   ]
  },
  {
   "cell_type": "code",
   "execution_count": 240,
   "metadata": {},
   "outputs": [],
   "source": [
    "table.to_csv(r'C:\\Users\\eric\\Desktop\\dominant_topic_7_noun.csv', index=False,encoding='utf8')"
   ]
  },
  {
   "cell_type": "code",
   "execution_count": null,
   "metadata": {},
   "outputs": [],
   "source": []
  },
  {
   "cell_type": "code",
   "execution_count": null,
   "metadata": {},
   "outputs": [],
   "source": []
  }
 ],
 "metadata": {
  "kernelspec": {
   "display_name": "Python 3",
   "language": "python",
   "name": "python3"
  },
  "language_info": {
   "codemirror_mode": {
    "name": "ipython",
    "version": 3
   },
   "file_extension": ".py",
   "mimetype": "text/x-python",
   "name": "python",
   "nbconvert_exporter": "python",
   "pygments_lexer": "ipython3",
   "version": "3.6.9"
  }
 },
 "nbformat": 4,
 "nbformat_minor": 4
}
